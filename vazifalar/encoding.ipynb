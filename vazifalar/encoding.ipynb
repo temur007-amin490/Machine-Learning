{
 "cells": [
  {
   "cell_type": "code",
   "execution_count": 40,
   "metadata": {},
   "outputs": [],
   "source": [
    "import pandas as pd\n",
    "import numpy as np\n",
    "import matplotlib.pyplot as plt\n",
    "import seaborn as sns"
   ]
  },
  {
   "cell_type": "code",
   "execution_count": 41,
   "metadata": {},
   "outputs": [],
   "source": [
    "df=pd.read_csv('top_expensive_leagues.csv')"
   ]
  },
  {
   "cell_type": "code",
   "execution_count": 42,
   "metadata": {},
   "outputs": [
    {
     "data": {
      "text/html": [
       "<div>\n",
       "<style scoped>\n",
       "    .dataframe tbody tr th:only-of-type {\n",
       "        vertical-align: middle;\n",
       "    }\n",
       "\n",
       "    .dataframe tbody tr th {\n",
       "        vertical-align: top;\n",
       "    }\n",
       "\n",
       "    .dataframe thead th {\n",
       "        text-align: right;\n",
       "    }\n",
       "</style>\n",
       "<table border=\"1\" class=\"dataframe\">\n",
       "  <thead>\n",
       "    <tr style=\"text-align: right;\">\n",
       "      <th></th>\n",
       "      <th>League ID</th>\n",
       "      <th>League Name</th>\n",
       "      <th>Country</th>\n",
       "      <th>Sport</th>\n",
       "      <th>Revenue (USD)</th>\n",
       "      <th>Average Player Salary (USD)</th>\n",
       "      <th>Top Team</th>\n",
       "      <th>Total Teams</th>\n",
       "      <th>Founded Year</th>\n",
       "      <th>Viewership</th>\n",
       "    </tr>\n",
       "  </thead>\n",
       "  <tbody>\n",
       "    <tr>\n",
       "      <th>0</th>\n",
       "      <td>L001</td>\n",
       "      <td>Premier League</td>\n",
       "      <td>England</td>\n",
       "      <td>Football</td>\n",
       "      <td>5.275330e+09</td>\n",
       "      <td>12080000.0</td>\n",
       "      <td>Liverpool</td>\n",
       "      <td>16</td>\n",
       "      <td>1886.0</td>\n",
       "      <td>485.90</td>\n",
       "    </tr>\n",
       "    <tr>\n",
       "      <th>1</th>\n",
       "      <td>L002</td>\n",
       "      <td>Serie A</td>\n",
       "      <td>India</td>\n",
       "      <td>American Football</td>\n",
       "      <td>7.088640e+09</td>\n",
       "      <td>6730000.0</td>\n",
       "      <td>Inter Milan</td>\n",
       "      <td>13</td>\n",
       "      <td>1977.0</td>\n",
       "      <td>135.01</td>\n",
       "    </tr>\n",
       "    <tr>\n",
       "      <th>2</th>\n",
       "      <td>L003</td>\n",
       "      <td>IPL</td>\n",
       "      <td>England</td>\n",
       "      <td>American Football</td>\n",
       "      <td>7.930520e+09</td>\n",
       "      <td>14360000.0</td>\n",
       "      <td>Chennai Super Kings</td>\n",
       "      <td>13</td>\n",
       "      <td>1979.0</td>\n",
       "      <td>157.49</td>\n",
       "    </tr>\n",
       "    <tr>\n",
       "      <th>3</th>\n",
       "      <td>L004</td>\n",
       "      <td>La Liga</td>\n",
       "      <td>Spain</td>\n",
       "      <td>American Football</td>\n",
       "      <td>4.972890e+09</td>\n",
       "      <td>13720000.0</td>\n",
       "      <td>Atletico Madrid</td>\n",
       "      <td>22</td>\n",
       "      <td>1999.0</td>\n",
       "      <td>245.71</td>\n",
       "    </tr>\n",
       "    <tr>\n",
       "      <th>4</th>\n",
       "      <td>L005</td>\n",
       "      <td>Serie A</td>\n",
       "      <td>Italy</td>\n",
       "      <td>Basketball</td>\n",
       "      <td>6.265740e+09</td>\n",
       "      <td>7450000.0</td>\n",
       "      <td>Juventus</td>\n",
       "      <td>16</td>\n",
       "      <td>1963.0</td>\n",
       "      <td>52.83</td>\n",
       "    </tr>\n",
       "  </tbody>\n",
       "</table>\n",
       "</div>"
      ],
      "text/plain": [
       "  League ID     League Name  Country              Sport  Revenue (USD)  \\\n",
       "0      L001  Premier League  England           Football   5.275330e+09   \n",
       "1      L002         Serie A    India  American Football   7.088640e+09   \n",
       "2      L003             IPL  England  American Football   7.930520e+09   \n",
       "3      L004         La Liga    Spain  American Football   4.972890e+09   \n",
       "4      L005         Serie A    Italy         Basketball   6.265740e+09   \n",
       "\n",
       "  Average Player Salary (USD)             Top Team  Total Teams  Founded Year  \\\n",
       "0                  12080000.0            Liverpool           16        1886.0   \n",
       "1                   6730000.0          Inter Milan           13        1977.0   \n",
       "2                  14360000.0  Chennai Super Kings           13        1979.0   \n",
       "3                  13720000.0      Atletico Madrid           22        1999.0   \n",
       "4                   7450000.0             Juventus           16        1963.0   \n",
       "\n",
       "   Viewership  \n",
       "0      485.90  \n",
       "1      135.01  \n",
       "2      157.49  \n",
       "3      245.71  \n",
       "4       52.83  "
      ]
     },
     "execution_count": 42,
     "metadata": {},
     "output_type": "execute_result"
    }
   ],
   "source": [
    "df.head()"
   ]
  },
  {
   "cell_type": "code",
   "execution_count": 43,
   "metadata": {},
   "outputs": [
    {
     "data": {
      "text/plain": [
       "League ID                      0\n",
       "League Name                    0\n",
       "Country                        0\n",
       "Sport                          0\n",
       "Revenue (USD)                  0\n",
       "Average Player Salary (USD)    0\n",
       "Top Team                       0\n",
       "Total Teams                    0\n",
       "Founded Year                   0\n",
       "Viewership                     4\n",
       "dtype: int64"
      ]
     },
     "execution_count": 43,
     "metadata": {},
     "output_type": "execute_result"
    }
   ],
   "source": [
    "df.isnull().sum(\n",
    "    \n",
    ")"
   ]
  },
  {
   "cell_type": "code",
   "execution_count": 44,
   "metadata": {},
   "outputs": [
    {
     "name": "stdout",
     "output_type": "stream",
     "text": [
      "<class 'pandas.core.frame.DataFrame'>\n",
      "RangeIndex: 700 entries, 0 to 699\n",
      "Data columns (total 10 columns):\n",
      " #   Column                       Non-Null Count  Dtype  \n",
      "---  ------                       --------------  -----  \n",
      " 0   League ID                    700 non-null    object \n",
      " 1   League Name                  700 non-null    object \n",
      " 2   Country                      700 non-null    object \n",
      " 3   Sport                        700 non-null    object \n",
      " 4   Revenue (USD)                700 non-null    float64\n",
      " 5   Average Player Salary (USD)  700 non-null    object \n",
      " 6   Top Team                     700 non-null    object \n",
      " 7   Total Teams                  700 non-null    int64  \n",
      " 8   Founded Year                 700 non-null    float64\n",
      " 9   Viewership                   696 non-null    float64\n",
      "dtypes: float64(3), int64(1), object(6)\n",
      "memory usage: 54.8+ KB\n"
     ]
    }
   ],
   "source": [
    "df.info()"
   ]
  },
  {
   "cell_type": "code",
   "execution_count": 45,
   "metadata": {},
   "outputs": [
    {
     "name": "stderr",
     "output_type": "stream",
     "text": [
      "C:\\Users\\davro\\AppData\\Local\\Temp\\ipykernel_36220\\491179418.py:1: FutureWarning: A value is trying to be set on a copy of a DataFrame or Series through chained assignment using an inplace method.\n",
      "The behavior will change in pandas 3.0. This inplace method will never work because the intermediate object on which we are setting values always behaves as a copy.\n",
      "\n",
      "For example, when doing 'df[col].method(value, inplace=True)', try using 'df.method({col: value}, inplace=True)' or df[col] = df[col].method(value) instead, to perform the operation inplace on the original object.\n",
      "\n",
      "\n",
      "  df['Viewership'].fillna(df['Viewership'].mean(),inplace=True)\n"
     ]
    }
   ],
   "source": [
    "df['Viewership'].fillna(df['Viewership'].mean(),inplace=True)"
   ]
  },
  {
   "cell_type": "code",
   "execution_count": 46,
   "metadata": {},
   "outputs": [
    {
     "data": {
      "text/plain": [
       "League ID                      0\n",
       "League Name                    0\n",
       "Country                        0\n",
       "Sport                          0\n",
       "Revenue (USD)                  0\n",
       "Average Player Salary (USD)    0\n",
       "Top Team                       0\n",
       "Total Teams                    0\n",
       "Founded Year                   0\n",
       "Viewership                     0\n",
       "dtype: int64"
      ]
     },
     "execution_count": 46,
     "metadata": {},
     "output_type": "execute_result"
    }
   ],
   "source": [
    "df.isnull().sum(\n",
    "    \n",
    ")"
   ]
  },
  {
   "cell_type": "code",
   "execution_count": 47,
   "metadata": {},
   "outputs": [
    {
     "name": "stdout",
     "output_type": "stream",
     "text": [
      "<class 'pandas.core.frame.DataFrame'>\n",
      "RangeIndex: 700 entries, 0 to 699\n",
      "Data columns (total 10 columns):\n",
      " #   Column                       Non-Null Count  Dtype  \n",
      "---  ------                       --------------  -----  \n",
      " 0   League ID                    700 non-null    object \n",
      " 1   League Name                  700 non-null    object \n",
      " 2   Country                      700 non-null    object \n",
      " 3   Sport                        700 non-null    object \n",
      " 4   Revenue (USD)                700 non-null    float64\n",
      " 5   Average Player Salary (USD)  700 non-null    object \n",
      " 6   Top Team                     700 non-null    object \n",
      " 7   Total Teams                  700 non-null    int64  \n",
      " 8   Founded Year                 700 non-null    float64\n",
      " 9   Viewership                   700 non-null    float64\n",
      "dtypes: float64(3), int64(1), object(6)\n",
      "memory usage: 54.8+ KB\n"
     ]
    }
   ],
   "source": [
    "df.info()"
   ]
  },
  {
   "cell_type": "code",
   "execution_count": 51,
   "metadata": {},
   "outputs": [
    {
     "data": {
      "text/plain": [
       "8"
      ]
     },
     "execution_count": 51,
     "metadata": {},
     "output_type": "execute_result"
    }
   ],
   "source": [
    "len(df['League Name'].value_counts())"
   ]
  },
  {
   "cell_type": "code",
   "execution_count": 53,
   "metadata": {},
   "outputs": [
    {
     "data": {
      "text/plain": [
       "700"
      ]
     },
     "execution_count": 53,
     "metadata": {},
     "output_type": "execute_result"
    }
   ],
   "source": [
    "len(df['League ID'].value_counts())"
   ]
  },
  {
   "cell_type": "code",
   "execution_count": null,
   "metadata": {},
   "outputs": [],
   "source": []
  },
  {
   "cell_type": "code",
   "execution_count": 56,
   "metadata": {},
   "outputs": [],
   "source": [
    "cat_col=df.select_dtypes(include=['object']).columns.to_list()"
   ]
  },
  {
   "cell_type": "code",
   "execution_count": 57,
   "metadata": {},
   "outputs": [
    {
     "data": {
      "text/plain": [
       "['League ID',\n",
       " 'League Name',\n",
       " 'Country',\n",
       " 'Sport',\n",
       " 'Average Player Salary (USD)',\n",
       " 'Top Team']"
      ]
     },
     "execution_count": 57,
     "metadata": {},
     "output_type": "execute_result"
    }
   ],
   "source": [
    "cat_col"
   ]
  },
  {
   "cell_type": "code",
   "execution_count": 58,
   "metadata": {},
   "outputs": [],
   "source": [
    "cardinality = df[cat_col].nunique()"
   ]
  },
  {
   "cell_type": "code",
   "execution_count": 59,
   "metadata": {},
   "outputs": [
    {
     "data": {
      "text/plain": [
       "League ID                      700\n",
       "League Name                      8\n",
       "Country                          7\n",
       "Sport                            4\n",
       "Average Player Salary (USD)    542\n",
       "Top Team                        28\n",
       "dtype: int64"
      ]
     },
     "execution_count": 59,
     "metadata": {},
     "output_type": "execute_result"
    }
   ],
   "source": [
    "cardinality"
   ]
  },
  {
   "cell_type": "code",
   "execution_count": 60,
   "metadata": {},
   "outputs": [],
   "source": [
    "high_cardinality_columns = [col for col, card in cardinality.items() if card > 10]\n",
    "low_cardinality_columns = [col for col, card in cardinality.items() if card <= 10]"
   ]
  },
  {
   "cell_type": "code",
   "execution_count": 61,
   "metadata": {},
   "outputs": [
    {
     "data": {
      "text/plain": [
       "['League ID', 'Average Player Salary (USD)', 'Top Team']"
      ]
     },
     "execution_count": 61,
     "metadata": {},
     "output_type": "execute_result"
    }
   ],
   "source": [
    "high_cardinality_columns"
   ]
  },
  {
   "cell_type": "code",
   "execution_count": 63,
   "metadata": {},
   "outputs": [
    {
     "data": {
      "text/plain": [
       "['League Name', 'Country', 'Sport']"
      ]
     },
     "execution_count": 63,
     "metadata": {},
     "output_type": "execute_result"
    }
   ],
   "source": [
    "low_cardinality_columns"
   ]
  },
  {
   "cell_type": "code",
   "execution_count": 64,
   "metadata": {},
   "outputs": [],
   "source": [
    "df_one_hot = pd.get_dummies(df[low_cardinality_columns], drop_first=True)\n",
    "\n",
    "\n",
    "\n"
   ]
  },
  {
   "cell_type": "code",
   "execution_count": 65,
   "metadata": {},
   "outputs": [
    {
     "name": "stdout",
     "output_type": "stream",
     "text": [
      "<class 'pandas.core.frame.DataFrame'>\n",
      "RangeIndex: 700 entries, 0 to 699\n",
      "Data columns (total 16 columns):\n",
      " #   Column                      Non-Null Count  Dtype\n",
      "---  ------                      --------------  -----\n",
      " 0   League Name_IPL             700 non-null    bool \n",
      " 1   League Name_La Liga         700 non-null    bool \n",
      " 2   League Name_Ligue 1         700 non-null    bool \n",
      " 3   League Name_NBA             700 non-null    bool \n",
      " 4   League Name_NFL             700 non-null    bool \n",
      " 5   League Name_Premier League  700 non-null    bool \n",
      " 6   League Name_Serie A         700 non-null    bool \n",
      " 7   Country_France              700 non-null    bool \n",
      " 8   Country_Germany             700 non-null    bool \n",
      " 9   Country_India               700 non-null    bool \n",
      " 10  Country_Italy               700 non-null    bool \n",
      " 11  Country_Spain               700 non-null    bool \n",
      " 12  Country_USA                 700 non-null    bool \n",
      " 13  Sport_Basketball            700 non-null    bool \n",
      " 14  Sport_Cricket               700 non-null    bool \n",
      " 15  Sport_Football              700 non-null    bool \n",
      "dtypes: bool(16)\n",
      "memory usage: 11.1 KB\n"
     ]
    }
   ],
   "source": [
    "df_one_hot.info()"
   ]
  },
  {
   "cell_type": "code",
   "execution_count": 66,
   "metadata": {},
   "outputs": [],
   "source": [
    "df_one_hot = df_one_hot.astype(int)"
   ]
  },
  {
   "cell_type": "code",
   "execution_count": 67,
   "metadata": {},
   "outputs": [],
   "source": [
    "df = df.drop(columns=low_cardinality_columns).join(df_one_hot)"
   ]
  },
  {
   "cell_type": "code",
   "execution_count": 68,
   "metadata": {},
   "outputs": [
    {
     "name": "stdout",
     "output_type": "stream",
     "text": [
      "<class 'pandas.core.frame.DataFrame'>\n",
      "RangeIndex: 700 entries, 0 to 699\n",
      "Data columns (total 23 columns):\n",
      " #   Column                       Non-Null Count  Dtype  \n",
      "---  ------                       --------------  -----  \n",
      " 0   League ID                    700 non-null    object \n",
      " 1   Revenue (USD)                700 non-null    float64\n",
      " 2   Average Player Salary (USD)  700 non-null    object \n",
      " 3   Top Team                     700 non-null    object \n",
      " 4   Total Teams                  700 non-null    int64  \n",
      " 5   Founded Year                 700 non-null    float64\n",
      " 6   Viewership                   700 non-null    float64\n",
      " 7   League Name_IPL              700 non-null    int64  \n",
      " 8   League Name_La Liga          700 non-null    int64  \n",
      " 9   League Name_Ligue 1          700 non-null    int64  \n",
      " 10  League Name_NBA              700 non-null    int64  \n",
      " 11  League Name_NFL              700 non-null    int64  \n",
      " 12  League Name_Premier League   700 non-null    int64  \n",
      " 13  League Name_Serie A          700 non-null    int64  \n",
      " 14  Country_France               700 non-null    int64  \n",
      " 15  Country_Germany              700 non-null    int64  \n",
      " 16  Country_India                700 non-null    int64  \n",
      " 17  Country_Italy                700 non-null    int64  \n",
      " 18  Country_Spain                700 non-null    int64  \n",
      " 19  Country_USA                  700 non-null    int64  \n",
      " 20  Sport_Basketball             700 non-null    int64  \n",
      " 21  Sport_Cricket                700 non-null    int64  \n",
      " 22  Sport_Football               700 non-null    int64  \n",
      "dtypes: float64(3), int64(17), object(3)\n",
      "memory usage: 125.9+ KB\n"
     ]
    }
   ],
   "source": [
    "df.info()"
   ]
  },
  {
   "cell_type": "code",
   "execution_count": 70,
   "metadata": {},
   "outputs": [
    {
     "data": {
      "text/plain": [
       "['League ID', 'Average Player Salary (USD)', 'Top Team']"
      ]
     },
     "execution_count": 70,
     "metadata": {},
     "output_type": "execute_result"
    }
   ],
   "source": [
    "high_cardinality_columns"
   ]
  },
  {
   "cell_type": "code",
   "execution_count": 71,
   "metadata": {},
   "outputs": [],
   "source": [
    "from sklearn.preprocessing import LabelEncoder\n"
   ]
  },
  {
   "cell_type": "code",
   "execution_count": 72,
   "metadata": {},
   "outputs": [],
   "source": [
    "label_encoder = LabelEncoder()\n",
    "df[high_cardinality_columns] = df[high_cardinality_columns].apply(label_encoder.fit_transform)"
   ]
  },
  {
   "cell_type": "code",
   "execution_count": 73,
   "metadata": {},
   "outputs": [
    {
     "name": "stdout",
     "output_type": "stream",
     "text": [
      "<class 'pandas.core.frame.DataFrame'>\n",
      "RangeIndex: 700 entries, 0 to 699\n",
      "Data columns (total 23 columns):\n",
      " #   Column                       Non-Null Count  Dtype  \n",
      "---  ------                       --------------  -----  \n",
      " 0   League ID                    700 non-null    int64  \n",
      " 1   Revenue (USD)                700 non-null    float64\n",
      " 2   Average Player Salary (USD)  700 non-null    int64  \n",
      " 3   Top Team                     700 non-null    int64  \n",
      " 4   Total Teams                  700 non-null    int64  \n",
      " 5   Founded Year                 700 non-null    float64\n",
      " 6   Viewership                   700 non-null    float64\n",
      " 7   League Name_IPL              700 non-null    int64  \n",
      " 8   League Name_La Liga          700 non-null    int64  \n",
      " 9   League Name_Ligue 1          700 non-null    int64  \n",
      " 10  League Name_NBA              700 non-null    int64  \n",
      " 11  League Name_NFL              700 non-null    int64  \n",
      " 12  League Name_Premier League   700 non-null    int64  \n",
      " 13  League Name_Serie A          700 non-null    int64  \n",
      " 14  Country_France               700 non-null    int64  \n",
      " 15  Country_Germany              700 non-null    int64  \n",
      " 16  Country_India                700 non-null    int64  \n",
      " 17  Country_Italy                700 non-null    int64  \n",
      " 18  Country_Spain                700 non-null    int64  \n",
      " 19  Country_USA                  700 non-null    int64  \n",
      " 20  Sport_Basketball             700 non-null    int64  \n",
      " 21  Sport_Cricket                700 non-null    int64  \n",
      " 22  Sport_Football               700 non-null    int64  \n",
      "dtypes: float64(3), int64(20)\n",
      "memory usage: 125.9 KB\n"
     ]
    }
   ],
   "source": [
    "df.info()"
   ]
  },
  {
   "cell_type": "code",
   "execution_count": 74,
   "metadata": {},
   "outputs": [
    {
     "data": {
      "text/html": [
       "<div>\n",
       "<style scoped>\n",
       "    .dataframe tbody tr th:only-of-type {\n",
       "        vertical-align: middle;\n",
       "    }\n",
       "\n",
       "    .dataframe tbody tr th {\n",
       "        vertical-align: top;\n",
       "    }\n",
       "\n",
       "    .dataframe thead th {\n",
       "        text-align: right;\n",
       "    }\n",
       "</style>\n",
       "<table border=\"1\" class=\"dataframe\">\n",
       "  <thead>\n",
       "    <tr style=\"text-align: right;\">\n",
       "      <th></th>\n",
       "      <th>League ID</th>\n",
       "      <th>Revenue (USD)</th>\n",
       "      <th>Average Player Salary (USD)</th>\n",
       "      <th>Top Team</th>\n",
       "      <th>Total Teams</th>\n",
       "      <th>Founded Year</th>\n",
       "      <th>Viewership</th>\n",
       "      <th>League Name_IPL</th>\n",
       "      <th>League Name_La Liga</th>\n",
       "      <th>League Name_Ligue 1</th>\n",
       "      <th>...</th>\n",
       "      <th>League Name_Serie A</th>\n",
       "      <th>Country_France</th>\n",
       "      <th>Country_Germany</th>\n",
       "      <th>Country_India</th>\n",
       "      <th>Country_Italy</th>\n",
       "      <th>Country_Spain</th>\n",
       "      <th>Country_USA</th>\n",
       "      <th>Sport_Basketball</th>\n",
       "      <th>Sport_Cricket</th>\n",
       "      <th>Sport_Football</th>\n",
       "    </tr>\n",
       "  </thead>\n",
       "  <tbody>\n",
       "    <tr>\n",
       "      <th>0</th>\n",
       "      <td>0</td>\n",
       "      <td>5.275330e+09</td>\n",
       "      <td>74</td>\n",
       "      <td>16</td>\n",
       "      <td>16</td>\n",
       "      <td>1886.0</td>\n",
       "      <td>485.90</td>\n",
       "      <td>0</td>\n",
       "      <td>0</td>\n",
       "      <td>0</td>\n",
       "      <td>...</td>\n",
       "      <td>0</td>\n",
       "      <td>0</td>\n",
       "      <td>0</td>\n",
       "      <td>0</td>\n",
       "      <td>0</td>\n",
       "      <td>0</td>\n",
       "      <td>0</td>\n",
       "      <td>0</td>\n",
       "      <td>0</td>\n",
       "      <td>1</td>\n",
       "    </tr>\n",
       "    <tr>\n",
       "      <th>1</th>\n",
       "      <td>1</td>\n",
       "      <td>7.088640e+09</td>\n",
       "      <td>418</td>\n",
       "      <td>13</td>\n",
       "      <td>13</td>\n",
       "      <td>1977.0</td>\n",
       "      <td>135.01</td>\n",
       "      <td>0</td>\n",
       "      <td>0</td>\n",
       "      <td>0</td>\n",
       "      <td>...</td>\n",
       "      <td>1</td>\n",
       "      <td>0</td>\n",
       "      <td>0</td>\n",
       "      <td>1</td>\n",
       "      <td>0</td>\n",
       "      <td>0</td>\n",
       "      <td>0</td>\n",
       "      <td>0</td>\n",
       "      <td>0</td>\n",
       "      <td>0</td>\n",
       "    </tr>\n",
       "    <tr>\n",
       "      <th>2</th>\n",
       "      <td>2</td>\n",
       "      <td>7.930520e+09</td>\n",
       "      <td>179</td>\n",
       "      <td>9</td>\n",
       "      <td>13</td>\n",
       "      <td>1979.0</td>\n",
       "      <td>157.49</td>\n",
       "      <td>1</td>\n",
       "      <td>0</td>\n",
       "      <td>0</td>\n",
       "      <td>...</td>\n",
       "      <td>0</td>\n",
       "      <td>0</td>\n",
       "      <td>0</td>\n",
       "      <td>0</td>\n",
       "      <td>0</td>\n",
       "      <td>0</td>\n",
       "      <td>0</td>\n",
       "      <td>0</td>\n",
       "      <td>0</td>\n",
       "      <td>0</td>\n",
       "    </tr>\n",
       "    <tr>\n",
       "      <th>3</th>\n",
       "      <td>3</td>\n",
       "      <td>4.972890e+09</td>\n",
       "      <td>146</td>\n",
       "      <td>5</td>\n",
       "      <td>22</td>\n",
       "      <td>1999.0</td>\n",
       "      <td>245.71</td>\n",
       "      <td>0</td>\n",
       "      <td>1</td>\n",
       "      <td>0</td>\n",
       "      <td>...</td>\n",
       "      <td>0</td>\n",
       "      <td>0</td>\n",
       "      <td>0</td>\n",
       "      <td>0</td>\n",
       "      <td>0</td>\n",
       "      <td>1</td>\n",
       "      <td>0</td>\n",
       "      <td>0</td>\n",
       "      <td>0</td>\n",
       "      <td>0</td>\n",
       "    </tr>\n",
       "    <tr>\n",
       "      <th>4</th>\n",
       "      <td>4</td>\n",
       "      <td>6.265740e+09</td>\n",
       "      <td>439</td>\n",
       "      <td>14</td>\n",
       "      <td>16</td>\n",
       "      <td>1963.0</td>\n",
       "      <td>52.83</td>\n",
       "      <td>0</td>\n",
       "      <td>0</td>\n",
       "      <td>0</td>\n",
       "      <td>...</td>\n",
       "      <td>1</td>\n",
       "      <td>0</td>\n",
       "      <td>0</td>\n",
       "      <td>0</td>\n",
       "      <td>1</td>\n",
       "      <td>0</td>\n",
       "      <td>0</td>\n",
       "      <td>1</td>\n",
       "      <td>0</td>\n",
       "      <td>0</td>\n",
       "    </tr>\n",
       "  </tbody>\n",
       "</table>\n",
       "<p>5 rows × 23 columns</p>\n",
       "</div>"
      ],
      "text/plain": [
       "   League ID  Revenue (USD)  Average Player Salary (USD)  Top Team  \\\n",
       "0          0   5.275330e+09                           74        16   \n",
       "1          1   7.088640e+09                          418        13   \n",
       "2          2   7.930520e+09                          179         9   \n",
       "3          3   4.972890e+09                          146         5   \n",
       "4          4   6.265740e+09                          439        14   \n",
       "\n",
       "   Total Teams  Founded Year  Viewership  League Name_IPL  \\\n",
       "0           16        1886.0      485.90                0   \n",
       "1           13        1977.0      135.01                0   \n",
       "2           13        1979.0      157.49                1   \n",
       "3           22        1999.0      245.71                0   \n",
       "4           16        1963.0       52.83                0   \n",
       "\n",
       "   League Name_La Liga  League Name_Ligue 1  ...  League Name_Serie A  \\\n",
       "0                    0                    0  ...                    0   \n",
       "1                    0                    0  ...                    1   \n",
       "2                    0                    0  ...                    0   \n",
       "3                    1                    0  ...                    0   \n",
       "4                    0                    0  ...                    1   \n",
       "\n",
       "   Country_France  Country_Germany  Country_India  Country_Italy  \\\n",
       "0               0                0              0              0   \n",
       "1               0                0              1              0   \n",
       "2               0                0              0              0   \n",
       "3               0                0              0              0   \n",
       "4               0                0              0              1   \n",
       "\n",
       "   Country_Spain  Country_USA  Sport_Basketball  Sport_Cricket  Sport_Football  \n",
       "0              0            0                 0              0               1  \n",
       "1              0            0                 0              0               0  \n",
       "2              0            0                 0              0               0  \n",
       "3              1            0                 0              0               0  \n",
       "4              0            0                 1              0               0  \n",
       "\n",
       "[5 rows x 23 columns]"
      ]
     },
     "execution_count": 74,
     "metadata": {},
     "output_type": "execute_result"
    }
   ],
   "source": [
    "df.head()"
   ]
  },
  {
   "cell_type": "code",
   "execution_count": null,
   "metadata": {},
   "outputs": [],
   "source": []
  }
 ],
 "metadata": {
  "kernelspec": {
   "display_name": "Python 3",
   "language": "python",
   "name": "python3"
  },
  "language_info": {
   "codemirror_mode": {
    "name": "ipython",
    "version": 3
   },
   "file_extension": ".py",
   "mimetype": "text/x-python",
   "name": "python",
   "nbconvert_exporter": "python",
   "pygments_lexer": "ipython3",
   "version": "3.13.0"
  }
 },
 "nbformat": 4,
 "nbformat_minor": 2
}
