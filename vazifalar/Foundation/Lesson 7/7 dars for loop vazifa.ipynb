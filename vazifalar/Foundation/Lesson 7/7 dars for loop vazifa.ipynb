{
 "cells": [
  {
   "cell_type": "markdown",
   "metadata": {},
   "source": [
    "# dastlabki codes block\n",
    "for i in a:"
   ]
  },
  {
   "cell_type": "code",
   "execution_count": 1,
   "metadata": {},
   "outputs": [
    {
     "name": "stdout",
     "output_type": "stream",
     "text": [
      "[1, 3, 5, 7, 9]\n"
     ]
    }
   ],
   "source": [
    "x=[1,3,5,7,9]\n",
    "print(x)"
   ]
  },
  {
   "cell_type": "code",
   "execution_count": 3,
   "metadata": {},
   "outputs": [
    {
     "name": "stdout",
     "output_type": "stream",
     "text": [
      "1\n",
      "3\n",
      "5\n",
      "7\n",
      "9\n"
     ]
    }
   ],
   "source": [
    "print(x[0])\n",
    "print(x[1])\n",
    "print(x[2])\n",
    "print(x[3])\n",
    "print(x[4])"
   ]
  },
  {
   "cell_type": "code",
   "execution_count": 1,
   "metadata": {},
   "outputs": [
    {
     "data": {
      "text/plain": [
       "int"
      ]
     },
     "execution_count": 1,
     "metadata": {},
     "output_type": "execute_result"
    }
   ],
   "source": [
    "a=40\n",
    "type(a)"
   ]
  },
  {
   "cell_type": "code",
   "execution_count": 4,
   "metadata": {},
   "outputs": [
    {
     "name": "stdout",
     "output_type": "stream",
     "text": [
      "1\n",
      "3\n",
      "5\n",
      "7\n",
      "9\n"
     ]
    }
   ],
   "source": [
    "for i in x:\n",
    "    print(i)"
   ]
  },
  {
   "cell_type": "markdown",
   "metadata": {},
   "source": [
    "# Range ya'ni ma'lum bir intervaldagi sonlar "
   ]
  },
  {
   "cell_type": "code",
   "execution_count": 18,
   "metadata": {},
   "outputs": [
    {
     "name": "stdout",
     "output_type": "stream",
     "text": [
      "1\n",
      "2\n",
      "3\n",
      "4\n",
      "5\n",
      "6\n",
      "7\n",
      "8\n",
      "9\n",
      "10\n"
     ]
    }
   ],
   "source": [
    "for i in range(1,11):\n",
    "    print(i)"
   ]
  },
  {
   "cell_type": "code",
   "execution_count": 7,
   "metadata": {},
   "outputs": [
    {
     "name": "stdout",
     "output_type": "stream",
     "text": [
      "100\n",
      "101\n",
      "102\n",
      "103\n",
      "104\n",
      "105\n",
      "106\n",
      "107\n",
      "108\n",
      "109\n",
      "110\n",
      "111\n",
      "112\n",
      "113\n",
      "114\n",
      "115\n",
      "116\n",
      "117\n",
      "118\n",
      "119\n",
      "120\n",
      "121\n",
      "122\n",
      "123\n",
      "124\n",
      "125\n",
      "126\n",
      "127\n",
      "128\n",
      "129\n",
      "130\n",
      "131\n",
      "132\n",
      "133\n",
      "134\n",
      "135\n",
      "136\n",
      "137\n",
      "138\n",
      "139\n",
      "140\n",
      "141\n",
      "142\n",
      "143\n",
      "144\n",
      "145\n",
      "146\n",
      "147\n",
      "148\n",
      "149\n",
      "150\n",
      "151\n",
      "152\n",
      "153\n",
      "154\n",
      "155\n",
      "156\n",
      "157\n",
      "158\n",
      "159\n",
      "160\n",
      "161\n",
      "162\n",
      "163\n",
      "164\n",
      "165\n",
      "166\n",
      "167\n",
      "168\n",
      "169\n",
      "170\n",
      "171\n",
      "172\n",
      "173\n",
      "174\n",
      "175\n",
      "176\n",
      "177\n",
      "178\n",
      "179\n",
      "180\n",
      "181\n",
      "182\n",
      "183\n",
      "184\n",
      "185\n",
      "186\n",
      "187\n",
      "188\n",
      "189\n",
      "190\n",
      "191\n",
      "192\n",
      "193\n",
      "194\n",
      "195\n",
      "196\n",
      "197\n",
      "198\n",
      "199\n",
      "200\n"
     ]
    }
   ],
   "source": [
    "for i in range (100,201):\n",
    "    print (i)"
   ]
  },
  {
   "cell_type": "markdown",
   "metadata": {},
   "source": [
    "# turli type dagi datalar bilan va ularni bitta code da aralashtirgan holda ishlatamiz"
   ]
  },
  {
   "cell_type": "code",
   "execution_count": 9,
   "metadata": {},
   "outputs": [
    {
     "name": "stdout",
     "output_type": "stream",
     "text": [
      "3\n",
      "yes\n",
      "3.2\n",
      "True\n"
     ]
    }
   ],
   "source": [
    "z=[3,'yes',3.2,True]\n",
    "for i in z:\n",
    " print (i)"
   ]
  },
  {
   "cell_type": "code",
   "execution_count": 14,
   "metadata": {},
   "outputs": [
    {
     "name": "stdout",
     "output_type": "stream",
     "text": [
      "Temur\n",
      "700\n",
      "0.25\n",
      "False\n"
     ]
    }
   ],
   "source": [
    "s=['Temur',700,0.25,False]\n",
    "for i in s:\n",
    "    print(i)"
   ]
  },
  {
   "cell_type": "markdown",
   "metadata": {},
   "source": [
    "# Range ya'ni ma'lum bir intervaldagi sonlar yig'indisi"
   ]
  },
  {
   "cell_type": "code",
   "execution_count": null,
   "metadata": {},
   "outputs": [
    {
     "name": "stdout",
     "output_type": "stream",
     "text": [
      "1\n",
      "2\n",
      "3\n",
      "4\n",
      "5\n",
      "6\n",
      "7\n",
      "8\n",
      "9\n",
      "10\n",
      "11\n",
      "12\n",
      "78\n"
     ]
    }
   ],
   "source": [
    "sum1=0\n",
    "for i in range(1,13):\n",
    "    sum1=sum1+i                    \n",
    "    print (i)                        \n",
    "print (sum1)"
   ]
  },
  {
   "cell_type": "code",
   "execution_count": 27,
   "metadata": {},
   "outputs": [
    {
     "name": "stdout",
     "output_type": "stream",
     "text": [
      "100\n",
      "101\n",
      "102\n",
      "103\n",
      "104\n",
      "105\n",
      "106\n",
      "107\n",
      "108\n",
      "109\n",
      "110\n",
      "111\n",
      "112\n",
      "113\n",
      "114\n",
      "115\n",
      "116\n",
      "117\n",
      "118\n",
      "119\n",
      "120\n",
      "121\n",
      "122\n",
      "123\n",
      "124\n",
      "125\n",
      "126\n",
      "127\n",
      "128\n",
      "129\n",
      "130\n",
      "131\n",
      "132\n",
      "133\n",
      "134\n",
      "135\n",
      "136\n",
      "137\n",
      "138\n",
      "139\n",
      "140\n",
      "141\n",
      "142\n",
      "143\n",
      "144\n",
      "145\n",
      "146\n",
      "147\n",
      "148\n",
      "149\n",
      "150\n",
      "151\n",
      "152\n",
      "153\n",
      "154\n",
      "155\n",
      "156\n",
      "157\n",
      "158\n",
      "159\n",
      "160\n",
      "161\n",
      "162\n",
      "163\n",
      "164\n",
      "165\n",
      "166\n",
      "167\n",
      "168\n",
      "169\n",
      "170\n",
      "171\n",
      "172\n",
      "173\n",
      "174\n",
      "175\n",
      "176\n",
      "177\n",
      "178\n",
      "179\n",
      "180\n",
      "181\n",
      "182\n",
      "183\n",
      "184\n",
      "185\n",
      "186\n",
      "187\n",
      "188\n",
      "189\n",
      "190\n",
      "191\n",
      "192\n",
      "193\n",
      "194\n",
      "195\n",
      "196\n",
      "197\n",
      "198\n",
      "199\n",
      "200\n",
      "15150\n"
     ]
    }
   ],
   "source": [
    "sum1=0\n",
    "for i in range (100,201):\n",
    "     sum1=sum1+i\n",
    "     print (i)\n",
    "print(sum1)     "
   ]
  },
  {
   "cell_type": "markdown",
   "metadata": {},
   "source": [
    "# Range ya'ni ma'lum bir intervaldagi sonlar kopaytmasi"
   ]
  },
  {
   "cell_type": "code",
   "execution_count": 46,
   "metadata": {},
   "outputs": [
    {
     "name": "stdout",
     "output_type": "stream",
     "text": [
      "1\n",
      "2\n",
      "6\n",
      "24\n",
      "120\n",
      "720\n",
      "5040\n",
      "40320\n",
      "362880\n",
      "3628800\n",
      "39916800\n"
     ]
    }
   ],
   "source": [
    "kop=1\n",
    "for i in range(1,12):\n",
    "    kop=kop*i\n",
    "    print(kop)"
   ]
  },
  {
   "cell_type": "code",
   "execution_count": null,
   "metadata": {},
   "outputs": [
    {
     "name": "stdout",
     "output_type": "stream",
     "text": [
      "1\n",
      "1\n",
      "2\n",
      "2\n",
      "3\n",
      "6\n",
      "4\n",
      "24\n",
      "5\n",
      "120\n",
      "6\n",
      "720\n",
      "7\n",
      "5040\n",
      "8\n",
      "40320\n",
      "9\n",
      "362880\n",
      "10\n",
      "3628800\n",
      "11\n",
      "39916800\n"
     ]
    }
   ],
   "source": [
    "kop=1\n",
    "for i in range(1,12):\n",
    "    kop=kop*i\n",
    "    print(i)                       # nega kopaytmada ham print i ni yozga boshqacha natija chiqyabdi\n",
    "    print(kop)"
   ]
  },
  {
   "cell_type": "code",
   "execution_count": 48,
   "metadata": {},
   "outputs": [
    {
     "name": "stdout",
     "output_type": "stream",
     "text": [
      "16\n"
     ]
    }
   ],
   "source": [
    "print(2*4*1*2)"
   ]
  },
  {
   "cell_type": "code",
   "execution_count": null,
   "metadata": {},
   "outputs": [
    {
     "name": "stdout",
     "output_type": "stream",
     "text": [
      "1\n",
      "3\n",
      "5\n",
      "7\n",
      "9\n",
      "11\n"
     ]
    }
   ],
   "source": [
    "for i in range (1,12,2):   #usul  1dan 12 gacha bolgan toq sonlar\n",
    "    print (i)"
   ]
  },
  {
   "cell_type": "code",
   "execution_count": null,
   "metadata": {},
   "outputs": [
    {
     "name": "stdout",
     "output_type": "stream",
     "text": [
      "1\n",
      "3\n",
      "5\n",
      "7\n",
      "9\n",
      "11\n"
     ]
    }
   ],
   "source": [
    "#1 dan 12 gacha bolgan toq sonlar usul 2\n",
    "for i in range (1,12):\n",
    "    if i%2!=0:    #yani qoldiq nolga teng bolmasin\n",
    "     print(i)"
   ]
  },
  {
   "cell_type": "code",
   "execution_count": null,
   "metadata": {},
   "outputs": [
    {
     "name": "stdout",
     "output_type": "stream",
     "text": [
      "2\n",
      "4\n",
      "6\n",
      "8\n",
      "10\n"
     ]
    }
   ],
   "source": [
    "#1 dan 1dan 12 gacha bolgan intervalda gi juf sonlarninkoratsin natija\n",
    "for i in range (1,12):\n",
    "    if i%2==0:     #ya'ni qoldiq nolga teng bolsin\n",
    "        print(i)"
   ]
  },
  {
   "cell_type": "code",
   "execution_count": 55,
   "metadata": {},
   "outputs": [
    {
     "name": "stdout",
     "output_type": "stream",
     "text": [
      "8\n",
      "9\n",
      "10\n",
      "11\n",
      "12\n",
      "13\n",
      "14\n",
      "15\n",
      "16\n",
      "17\n",
      "18\n",
      "19\n",
      "20\n",
      "21\n",
      "22\n",
      "23\n",
      "24\n"
     ]
    }
   ],
   "source": [
    "# 8 dan 25 gacha bo'lgan sonlar orasidagi sonlarni ekranga chiqarish\n",
    "for i in range (8,25):\n",
    "    print(i)"
   ]
  },
  {
   "cell_type": "code",
   "execution_count": null,
   "metadata": {},
   "outputs": [
    {
     "name": "stdout",
     "output_type": "stream",
     "text": [
      "15\n",
      "30\n",
      "45\n",
      "60\n",
      "75\n",
      "90\n"
     ]
    }
   ],
   "source": [
    "# 3 dan 100 gacha sonlarni(100 xam kirsin) orasida 3 ga va 5 ga bo'linadiganlarni korsatsin\n",
    "for i in range(3,101):\n",
    "    if i%3==0:\n",
    "      if i%5==0:\n",
    "        print(i)    "
   ]
  },
  {
   "cell_type": "code",
   "execution_count": null,
   "metadata": {},
   "outputs": [
    {
     "name": "stdout",
     "output_type": "stream",
     "text": [
      "15\n",
      "30\n",
      "45\n",
      "60\n",
      "75\n",
      "90\n"
     ]
    }
   ],
   "source": [
    "# 3 dan 100 gacha sonlarni(100 xam kirsin) orasida 3 ga va 5 ga bo'linadiganlarni korsatib bersin natija\n",
    "for i in range (3,101):\n",
    "    if i%3==0 and i%5==0:\n",
    "        print(i)"
   ]
  },
  {
   "cell_type": "code",
   "execution_count": 66,
   "metadata": {},
   "outputs": [
    {
     "name": "stdout",
     "output_type": "stream",
     "text": [
      "90\n"
     ]
    }
   ],
   "source": [
    "# 3 dan 100 gacha sonlarni(100 xam kirsin) orasida 3 ga va 5 ga bo'linadiganlarni kopaytmasini toping \n",
    "for i in range (3,101):\n",
    " if i%3==0 and i%5==0:\n",
    "        kop=1\n",
    "        kop=kop*i\n",
    "print(kop)"
   ]
  },
  {
   "cell_type": "code",
   "execution_count": 70,
   "metadata": {},
   "outputs": [
    {
     "name": "stdout",
     "output_type": "stream",
     "text": [
      "15153\n",
      "15157\n",
      "15162\n",
      "15168\n",
      "15175\n",
      "15183\n",
      "15192\n",
      "15202\n",
      "15213\n",
      "15225\n",
      "15238\n",
      "15252\n",
      "15\n",
      "31\n",
      "48\n",
      "66\n",
      "85\n",
      "105\n",
      "126\n",
      "148\n",
      "171\n",
      "195\n",
      "220\n",
      "246\n",
      "273\n",
      "301\n",
      "330\n",
      "30\n",
      "61\n",
      "93\n",
      "126\n",
      "160\n",
      "195\n",
      "231\n",
      "268\n",
      "306\n",
      "345\n",
      "385\n",
      "426\n",
      "468\n",
      "511\n",
      "555\n",
      "45\n",
      "91\n",
      "138\n",
      "186\n",
      "235\n",
      "285\n",
      "336\n",
      "388\n",
      "441\n",
      "495\n",
      "550\n",
      "606\n",
      "663\n",
      "721\n",
      "780\n",
      "60\n",
      "121\n",
      "183\n",
      "246\n",
      "310\n",
      "375\n",
      "441\n",
      "508\n",
      "576\n",
      "645\n",
      "715\n",
      "786\n",
      "858\n",
      "931\n",
      "1005\n",
      "75\n",
      "151\n",
      "228\n",
      "306\n",
      "385\n",
      "465\n",
      "546\n",
      "628\n",
      "711\n",
      "795\n",
      "880\n",
      "966\n",
      "1053\n",
      "1141\n",
      "1230\n",
      "90\n",
      "181\n",
      "273\n",
      "366\n",
      "460\n",
      "555\n",
      "651\n",
      "748\n",
      "846\n",
      "945\n",
      "1045\n"
     ]
    }
   ],
   "source": [
    "# 3 dan 100 gacha sonlarni(100 xam kirsin) orasida 3 ga va 5 ga bo'linadiganlarni yigindi toping \n",
    "for i in range (3,101):\n",
    "    if i %3==0 and i%5==0:\n",
    "       sum1=0\n",
    "    sum1=sum1+i\n",
    "    print(sum1)"
   ]
  },
  {
   "cell_type": "code",
   "execution_count": null,
   "metadata": {},
   "outputs": [],
   "source": []
  }
 ],
 "metadata": {
  "kernelspec": {
   "display_name": "Python 3",
   "language": "python",
   "name": "python3"
  },
  "language_info": {
   "codemirror_mode": {
    "name": "ipython",
    "version": 3
   },
   "file_extension": ".py",
   "mimetype": "text/x-python",
   "name": "python",
   "nbconvert_exporter": "python",
   "pygments_lexer": "ipython3",
   "version": "3.13.1"
  }
 },
 "nbformat": 4,
 "nbformat_minor": 2
}
