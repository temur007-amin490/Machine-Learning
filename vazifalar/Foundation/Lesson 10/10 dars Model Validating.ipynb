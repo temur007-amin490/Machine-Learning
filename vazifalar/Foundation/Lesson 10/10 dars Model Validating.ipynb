{
 "cells": [
  {
   "cell_type": "markdown",
   "metadata": {},
   "source": [
    "# Import Library"
   ]
  },
  {
   "cell_type": "code",
   "execution_count": 1,
   "metadata": {},
   "outputs": [],
   "source": [
    "import pandas as pd\n",
    "import numpy as np\n",
    "import matplotlib.pyplot as plt\n",
    "from sklearn.model_selection import train_test_split, KFold, cross_val_score\n",
    "from sklearn.preprocessing import StandardScaler\n",
    "from sklearn.ensemble import RandomForestRegressor  # Example model\n",
    "from sklearn.linear_model import LinearRegression\n",
    "from sklearn.metrics import mean_squared_error, r2_score\n"
   ]
  },
  {
   "cell_type": "markdown",
   "metadata": {},
   "source": [
    "# Load dataset"
   ]
  },
  {
   "cell_type": "code",
   "execution_count": 2,
   "metadata": {},
   "outputs": [],
   "source": [
    "df = pd.read_csv(\"heart_attack_risk_dataset.csv\")"
   ]
  },
  {
   "cell_type": "markdown",
   "metadata": {},
   "source": [
    "# Display basic info"
   ]
  },
  {
   "cell_type": "code",
   "execution_count": 3,
   "metadata": {},
   "outputs": [
    {
     "name": "stdout",
     "output_type": "stream",
     "text": [
      "<class 'pandas.core.frame.DataFrame'>\n",
      "RangeIndex: 50000 entries, 0 to 49999\n",
      "Data columns (total 20 columns):\n",
      " #   Column                   Non-Null Count  Dtype  \n",
      "---  ------                   --------------  -----  \n",
      " 0   Age                      50000 non-null  int64  \n",
      " 1   Gender                   50000 non-null  object \n",
      " 2   Smoking                  49997 non-null  float64\n",
      " 3   Alcohol_Consumption      50000 non-null  int64  \n",
      " 4   Physical_Activity_Level  49997 non-null  object \n",
      " 5   BMI                      50000 non-null  float64\n",
      " 6   Diabetes                 50000 non-null  int64  \n",
      " 7   Hypertension             50000 non-null  int64  \n",
      " 8   Cholesterol_Level        49999 non-null  float64\n",
      " 9   Resting_BP               50000 non-null  int64  \n",
      " 10  Heart_Rate               49996 non-null  float64\n",
      " 11  Family_History           50000 non-null  int64  \n",
      " 12  Stress_Level             50000 non-null  object \n",
      " 13  Chest_Pain_Type          50000 non-null  object \n",
      " 14  Thalassemia              50000 non-null  object \n",
      " 15  Fasting_Blood_Sugar      49998 non-null  float64\n",
      " 16  ECG_Results              50000 non-null  object \n",
      " 17  Exercise_Induced_Angina  49998 non-null  float64\n",
      " 18  Max_Heart_Rate_Achieved  50000 non-null  int64  \n",
      " 19  Heart_Attack_Risk        50000 non-null  object \n",
      "dtypes: float64(6), int64(7), object(7)\n",
      "memory usage: 7.6+ MB\n",
      "None\n",
      "                Age       Smoking  Alcohol_Consumption           BMI  \\\n",
      "count  50000.000000  49997.000000         50000.000000  50000.000000   \n",
      "mean      53.398700      0.298398             0.401980     27.519357   \n",
      "std       20.799006      0.457560             0.490303      7.225176   \n",
      "min       18.000000      0.000000             0.000000     15.000000   \n",
      "25%       35.000000      0.000000             0.000000     21.270000   \n",
      "50%       53.000000      0.000000             0.000000     27.540000   \n",
      "75%       71.000000      1.000000             1.000000     33.770000   \n",
      "max       89.000000      1.000000             1.000000     40.000000   \n",
      "\n",
      "           Diabetes  Hypertension  Cholesterol_Level    Resting_BP  \\\n",
      "count  50000.000000   50000.00000       49999.000000  50000.000000   \n",
      "mean       0.198840       0.29738         225.037407    134.434100   \n",
      "std        0.399131       0.45711          43.317271     25.907961   \n",
      "min        0.000000       0.00000         150.000000     90.000000   \n",
      "25%        0.000000       0.00000         187.300000    112.000000   \n",
      "50%        0.000000       0.00000         225.100000    134.000000   \n",
      "75%        0.000000       1.00000         262.600000    157.000000   \n",
      "max        1.000000       1.00000         300.000000    179.000000   \n",
      "\n",
      "         Heart_Rate  Family_History  Fasting_Blood_Sugar  \\\n",
      "count  49996.000000     50000.00000         49998.000000   \n",
      "mean      94.528722         0.30034             0.149366   \n",
      "std       20.186777         0.45841             0.356452   \n",
      "min       60.000000         0.00000             0.000000   \n",
      "25%       77.000000         0.00000             0.000000   \n",
      "50%       94.000000         0.00000             0.000000   \n",
      "75%      112.000000         1.00000             0.000000   \n",
      "max      129.000000         1.00000             1.000000   \n",
      "\n",
      "       Exercise_Induced_Angina  Max_Heart_Rate_Achieved  \n",
      "count             49998.000000             50000.000000  \n",
      "mean                  0.201628               149.305340  \n",
      "std                   0.401220                28.823699  \n",
      "min                   0.000000               100.000000  \n",
      "25%                   0.000000               124.000000  \n",
      "50%                   0.000000               149.000000  \n",
      "75%                   0.000000               174.000000  \n",
      "max                   1.000000               199.000000  \n"
     ]
    }
   ],
   "source": [
    "print(df.info())\n",
    "print(df.describe())"
   ]
  },
  {
   "cell_type": "markdown",
   "metadata": {},
   "source": [
    "# Check for missing values"
   ]
  },
  {
   "cell_type": "code",
   "execution_count": 4,
   "metadata": {},
   "outputs": [
    {
     "name": "stdout",
     "output_type": "stream",
     "text": [
      "Age                        0\n",
      "Gender                     0\n",
      "Smoking                    3\n",
      "Alcohol_Consumption        0\n",
      "Physical_Activity_Level    3\n",
      "BMI                        0\n",
      "Diabetes                   0\n",
      "Hypertension               0\n",
      "Cholesterol_Level          1\n",
      "Resting_BP                 0\n",
      "Heart_Rate                 4\n",
      "Family_History             0\n",
      "Stress_Level               0\n",
      "Chest_Pain_Type            0\n",
      "Thalassemia                0\n",
      "Fasting_Blood_Sugar        2\n",
      "ECG_Results                0\n",
      "Exercise_Induced_Angina    2\n",
      "Max_Heart_Rate_Achieved    0\n",
      "Heart_Attack_Risk          0\n",
      "dtype: int64\n"
     ]
    }
   ],
   "source": [
    "print(df.isnull().sum())"
   ]
  },
  {
   "cell_type": "markdown",
   "metadata": {},
   "source": [
    "# Data Cleaning"
   ]
  },
  {
   "cell_type": "code",
   "execution_count": 8,
   "metadata": {},
   "outputs": [
    {
     "name": "stderr",
     "output_type": "stream",
     "text": [
      "C:\\Users\\User\\AppData\\Local\\Temp\\ipykernel_11352\\3128573292.py:6: FutureWarning: A value is trying to be set on a copy of a DataFrame or Series through chained assignment using an inplace method.\n",
      "The behavior will change in pandas 3.0. This inplace method will never work because the intermediate object on which we are setting values always behaves as a copy.\n",
      "\n",
      "For example, when doing 'df[col].method(value, inplace=True)', try using 'df.method({col: value}, inplace=True)' or df[col] = df[col].method(value) instead, to perform the operation inplace on the original object.\n",
      "\n",
      "\n",
      "  df[col].fillna(df[col].mean(),inplace=True)\n",
      "C:\\Users\\User\\AppData\\Local\\Temp\\ipykernel_11352\\3128573292.py:4: FutureWarning: A value is trying to be set on a copy of a DataFrame or Series through chained assignment using an inplace method.\n",
      "The behavior will change in pandas 3.0. This inplace method will never work because the intermediate object on which we are setting values always behaves as a copy.\n",
      "\n",
      "For example, when doing 'df[col].method(value, inplace=True)', try using 'df.method({col: value}, inplace=True)' or df[col] = df[col].method(value) instead, to perform the operation inplace on the original object.\n",
      "\n",
      "\n",
      "  df[col].fillna(df[col].mode()[0],inplace=True)\n"
     ]
    }
   ],
   "source": [
    "# for loop orqali 4 line coding bn osongina tushib qolgan qiymatlarni filling qilamiz\n",
    "for col in df.columns:\n",
    "    if df[col].dtype==object:\n",
    "     df[col].fillna(df[col].mode()[0],inplace=True)\n",
    "    else:   \n",
    "      df[col].fillna(df[col].mean(),inplace=True)    "
   ]
  },
  {
   "cell_type": "code",
   "execution_count": null,
   "metadata": {},
   "outputs": [
    {
     "name": "stdout",
     "output_type": "stream",
     "text": [
      "Age                        0\n",
      "Gender                     0\n",
      "Smoking                    0\n",
      "Alcohol_Consumption        0\n",
      "Physical_Activity_Level    0\n",
      "BMI                        0\n",
      "Diabetes                   0\n",
      "Hypertension               0\n",
      "Cholesterol_Level          0\n",
      "Resting_BP                 0\n",
      "Heart_Rate                 0\n",
      "Family_History             0\n",
      "Stress_Level               0\n",
      "Chest_Pain_Type            0\n",
      "Thalassemia                0\n",
      "Fasting_Blood_Sugar        0\n",
      "ECG_Results                0\n",
      "Exercise_Induced_Angina    0\n",
      "Max_Heart_Rate_Achieved    0\n",
      "Heart_Attack_Risk          0\n",
      "dtype: int64\n"
     ]
    }
   ],
   "source": [
    "print(df.isnull().sum()) # ham filling qildik tushib qolgan qiymatlarni"
   ]
  },
  {
   "cell_type": "code",
   "execution_count": 10,
   "metadata": {},
   "outputs": [
    {
     "name": "stdout",
     "output_type": "stream",
     "text": [
      "<class 'pandas.core.frame.DataFrame'>\n",
      "RangeIndex: 50000 entries, 0 to 49999\n",
      "Data columns (total 20 columns):\n",
      " #   Column                   Non-Null Count  Dtype  \n",
      "---  ------                   --------------  -----  \n",
      " 0   Age                      50000 non-null  int64  \n",
      " 1   Gender                   50000 non-null  object \n",
      " 2   Smoking                  50000 non-null  float64\n",
      " 3   Alcohol_Consumption      50000 non-null  int64  \n",
      " 4   Physical_Activity_Level  50000 non-null  object \n",
      " 5   BMI                      50000 non-null  float64\n",
      " 6   Diabetes                 50000 non-null  int64  \n",
      " 7   Hypertension             50000 non-null  int64  \n",
      " 8   Cholesterol_Level        50000 non-null  float64\n",
      " 9   Resting_BP               50000 non-null  int64  \n",
      " 10  Heart_Rate               50000 non-null  float64\n",
      " 11  Family_History           50000 non-null  int64  \n",
      " 12  Stress_Level             50000 non-null  object \n",
      " 13  Chest_Pain_Type          50000 non-null  object \n",
      " 14  Thalassemia              50000 non-null  object \n",
      " 15  Fasting_Blood_Sugar      50000 non-null  float64\n",
      " 16  ECG_Results              50000 non-null  object \n",
      " 17  Exercise_Induced_Angina  50000 non-null  float64\n",
      " 18  Max_Heart_Rate_Achieved  50000 non-null  int64  \n",
      " 19  Heart_Attack_Risk        50000 non-null  object \n",
      "dtypes: float64(6), int64(7), object(7)\n",
      "memory usage: 7.6+ MB\n"
     ]
    }
   ],
   "source": [
    "df.info()"
   ]
  },
  {
   "cell_type": "markdown",
   "metadata": {},
   "source": [
    "# Encoding"
   ]
  },
  {
   "cell_type": "code",
   "execution_count": 11,
   "metadata": {},
   "outputs": [],
   "source": [
    "df_encoded=df.copy()"
   ]
  },
  {
   "cell_type": "code",
   "execution_count": 22,
   "metadata": {},
   "outputs": [],
   "source": [
    "cardinality=df.nunique()"
   ]
  },
  {
   "cell_type": "code",
   "execution_count": 24,
   "metadata": {},
   "outputs": [
    {
     "data": {
      "text/plain": [
       "Age                          72\n",
       "Gender                        2\n",
       "Smoking                       3\n",
       "Alcohol_Consumption           2\n",
       "Physical_Activity_Level       3\n",
       "BMI                        2501\n",
       "Diabetes                      2\n",
       "Hypertension                  2\n",
       "Cholesterol_Level          1502\n",
       "Resting_BP                   90\n",
       "Heart_Rate                   71\n",
       "Family_History                2\n",
       "Stress_Level                  3\n",
       "Chest_Pain_Type               4\n",
       "Thalassemia                   3\n",
       "Fasting_Blood_Sugar           3\n",
       "ECG_Results                   3\n",
       "Exercise_Induced_Angina       3\n",
       "Max_Heart_Rate_Achieved     100\n",
       "Heart_Attack_Risk             3\n",
       "dtype: int64"
      ]
     },
     "execution_count": 24,
     "metadata": {},
     "output_type": "execute_result"
    }
   ],
   "source": [
    "cardinality"
   ]
  },
  {
   "cell_type": "code",
   "execution_count": 12,
   "metadata": {},
   "outputs": [],
   "source": [
    "from sklearn.preprocessing import LabelEncoder  \n",
    "for col in df_encoded.select_dtypes(include=['object']).columns:\n",
    "    cardinality=df_encoded[col].nunique()\n",
    "    if cardinality<=5:\n",
    "        le=LabelEncoder()\n",
    "        df_encoded[col]=le.fit_transform(df_encoded[col])\n",
    "    else:\n",
    "        df_encoded=pd.get_dummies(df_encoded,columns=[col],dtype=int, drop_first=True)\n",
    "df=df_encoded"
   ]
  },
  {
   "cell_type": "code",
   "execution_count": null,
   "metadata": {},
   "outputs": [
    {
     "name": "stdout",
     "output_type": "stream",
     "text": [
      "<class 'pandas.core.frame.DataFrame'>\n",
      "RangeIndex: 50000 entries, 0 to 49999\n",
      "Data columns (total 20 columns):\n",
      " #   Column                   Non-Null Count  Dtype  \n",
      "---  ------                   --------------  -----  \n",
      " 0   Age                      50000 non-null  int64  \n",
      " 1   Gender                   50000 non-null  int64  \n",
      " 2   Smoking                  50000 non-null  float64\n",
      " 3   Alcohol_Consumption      50000 non-null  int64  \n",
      " 4   Physical_Activity_Level  50000 non-null  int64  \n",
      " 5   BMI                      50000 non-null  float64\n",
      " 6   Diabetes                 50000 non-null  int64  \n",
      " 7   Hypertension             50000 non-null  int64  \n",
      " 8   Cholesterol_Level        50000 non-null  float64\n",
      " 9   Resting_BP               50000 non-null  int64  \n",
      " 10  Heart_Rate               50000 non-null  float64\n",
      " 11  Family_History           50000 non-null  int64  \n",
      " 12  Stress_Level             50000 non-null  int64  \n",
      " 13  Chest_Pain_Type          50000 non-null  int64  \n",
      " 14  Thalassemia              50000 non-null  int64  \n",
      " 15  Fasting_Blood_Sugar      50000 non-null  float64\n",
      " 16  ECG_Results              50000 non-null  int64  \n",
      " 17  Exercise_Induced_Angina  50000 non-null  float64\n",
      " 18  Max_Heart_Rate_Achieved  50000 non-null  int64  \n",
      " 19  Heart_Attack_Risk        50000 non-null  int64  \n",
      "dtypes: float64(6), int64(14)\n",
      "memory usage: 7.6 MB\n"
     ]
    }
   ],
   "source": [
    "df.info()   # hamma data type int va float ga o'zgartirib oldik"
   ]
  },
  {
   "cell_type": "markdown",
   "metadata": {},
   "source": [
    "# Scaling"
   ]
  },
  {
   "cell_type": "code",
   "execution_count": 14,
   "metadata": {},
   "outputs": [],
   "source": [
    "num_col=df.select_dtypes(include=['int64','float64']).columns"
   ]
  },
  {
   "cell_type": "code",
   "execution_count": 15,
   "metadata": {},
   "outputs": [
    {
     "data": {
      "text/plain": [
       "Index(['Age', 'Gender', 'Smoking', 'Alcohol_Consumption',\n",
       "       'Physical_Activity_Level', 'BMI', 'Diabetes', 'Hypertension',\n",
       "       'Cholesterol_Level', 'Resting_BP', 'Heart_Rate', 'Family_History',\n",
       "       'Stress_Level', 'Chest_Pain_Type', 'Thalassemia', 'Fasting_Blood_Sugar',\n",
       "       'ECG_Results', 'Exercise_Induced_Angina', 'Max_Heart_Rate_Achieved',\n",
       "       'Heart_Attack_Risk'],\n",
       "      dtype='object')"
      ]
     },
     "execution_count": 15,
     "metadata": {},
     "output_type": "execute_result"
    }
   ],
   "source": [
    "num_col"
   ]
  },
  {
   "cell_type": "code",
   "execution_count": 25,
   "metadata": {},
   "outputs": [],
   "source": [
    "scaler=StandardScaler()\n",
    "df[num_col]=scaler.fit_transform(df[num_col])"
   ]
  },
  {
   "cell_type": "code",
   "execution_count": 21,
   "metadata": {},
   "outputs": [
    {
     "name": "stdout",
     "output_type": "stream",
     "text": [
      "<class 'pandas.core.frame.DataFrame'>\n",
      "RangeIndex: 50000 entries, 0 to 49999\n",
      "Data columns (total 20 columns):\n",
      " #   Column                   Non-Null Count  Dtype  \n",
      "---  ------                   --------------  -----  \n",
      " 0   Age                      50000 non-null  int64  \n",
      " 1   Gender                   50000 non-null  int64  \n",
      " 2   Smoking                  50000 non-null  float64\n",
      " 3   Alcohol_Consumption      50000 non-null  int64  \n",
      " 4   Physical_Activity_Level  50000 non-null  int64  \n",
      " 5   BMI                      50000 non-null  float64\n",
      " 6   Diabetes                 50000 non-null  int64  \n",
      " 7   Hypertension             50000 non-null  int64  \n",
      " 8   Cholesterol_Level        50000 non-null  float64\n",
      " 9   Resting_BP               50000 non-null  int64  \n",
      " 10  Heart_Rate               50000 non-null  float64\n",
      " 11  Family_History           50000 non-null  int64  \n",
      " 12  Stress_Level             50000 non-null  int64  \n",
      " 13  Chest_Pain_Type          50000 non-null  int64  \n",
      " 14  Thalassemia              50000 non-null  int64  \n",
      " 15  Fasting_Blood_Sugar      50000 non-null  float64\n",
      " 16  ECG_Results              50000 non-null  int64  \n",
      " 17  Exercise_Induced_Angina  50000 non-null  float64\n",
      " 18  Max_Heart_Rate_Achieved  50000 non-null  int64  \n",
      " 19  Heart_Attack_Risk        50000 non-null  int64  \n",
      "dtypes: float64(6), int64(14)\n",
      "memory usage: 7.6 MB\n"
     ]
    }
   ],
   "source": [
    "df.info()"
   ]
  },
  {
   "cell_type": "code",
   "execution_count": 26,
   "metadata": {},
   "outputs": [
    {
     "data": {
      "text/html": [
       "<div>\n",
       "<style scoped>\n",
       "    .dataframe tbody tr th:only-of-type {\n",
       "        vertical-align: middle;\n",
       "    }\n",
       "\n",
       "    .dataframe tbody tr th {\n",
       "        vertical-align: top;\n",
       "    }\n",
       "\n",
       "    .dataframe thead th {\n",
       "        text-align: right;\n",
       "    }\n",
       "</style>\n",
       "<table border=\"1\" class=\"dataframe\">\n",
       "  <thead>\n",
       "    <tr style=\"text-align: right;\">\n",
       "      <th></th>\n",
       "      <th>Age</th>\n",
       "      <th>Gender</th>\n",
       "      <th>Smoking</th>\n",
       "      <th>Alcohol_Consumption</th>\n",
       "      <th>Physical_Activity_Level</th>\n",
       "      <th>BMI</th>\n",
       "      <th>Diabetes</th>\n",
       "      <th>Hypertension</th>\n",
       "      <th>Cholesterol_Level</th>\n",
       "      <th>Resting_BP</th>\n",
       "      <th>Heart_Rate</th>\n",
       "      <th>Family_History</th>\n",
       "      <th>Stress_Level</th>\n",
       "      <th>Chest_Pain_Type</th>\n",
       "      <th>Thalassemia</th>\n",
       "      <th>Fasting_Blood_Sugar</th>\n",
       "      <th>ECG_Results</th>\n",
       "      <th>Exercise_Induced_Angina</th>\n",
       "      <th>Max_Heart_Rate_Achieved</th>\n",
       "      <th>Heart_Attack_Risk</th>\n",
       "    </tr>\n",
       "  </thead>\n",
       "  <tbody>\n",
       "    <tr>\n",
       "      <th>0</th>\n",
       "      <td>0.750106</td>\n",
       "      <td>-0.996566</td>\n",
       "      <td>1.533418</td>\n",
       "      <td>-0.819869</td>\n",
       "      <td>1.069353</td>\n",
       "      <td>0.981390</td>\n",
       "      <td>2.007279</td>\n",
       "      <td>-0.650572</td>\n",
       "      <td>-1.683829</td>\n",
       "      <td>1.411391</td>\n",
       "      <td>-0.472052</td>\n",
       "      <td>-0.655184</td>\n",
       "      <td>0.896970</td>\n",
       "      <td>0.439608</td>\n",
       "      <td>1.223253</td>\n",
       "      <td>-0.419047</td>\n",
       "      <td>-0.001792</td>\n",
       "      <td>-0.502553</td>\n",
       "      <td>-1.224884</td>\n",
       "      <td>-0.138032</td>\n",
       "    </tr>\n",
       "    <tr>\n",
       "      <th>1</th>\n",
       "      <td>-1.028843</td>\n",
       "      <td>1.003446</td>\n",
       "      <td>-0.652177</td>\n",
       "      <td>-0.819869</td>\n",
       "      <td>1.069353</td>\n",
       "      <td>-0.660109</td>\n",
       "      <td>-0.498187</td>\n",
       "      <td>-0.650572</td>\n",
       "      <td>-1.344465</td>\n",
       "      <td>-0.325544</td>\n",
       "      <td>0.419666</td>\n",
       "      <td>-0.655184</td>\n",
       "      <td>-0.386984</td>\n",
       "      <td>-1.348580</td>\n",
       "      <td>-0.003902</td>\n",
       "      <td>-0.419047</td>\n",
       "      <td>1.225394</td>\n",
       "      <td>-0.502553</td>\n",
       "      <td>0.822063</td>\n",
       "      <td>1.290276</td>\n",
       "    </tr>\n",
       "    <tr>\n",
       "      <th>2</th>\n",
       "      <td>1.711700</td>\n",
       "      <td>1.003446</td>\n",
       "      <td>-0.652177</td>\n",
       "      <td>1.219707</td>\n",
       "      <td>1.069353</td>\n",
       "      <td>1.079658</td>\n",
       "      <td>-0.498187</td>\n",
       "      <td>-0.650572</td>\n",
       "      <td>1.091101</td>\n",
       "      <td>-0.441340</td>\n",
       "      <td>1.608622</td>\n",
       "      <td>-0.655184</td>\n",
       "      <td>-0.386984</td>\n",
       "      <td>1.333703</td>\n",
       "      <td>1.223253</td>\n",
       "      <td>-0.419047</td>\n",
       "      <td>1.225394</td>\n",
       "      <td>-0.502553</td>\n",
       "      <td>-1.398354</td>\n",
       "      <td>-0.138032</td>\n",
       "    </tr>\n",
       "    <tr>\n",
       "      <th>3</th>\n",
       "      <td>1.182823</td>\n",
       "      <td>1.003446</td>\n",
       "      <td>-0.652177</td>\n",
       "      <td>1.219707</td>\n",
       "      <td>1.069353</td>\n",
       "      <td>-1.285706</td>\n",
       "      <td>2.007279</td>\n",
       "      <td>-0.650572</td>\n",
       "      <td>0.292328</td>\n",
       "      <td>0.369230</td>\n",
       "      <td>1.509543</td>\n",
       "      <td>-0.655184</td>\n",
       "      <td>-0.386984</td>\n",
       "      <td>1.333703</td>\n",
       "      <td>-1.231058</td>\n",
       "      <td>2.386460</td>\n",
       "      <td>-1.228977</td>\n",
       "      <td>-0.502553</td>\n",
       "      <td>-0.704474</td>\n",
       "      <td>-0.138032</td>\n",
       "    </tr>\n",
       "    <tr>\n",
       "      <th>4</th>\n",
       "      <td>-0.740365</td>\n",
       "      <td>-0.996566</td>\n",
       "      <td>1.533418</td>\n",
       "      <td>-0.819869</td>\n",
       "      <td>1.069353</td>\n",
       "      <td>-1.065640</td>\n",
       "      <td>-0.498187</td>\n",
       "      <td>-0.650572</td>\n",
       "      <td>-0.400250</td>\n",
       "      <td>-0.441340</td>\n",
       "      <td>0.617825</td>\n",
       "      <td>-0.655184</td>\n",
       "      <td>-1.670938</td>\n",
       "      <td>-1.348580</td>\n",
       "      <td>1.223253</td>\n",
       "      <td>-0.419047</td>\n",
       "      <td>1.225394</td>\n",
       "      <td>-0.502553</td>\n",
       "      <td>-0.877944</td>\n",
       "      <td>1.290276</td>\n",
       "    </tr>\n",
       "  </tbody>\n",
       "</table>\n",
       "</div>"
      ],
      "text/plain": [
       "        Age    Gender   Smoking  Alcohol_Consumption  Physical_Activity_Level  \\\n",
       "0  0.750106 -0.996566  1.533418            -0.819869                 1.069353   \n",
       "1 -1.028843  1.003446 -0.652177            -0.819869                 1.069353   \n",
       "2  1.711700  1.003446 -0.652177             1.219707                 1.069353   \n",
       "3  1.182823  1.003446 -0.652177             1.219707                 1.069353   \n",
       "4 -0.740365 -0.996566  1.533418            -0.819869                 1.069353   \n",
       "\n",
       "        BMI  Diabetes  Hypertension  Cholesterol_Level  Resting_BP  \\\n",
       "0  0.981390  2.007279     -0.650572          -1.683829    1.411391   \n",
       "1 -0.660109 -0.498187     -0.650572          -1.344465   -0.325544   \n",
       "2  1.079658 -0.498187     -0.650572           1.091101   -0.441340   \n",
       "3 -1.285706  2.007279     -0.650572           0.292328    0.369230   \n",
       "4 -1.065640 -0.498187     -0.650572          -0.400250   -0.441340   \n",
       "\n",
       "   Heart_Rate  Family_History  Stress_Level  Chest_Pain_Type  Thalassemia  \\\n",
       "0   -0.472052       -0.655184      0.896970         0.439608     1.223253   \n",
       "1    0.419666       -0.655184     -0.386984        -1.348580    -0.003902   \n",
       "2    1.608622       -0.655184     -0.386984         1.333703     1.223253   \n",
       "3    1.509543       -0.655184     -0.386984         1.333703    -1.231058   \n",
       "4    0.617825       -0.655184     -1.670938        -1.348580     1.223253   \n",
       "\n",
       "   Fasting_Blood_Sugar  ECG_Results  Exercise_Induced_Angina  \\\n",
       "0            -0.419047    -0.001792                -0.502553   \n",
       "1            -0.419047     1.225394                -0.502553   \n",
       "2            -0.419047     1.225394                -0.502553   \n",
       "3             2.386460    -1.228977                -0.502553   \n",
       "4            -0.419047     1.225394                -0.502553   \n",
       "\n",
       "   Max_Heart_Rate_Achieved  Heart_Attack_Risk  \n",
       "0                -1.224884          -0.138032  \n",
       "1                 0.822063           1.290276  \n",
       "2                -1.398354          -0.138032  \n",
       "3                -0.704474          -0.138032  \n",
       "4                -0.877944           1.290276  "
      ]
     },
     "execution_count": 26,
     "metadata": {},
     "output_type": "execute_result"
    }
   ],
   "source": [
    "df.head()"
   ]
  },
  {
   "cell_type": "code",
   "execution_count": 29,
   "metadata": {},
   "outputs": [],
   "source": [
    "x=df.drop(columns=['Heart_Attack_Risk'])   "
   ]
  },
  {
   "cell_type": "code",
   "execution_count": 30,
   "metadata": {},
   "outputs": [],
   "source": [
    "y=df['Heart_Attack_Risk']"
   ]
  },
  {
   "cell_type": "code",
   "execution_count": 32,
   "metadata": {},
   "outputs": [],
   "source": [
    "x_train,x_temp,y_train,y_temp=train_test_split(x,y,test_size=0.2,random_state=42)    # Datani qismlarga ajratish\n",
    "x_test,x_val,y_test,y_val=train_test_split(x_temp,y_temp,test_size=0.5,random_state=42)"
   ]
  },
  {
   "cell_type": "code",
   "execution_count": 33,
   "metadata": {},
   "outputs": [],
   "source": [
    "model=LinearRegression()\n",
    "linear_model=model.fit(x_train,y_train)\n",
    "y_pred=linear_model.predict(x_test)\n",
    "mse=mean_squared_error(y_test,y_pred)\n",
    "r2=r2_score(y_test,y_pred)"
   ]
  },
  {
   "cell_type": "code",
   "execution_count": null,
   "metadata": {},
   "outputs": [
    {
     "data": {
      "text/plain": [
       "0.9718172533922849"
      ]
     },
     "execution_count": 34,
     "metadata": {},
     "output_type": "execute_result"
    }
   ],
   "source": [
    "mse # qancha past chiqsa model yaxshi ishlaydi"
   ]
  },
  {
   "cell_type": "code",
   "execution_count": null,
   "metadata": {},
   "outputs": [
    {
     "data": {
      "text/plain": [
       "-0.001446422977203321"
      ]
     },
     "execution_count": 35,
     "metadata": {},
     "output_type": "execute_result"
    }
   ],
   "source": [
    "r2  # qancha yuqori chiqsa modelni past baxolaydi"
   ]
  },
  {
   "cell_type": "code",
   "execution_count": 36,
   "metadata": {},
   "outputs": [
    {
     "name": "stdout",
     "output_type": "stream",
     "text": [
      "Cross-Validation Scores: [0.98849912 0.99780385 1.00215941 1.00051529 1.01550324 0.99670645\n",
      " 0.99624858 1.01315905 0.98648877 1.00431179]\n",
      "Mean CV Score: 1.0001395549471854\n"
     ]
    }
   ],
   "source": [
    "kf = KFold(n_splits=10, shuffle=True, random_state=42)  # 5-Fold CV\n",
    "\n",
    "# Perform Cross-Validation\n",
    "cv_scores = cross_val_score(linear_model, x, y, cv=kf, scoring='neg_mean_squared_error')\n",
    "cv_scores = np.sqrt(-cv_scores)\n",
    "\n",
    "print(\"Cross-Validation Scores:\", cv_scores)\n",
    "print(\"Mean CV Score:\", np.mean(cv_scores))"
   ]
  },
  {
   "cell_type": "code",
   "execution_count": 37,
   "metadata": {},
   "outputs": [
    {
     "name": "stdout",
     "output_type": "stream",
     "text": [
      "0.028322301554900564\n"
     ]
    }
   ],
   "source": [
    "print(np.mean(cv_scores)-mse)"
   ]
  }
 ],
 "metadata": {
  "kernelspec": {
   "display_name": "Python 3",
   "language": "python",
   "name": "python3"
  },
  "language_info": {
   "codemirror_mode": {
    "name": "ipython",
    "version": 3
   },
   "file_extension": ".py",
   "mimetype": "text/x-python",
   "name": "python",
   "nbconvert_exporter": "python",
   "pygments_lexer": "ipython3",
   "version": "3.13.1"
  }
 },
 "nbformat": 4,
 "nbformat_minor": 2
}
