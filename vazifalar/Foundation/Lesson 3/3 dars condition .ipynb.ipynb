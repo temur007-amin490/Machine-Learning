{
 "cells": [
  {
   "cell_type": "markdown",
   "metadata": {},
   "source": []
  },
  {
   "cell_type": "code",
   "execution_count": null,
   "metadata": {},
   "outputs": [],
   "source": [
    "#Data Types\n",
    "#Conditions\n",
    "#Inner Conditions"
   ]
  },
  {
   "cell_type": "code",
   "execution_count": null,
   "metadata": {},
   "outputs": [],
   "source": [
    "#Data Types"
   ]
  },
  {
   "cell_type": "code",
   "execution_count": null,
   "metadata": {},
   "outputs": [],
   "source": [
    "#Conditions"
   ]
  },
  {
   "cell_type": "code",
   "execution_count": null,
   "metadata": {},
   "outputs": [],
   "source": [
    "#Inner Conditions"
   ]
  },
  {
   "cell_type": "code",
   "execution_count": null,
   "metadata": {},
   "outputs": [],
   "source": [
    "#Berilgan  musbat sonni oxirgi raqami 0 bilan tugasa '10 ga bo'linadigan son  5 bn tugasa  '5 ga bo'linadigan bo'lsa ' aks xolda 'qaytadan son kiriting deagn yozuvni ekranga chiqaring(2 ta usulda koring)\n",
    "#Agar berilgan  juft uzunllikka ega bo'lgan so'zning bosh xarfi 'a' yoki 'A' bo'sa bosh xarf agar z yoki Z bo'lsa oxirgi xarf aks xolda xatolik deb ekranga chiqaring\n"
   ]
  },
  {
   "cell_type": "code",
   "execution_count": 3,
   "metadata": {},
   "outputs": [
    {
     "name": "stdout",
     "output_type": "stream",
     "text": [
      "nol\n"
     ]
    }
   ],
   "source": [
    "#Agar son musbat bo'lsa 1 ga ortsin,manfiy bolsa 1 ga kamaysin aks ekranga nol chiqsin \n",
    "x=int(input('sonni kiriting'))\n",
    "if x>0:\n",
    "    print(x+1)\n",
    "elif x<0:\n",
    "    print(x-1)\n",
    "else:\n",
    "    print('nol')\n"
   ]
  },
  {
   "cell_type": "code",
   "execution_count": 4,
   "metadata": {},
   "outputs": [
    {
     "name": "stdout",
     "output_type": "stream",
     "text": [
      "10 ga bolinadigan son\n"
     ]
    }
   ],
   "source": [
    "n=int(input('sonni kiriting'))\n",
    "if n>0 and n%10==0:\n",
    "    print('10 ga bolinadigan son') \n",
    "elif n>0 and n%5==0:\n",
    "    print('5 ga bolinadigan son') \n",
    "else:\n",
    "    print('Qaytadan kiriting')"
   ]
  },
  {
   "cell_type": "code",
   "execution_count": 5,
   "metadata": {},
   "outputs": [
    {
     "name": "stdout",
     "output_type": "stream",
     "text": [
      "Xatolik bor\n"
     ]
    }
   ],
   "source": [
    "n=int(input('sonni kiriting'))\n",
    "if n>0:\n",
    "    if n%10==0:\n",
    "        print('10 ga bolinadigan son')\n",
    "    if n%5==0:\n",
    "        print('5 ga bolinadigan son')\n",
    "    else:\n",
    "        print('Qaytadan kiriting')\n",
    "else:\n",
    "    print('Xatolik bor')\n"
   ]
  },
  {
   "cell_type": "code",
   "execution_count": null,
   "metadata": {},
   "outputs": [],
   "source": []
  },
  {
   "cell_type": "code",
   "execution_count": null,
   "metadata": {},
   "outputs": [],
   "source": [
    "#Agar berilgan  juft uzunllikka ega bo'lgan so'zning bosh xarfi 'a' yoki 'A' bo'sa bosh xarf agar z yoki Z bo'lsa oxirgi xarf aks xolda xatolik deb ekranga chiqaring\n"
   ]
  },
  {
   "cell_type": "code",
   "execution_count": 11,
   "metadata": {},
   "outputs": [
    {
     "name": "stdout",
     "output_type": "stream",
     "text": [
      "bosh yoki  oxir\n"
     ]
    }
   ],
   "source": [
    "s=str(input('textni kiriting:'))\n",
    "if len(s)%2==0:\n",
    "    if (s[0]=='a' or s[0]=='A') and (s[-1]=='z' or s[-1]=='Z'):\n",
    "        print('bosh yoki  oxir')\n",
    "    elif s[0]=='a' or s[0]=='A':\n",
    "        print('bosh xarf')\n",
    "    elif s[-1]=='z' or s[-1]=='Z':\n",
    "        print('oxirgi xarf')\n",
    "    \n",
    "    else:\n",
    "        print('xatolik')\n",
    "else:\n",
    "    print('xatolikni kattasi')"
   ]
  },
  {
   "cell_type": "code",
   "execution_count": 3,
   "metadata": {},
   "outputs": [
    {
     "name": "stdout",
     "output_type": "stream",
     "text": [
      "no\n"
     ]
    }
   ],
   "source": [
    "n=int(input('sonni kiriting:'))\n",
    "if n>0:\n",
    "    if n%10==0:\n",
    "        print('10 ga bolinadigan son')\n",
    "    elif n%5==0:\n",
    "        print('5 ga bolinadigan son')\n",
    "    else:\n",
    "        print('xatolik')\n",
    "else:\n",
    "    print('no')"
   ]
  },
  {
   "cell_type": "code",
   "execution_count": 6,
   "metadata": {},
   "outputs": [
    {
     "name": "stdout",
     "output_type": "stream",
     "text": [
      "10 ga bolinadigan son\n"
     ]
    }
   ],
   "source": [
    "n=int(input('sonni kiriting:'))\n",
    "if n>0:\n",
    "    if str(n)[-1]=='0':\n",
    "            print('10 ga bolinadigan son')\n",
    "\n",
    "    elif str(n)[-1]=='5':\n",
    "        print('5 ga bolinadigan son')\n",
    "    else:\n",
    "        print('xatolik')\n",
    "else:\n",
    "    print('no')"
   ]
  },
  {
   "cell_type": "markdown",
   "metadata": {},
   "source": [
    "# Vazifalar"
   ]
  },
  {
   "cell_type": "code",
   "execution_count": null,
   "metadata": {},
   "outputs": [],
   "source": [
    "# Sonni berilgan darajaga ko'taring(turli xil usullar bn)\n",
    "#Berilgan sonni ildizini toping\n",
    "# 2 ta int berilganda True qaytaring agar ular bir xil oxirgi raqamga ega bo'lsa\n",
    "# Berilgan 3 xonali sonning raqamlar yigindisini aniqlang\n",
    "# Berilgan  2 ta xarfan uzun bo'lgan so'zni dastlabki 2 ta xarfidan tashkil topgan soz tuzing agar 2 tadan kam bolsa $ belgisini ishlatiling agar so'z faqat ''  dan iborat bolsa 2 ta $ ni qaytaring\n",
    "#a,b,c  musbat tomonli uchburchak teng tomonli bo'ladi/togri burchakli/ teng yonli\n",
    "# a va b  musbat sonning faqat bittasi/ikkalasi toq son\n",
    "# a va b  musbat sonlarning ikkalasi xam toq xam musbat\n",
    "#Berilgan  musbat sonni oxirgi raqami 0 bilan tugasa '10 ga bo'linadigan son  5 bn tugasa  '5 ga bo'linadigan bo'lsa ' aks xolda 'qaytadan son kiriting deagn yozuvni ekranga chiqaring(2 ta usulda koring)\n",
    "#Agar berilgan  juft uzunllikka ega bo'lgan so'zning bosh xarfi 'a' yoki 'A' bo'sa bosh xarf agar z yoki Z bo'lsa oxirgi xarf aks xolda xatolik deb ekranga chiqaring\n",
    "\n",
    "\n"
   ]
  },
  {
   "cell_type": "code",
   "execution_count": 2,
   "metadata": {},
   "outputs": [
    {
     "name": "stdout",
     "output_type": "stream",
     "text": [
      "25\n"
     ]
    }
   ],
   "source": [
    "# Sonni berilgan darajaga ko'taring(turli xil usullar bn)\n",
    "d=5\n",
    "print(5**2)"
   ]
  },
  {
   "cell_type": "code",
   "execution_count": 4,
   "metadata": {},
   "outputs": [
    {
     "name": "stdout",
     "output_type": "stream",
     "text": [
      "16\n"
     ]
    }
   ],
   "source": [
    "#2usul\n",
    "# Sonni berilgan darajaga ko'taring(turli xil usullar bn)\n",
    "d=int(input('sonni kiriting:'))\n",
    "print(d**2)\n",
    "\n"
   ]
  },
  {
   "cell_type": "code",
   "execution_count": null,
   "metadata": {},
   "outputs": [],
   "source": [
    "# 2 ta int berilganda True qaytaring agar ular bir xil oxirgi raqamga ega bo'lsa"
   ]
  },
  {
   "cell_type": "code",
   "execution_count": 9,
   "metadata": {},
   "outputs": [
    {
     "name": "stdout",
     "output_type": "stream",
     "text": [
      "5.0\n"
     ]
    }
   ],
   "source": [
    "#Berilgan sonni ildizini toping\n",
    "d=25\n",
    "print(pow(25,(1/2)))"
   ]
  },
  {
   "cell_type": "code",
   "execution_count": 11,
   "metadata": {},
   "outputs": [
    {
     "name": "stdout",
     "output_type": "stream",
     "text": [
      "6.0\n"
     ]
    }
   ],
   "source": [
    "#Berilgan sonni berilgan ildizini toping\n",
    "\n",
    "d=int(input('sonni kiriting:'))\n",
    "print(d**0.5)"
   ]
  },
  {
   "cell_type": "code",
   "execution_count": null,
   "metadata": {},
   "outputs": [],
   "source": [
    "# 2 ta int berilganda True qaytaring agar ular bir xil oxirgi raqamga ega bo'lsa\n"
   ]
  },
  {
   "cell_type": "code",
   "execution_count": 32,
   "metadata": {},
   "outputs": [
    {
     "ename": "NameError",
     "evalue": "name 'a' is not defined",
     "output_type": "error",
     "traceback": [
      "\u001b[1;31m---------------------------------------------------------------------------\u001b[0m",
      "\u001b[1;31mNameError\u001b[0m                                 Traceback (most recent call last)",
      "Cell \u001b[1;32mIn[32], line 2\u001b[0m\n\u001b[0;32m      1\u001b[0m \u001b[38;5;66;03m# a va b  musbat sonning faqat bittasi/ikkalasi toq son\u001b[39;00m\n\u001b[1;32m----> 2\u001b[0m \u001b[38;5;28;01mif\u001b[39;00m \u001b[43ma\u001b[49m\u001b[38;5;241m>\u001b[39m\u001b[38;5;241m0\u001b[39m \u001b[38;5;129;01mand\u001b[39;00m b\u001b[38;5;241m>\u001b[39m\u001b[38;5;241m0\u001b[39m: \n\u001b[0;32m      3\u001b[0m    \u001b[38;5;28;01mif\u001b[39;00m a\u001b[38;5;241m/\u001b[39m\u001b[38;5;241m/\u001b[39m\u001b[38;5;241m2\u001b[39m\u001b[38;5;241m!=\u001b[39m\u001b[38;5;241m0\u001b[39m:\n\u001b[0;32m      4\u001b[0m       \u001b[38;5;28mprint\u001b[39m(yes)\n",
      "\u001b[1;31mNameError\u001b[0m: name 'a' is not defined"
     ]
    }
   ],
   "source": [
    "# a va b  musbat sonning faqat bittasi/ikkalasi toq son\n",
    "if a>0 and b>0: \n",
    "   if a//2!=0:\n",
    "      print(yes)\n",
    "   if b//2!=0:\n",
    "      print(yes) \n",
    "   else:\n",
    "      print(xatolik)    "
   ]
  },
  {
   "cell_type": "code",
   "execution_count": 33,
   "metadata": {},
   "outputs": [
    {
     "name": "stdout",
     "output_type": "stream",
     "text": [
      "Ikkala son ham musbat va toq.\n"
     ]
    }
   ],
   "source": [
    "a va b  musbat sonlarning ikkalasi xam toq xam musbat\n",
    "def check_numbers(a, b):\n",
    "    if a > 0 and b > 0 and a % 2 != 0 and b % 2 != 0:\n",
    "        return True\n",
    "    else:\n",
    "        return False\n",
    "\n",
    "\n",
    "a = int(input(\"a sonini kiriting: \"))\n",
    "b = int(input(\"b sonin5i kiriting: \"))\n",
    "\n",
    "if check_numbers(a, b):\n",
    "    print(\"Ikkala son ham musbat va toq.\")\n",
    "else:\n",
    "    print(\"Ikkala son ham musbat va toq emas.\")"
   ]
  },
  {
   "cell_type": "code",
   "execution_count": 34,
   "metadata": {},
   "outputs": [
    {
     "name": "stdout",
     "output_type": "stream",
     "text": [
      "Faqat bittasi yoki ikkalasi toq son.\n"
     ]
    }
   ],
   "source": [
    "# a va b  musbat sonning faqat bittasi/ikkalasi toq son\n",
    "def tekshir(a, b):\n",
    "    # Toq son tekshiruvi: sonni 2 ga bo'lganda qoldiq 1 bo'lishi kerak\n",
    "    a_toq = a % 2 != 0\n",
    "    b_toq = b % 2 != 0\n",
    "    \n",
    "    # Faqat bittasi yoki ikkalasi toq bo'lsa\n",
    "    return a_toq != b_toq\n",
    "\n",
    "# Misol\n",
    "a = 7\n",
    "b = 4\n",
    "\n",
    "if tekshir(a, b):\n",
    "    print(\"Faqat bittasi yoki ikkalasi toq son.\")\n",
    "else:\n",
    "    print(\"Barchasi juft yoki ikkalasi ham toq emas.\")"
   ]
  },
  {
   "cell_type": "code",
   "execution_count": 21,
   "metadata": {},
   "outputs": [
    {
     "ename": "NameError",
     "evalue": "name 'yuzlar' is not defined",
     "output_type": "error",
     "traceback": [
      "\u001b[1;31m---------------------------------------------------------------------------\u001b[0m",
      "\u001b[1;31mNameError\u001b[0m                                 Traceback (most recent call last)",
      "Cell \u001b[1;32mIn[21], line 4\u001b[0m\n\u001b[0;32m      1\u001b[0m \u001b[38;5;66;03m# Berilgan 3 xonali sonning raqamlar yigindisini aniqlang\u001b[39;00m\n\u001b[0;32m      2\u001b[0m c\u001b[38;5;241m=\u001b[39m\u001b[38;5;28mint\u001b[39m(\u001b[38;5;28minput\u001b[39m(\u001b[38;5;124m\"\u001b[39m\u001b[38;5;124m3 xonali sonni kiriting: \u001b[39m\u001b[38;5;124m\"\u001b[39m))\n\u001b[1;32m----> 4\u001b[0m raqamlar_yigindisi \u001b[38;5;241m=\u001b[39m\u001b[43myuzlar\u001b[49m\u001b[38;5;241m+\u001b[39monlar\u001b[38;5;241m+\u001b[39mbirlar\n\u001b[0;32m      5\u001b[0m yuzlar\u001b[38;5;241m=\u001b[39mc\u001b[38;5;241m/\u001b[39m\u001b[38;5;241m/\u001b[39m\u001b[38;5;241m100\u001b[39m\n\u001b[0;32m      6\u001b[0m onlar\u001b[38;5;241m=\u001b[39m(c\u001b[38;5;241m/\u001b[39m\u001b[38;5;241m/\u001b[39m\u001b[38;5;241m10\u001b[39m)\u001b[38;5;241m%\u001b[39m\u001b[38;5;241m10\u001b[39m\n",
      "\u001b[1;31mNameError\u001b[0m: name 'yuzlar' is not defined"
     ]
    }
   ],
   "source": [
    "# Berilgan 3 xonali sonning raqamlar yigindisini aniqlang\n",
    "c=int(input(\"3 xonali sonni kiriting: \"))\n",
    "\n",
    "raqamlar_yigindisi =yuzlar+onlar+birlar\n",
    "yuzlar=c//100\n",
    "onlar=(c//10)%10\n",
    "birlar=c%10\n",
    "\n",
    "print(f\"Berilgan sonning raqamlar yig'indisi: {raqamlar_yigindisi}\")"
   ]
  },
  {
   "cell_type": "code",
   "execution_count": 26,
   "metadata": {},
   "outputs": [
    {
     "data": {
      "text/plain": [
       "'ka'"
      ]
     },
     "execution_count": 26,
     "metadata": {},
     "output_type": "execute_result"
    }
   ],
   "source": [
    "# Berilgan so'zni dastlabki 2 ta xarfidan tashkil topgan soz tuzing agar 2 tadan kam bolsa $ belgisini \n",
    "# ishlatiling agar so'z faqat ''  dan iborat $$ qaytaring\n",
    "\n",
    "s='kalit'\n",
    "s[0]+s[1]"
   ]
  },
  {
   "cell_type": "code",
   "execution_count": 29,
   "metadata": {},
   "outputs": [
    {
     "ename": "ValueError",
     "evalue": "invalid literal for int() with base 10: 'soz'",
     "output_type": "error",
     "traceback": [
      "\u001b[1;31m---------------------------------------------------------------------------\u001b[0m",
      "\u001b[1;31mValueError\u001b[0m                                Traceback (most recent call last)",
      "Cell \u001b[1;32mIn[29], line 1\u001b[0m\n\u001b[1;32m----> 1\u001b[0m s\u001b[38;5;241m=\u001b[39m\u001b[38;5;28;43mint\u001b[39;49m\u001b[43m(\u001b[49m\u001b[38;5;28;43minput\u001b[39;49m\u001b[43m(\u001b[49m\u001b[38;5;124;43m'\u001b[39;49m\u001b[38;5;124;43msozni kiriting:\u001b[39;49m\u001b[38;5;124;43m'\u001b[39;49m\u001b[43m)\u001b[49m\u001b[43m)\u001b[49m\n\u001b[0;32m      2\u001b[0m \u001b[38;5;28;01mif\u001b[39;00m \u001b[38;5;28mlen\u001b[39m(s):\n\u001b[0;32m      3\u001b[0m   \u001b[38;5;28mprint\u001b[39m(\u001b[38;5;124mf\u001b[39m\u001b[38;5;124m\"\u001b[39m\u001b[38;5;124m'\u001b[39m\u001b[38;5;132;01m{\u001b[39;00msoz\u001b[38;5;132;01m}\u001b[39;00m\u001b[38;5;124m'\u001b[39m\u001b[38;5;124m so\u001b[39m\u001b[38;5;124m'\u001b[39m\u001b[38;5;124mzi \u001b[39m\u001b[38;5;132;01m{\u001b[39;00muzunlik\u001b[38;5;132;01m}\u001b[39;00m\u001b[38;5;124m ta harfdan tashkil topgan.\u001b[39m\u001b[38;5;124m\"\u001b[39m)\n",
      "\u001b[1;31mValueError\u001b[0m: invalid literal for int() with base 10: 'soz'"
     ]
    }
   ],
   "source": [
    "s=int(input('sozni kiriting:'))\n",
    "if len(s):\n",
    "  print(f\"'{soz}' so'zi {uzunlik} ta harfdan tashkil topgan.\")\n",
    "    print('s[0]+s[1]')"
   ]
  },
  {
   "cell_type": "code",
   "execution_count": 35,
   "metadata": {},
   "outputs": [
    {
     "name": "stdout",
     "output_type": "stream",
     "text": [
      "xatolikni kattasi\n"
     ]
    }
   ],
   "source": [
    "#Agar berilgan  juft uzunllikka ega bo'lgan so'zning bosh xarfi 'a' yoki 'A' bo'sa bosh xarf agar z yoki Z bo'lsa oxirgi xarf aks xolda xatolik deb ekranga chiqaring\n",
    "s=str(input('textni kiriting:'))\n",
    "if len(s)%2==0:\n",
    "    if (s[0]=='a' or s[0]=='A') and (s[-1]=='z' or s[-1]=='Z'):\n",
    "        print('bosh yoki  oxir')\n",
    "    elif s[0]=='a' or s[0]=='A':\n",
    "        print('bosh xarf')\n",
    "    elif s[-1]=='z' or s[-1]=='Z':\n",
    "        print('oxirgi xarf')\n",
    "    \n",
    "    else:\n",
    "        print('xatolik')\n",
    "else:\n",
    "    print('xatolikni kattasi')"
   ]
  },
  {
   "cell_type": "code",
   "execution_count": 39,
   "metadata": {},
   "outputs": [
    {
     "name": "stdout",
     "output_type": "stream",
     "text": [
      "qaytadan son kiriting\n"
     ]
    }
   ],
   "source": [
    "#Berilgan  musbat sonni oxirgi raqami 0 bilan tugasa '10 ga bo'linadigan son  5 bn tugasa  '5 ga bo'linadigan bo'lsa ' aks xolda 'qaytadan son kiriting deagn yozuvni ekranga chiqaring(2 ta usulda koring)\n",
    "\n",
    "x=int(input('sonni kiriting:'))\n",
    "if x>0 :\n",
    "    if x%10==0:\n",
    "        print('10 ga bolinadigan son')\n",
    "    elif x%5==0:\n",
    "        print('5 ga bolinadigan son')\n",
    "    else:\n",
    "        print('qaytadan son kiriting')\n",
    "else:\n",
    "    print('no')"
   ]
  },
  {
   "cell_type": "code",
   "execution_count": 41,
   "metadata": {},
   "outputs": [
    {
     "name": "stdout",
     "output_type": "stream",
     "text": [
      "xatolik\n"
     ]
    }
   ],
   "source": [
    "n=int(input('sonni kiriting:'))\n",
    "if n>0:\n",
    "    if str(n)[-1]=='0':\n",
    "            print('10 ga bolinadigan son')\n",
    "\n",
    "    elif str(n)[-1]=='5':\n",
    "        print('5 ga bolinadigan son')\n",
    "    else:\n",
    "        print('xatolik')\n",
    "else:\n",
    "    print('no')"
   ]
  },
  {
   "cell_type": "code",
   "execution_count": null,
   "metadata": {},
   "outputs": [],
   "source": []
  }
 ],
 "metadata": {
  "kernelspec": {
   "display_name": "Python 3",
   "language": "python",
   "name": "python3"
  },
  "language_info": {
   "codemirror_mode": {
    "name": "ipython",
    "version": 3
   },
   "file_extension": ".py",
   "mimetype": "text/x-python",
   "name": "python",
   "nbconvert_exporter": "python",
   "pygments_lexer": "ipython3",
   "version": "3.13.1"
  }
 },
 "nbformat": 4,
 "nbformat_minor": 2
}
