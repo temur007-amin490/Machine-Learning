{
 "cells": [
  {
   "cell_type": "code",
   "execution_count": 1,
   "metadata": {},
   "outputs": [
    {
     "name": "stdout",
     "output_type": "stream",
     "text": [
      "siz oqishga kira olasiz\n"
     ]
    }
   ],
   "source": [
    "# agar yoshingiz 25 dan katta bolsa siz oqishga kira olasiz aks holda siz oqishga kira olmaysiz \n",
    "master_degre_yoshi1=int(input('yoshingizni kiriting:'))\n",
    "if master_degre_yoshi1>=25:\n",
    "   print('siz oqishga kira olasiz')\n",
    "else:\n",
    "   print('siz oqishga kira olmaysiz')"
   ]
  },
  {
   "cell_type": "code",
   "execution_count": 8,
   "metadata": {},
   "outputs": [
    {
     "name": "stdout",
     "output_type": "stream",
     "text": [
      "xato,qayta yozing\n"
     ]
    }
   ],
   "source": [
    "# parol tuzing agar u togri bolsa kirish mumkin aks holda xato qayta urinib koring degan yozuv ekranga chiqaring\n",
    "parol=int(input('parolni kiriting'))\n",
    "if parol==1111:\n",
    "    print('kirish mumkin')\n",
    "else:\n",
    "    print('xato,qayta yozing')    "
   ]
  },
  {
   "cell_type": "code",
   "execution_count": 9,
   "metadata": {},
   "outputs": [
    {
     "name": "stdout",
     "output_type": "stream",
     "text": [
      "error,try again\n"
     ]
    }
   ],
   "source": [
    "# parol tuzing agar u togri bolsa kirish mumkin oxirgi raqam xato bolsa yaqin keldiz aks holda xato qayta urinib koring degan yozuv ekranga chiqaring\n",
    "parol=int(input('parolni kiriting'))\n",
    "if parol==1111:\n",
    "    print('togri,kirish mumkin')\n",
    "elif parol==1112:\n",
    "    print('yaqin keldiz')\n",
    "else :\n",
    "    print('error,try again')"
   ]
  },
  {
   "cell_type": "code",
   "execution_count": 5,
   "metadata": {},
   "outputs": [
    {
     "name": "stdout",
     "output_type": "stream",
     "text": [
      "no\n"
     ]
    }
   ],
   "source": [
    "# agar son xam 2 ga xam3 bo'linsa ok degan yozuv chiqsin aks holda no degan yozuv chiqaring\n",
    "x=int(input('sonni kiriting'))\n",
    "if x%2 and x%3:\n",
    "    print('ok')\n",
    "elif x%2 and x%3!=0:\n",
    "    print('yaqin keldiz')    \n",
    "else: \n",
    "    print('no')   "
   ]
  },
  {
   "cell_type": "code",
   "execution_count": 17,
   "metadata": {},
   "outputs": [
    {
     "name": "stdout",
     "output_type": "stream",
     "text": [
      "error\n"
     ]
    }
   ],
   "source": [
    "# agar son xam 2 ga xam3 bo'linsa 6 karrali degan yozuv chiqaring  aks holda error degan yozuv chiqaring\n",
    "x=int(input('sonni kiriting'))\n",
    "if x%2 and x%3:\n",
    "    print('6 karrali son')\n",
    "else :\n",
    "    print('error')    \n"
   ]
  },
  {
   "cell_type": "code",
   "execution_count": 3,
   "metadata": {},
   "outputs": [
    {
     "name": "stdout",
     "output_type": "stream",
     "text": [
      "Alo\n"
     ]
    }
   ],
   "source": [
    "# agar oquvchi bahosi 5 bo'lsa alo degan yozuv chiqaring,4 bo'lsa yaxshi,3 bo'lsa orta 2 bo'lsa yomon degan yozuv chiqaring\n",
    "oquvchini_bahosi=int(input('soni kiriting:(5,4,3,2)'))\n",
    "if oquvchini_bahosi==5:\n",
    "    print('Alo')\n",
    "elif oquvchini_bahosi==4:\n",
    "    print('yaxshi')\n",
    "elif oquvchini_bahosi==3:\n",
    "    print('orta') \n",
    "elif oquvchini_bahosi==2:\n",
    "    print('yomon')\n",
    "else :\n",
    "    print('togri son kiriting')"
   ]
  }
 ],
 "metadata": {
  "kernelspec": {
   "display_name": "Python 3",
   "language": "python",
   "name": "python3"
  },
  "language_info": {
   "codemirror_mode": {
    "name": "ipython",
    "version": 3
   },
   "file_extension": ".py",
   "mimetype": "text/x-python",
   "name": "python",
   "nbconvert_exporter": "python",
   "pygments_lexer": "ipython3",
   "version": "3.13.1"
  }
 },
 "nbformat": 4,
 "nbformat_minor": 2
}
