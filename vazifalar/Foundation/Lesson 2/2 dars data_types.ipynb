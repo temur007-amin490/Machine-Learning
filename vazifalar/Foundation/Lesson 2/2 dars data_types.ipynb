{
 "cells": [
  {
   "cell_type": "markdown",
   "id": "c2faecf1",
   "metadata": {},
   "source": [
    "# Data Types"
   ]
  },
  {
   "cell_type": "code",
   "execution_count": 3,
   "id": "0fd0b44a",
   "metadata": {},
   "outputs": [
    {
     "data": {
      "text/plain": [
       "int"
      ]
     },
     "execution_count": 3,
     "metadata": {},
     "output_type": "execute_result"
    }
   ],
   "source": [
    "#int\n",
    "a=5\n",
    "type(a)"
   ]
  },
  {
   "cell_type": "code",
   "execution_count": 50,
   "id": "b7bf2eeb",
   "metadata": {},
   "outputs": [
    {
     "data": {
      "text/plain": [
       "float"
      ]
     },
     "execution_count": 50,
     "metadata": {},
     "output_type": "execute_result"
    }
   ],
   "source": [
    "x=5.0\n",
    "type(x)"
   ]
  },
  {
   "cell_type": "code",
   "execution_count": 4,
   "id": "d84b1647",
   "metadata": {},
   "outputs": [
    {
     "data": {
      "text/plain": [
       "float"
      ]
     },
     "execution_count": 4,
     "metadata": {},
     "output_type": "execute_result"
    }
   ],
   "source": [
    "#float\n",
    "b=4.34\n",
    "type(b)"
   ]
  },
  {
   "cell_type": "code",
   "execution_count": 5,
   "id": "ab1f3d98",
   "metadata": {},
   "outputs": [
    {
     "data": {
      "text/plain": [
       "str"
      ]
     },
     "execution_count": 5,
     "metadata": {},
     "output_type": "execute_result"
    }
   ],
   "source": [
    "c='Hello'\n",
    "type(c)"
   ]
  },
  {
   "cell_type": "code",
   "execution_count": 10,
   "id": "1ba0addb",
   "metadata": {},
   "outputs": [
    {
     "data": {
      "text/plain": [
       "str"
      ]
     },
     "execution_count": 10,
     "metadata": {},
     "output_type": "execute_result"
    }
   ],
   "source": [
    "d='5'\n",
    "type(d)"
   ]
  },
  {
   "cell_type": "code",
   "execution_count": 12,
   "id": "a75fbac9",
   "metadata": {},
   "outputs": [
    {
     "ename": "SyntaxError",
     "evalue": "unterminated string literal (detected at line 1) (270891565.py, line 1)",
     "output_type": "error",
     "traceback": [
      "\u001b[1;36m  Cell \u001b[1;32mIn[12], line 1\u001b[1;36m\u001b[0m\n\u001b[1;33m    d=\"5'\u001b[0m\n\u001b[1;37m      ^\u001b[0m\n\u001b[1;31mSyntaxError\u001b[0m\u001b[1;31m:\u001b[0m unterminated string literal (detected at line 1)\n"
     ]
    }
   ],
   "source": [
    "d=\"5'\n",
    "type(d)"
   ]
  },
  {
   "cell_type": "code",
   "execution_count": 14,
   "id": "cf12ef88",
   "metadata": {},
   "outputs": [
    {
     "data": {
      "text/plain": [
       "False"
      ]
     },
     "execution_count": 14,
     "metadata": {},
     "output_type": "execute_result"
    }
   ],
   "source": [
    "#Boolean\n",
    "1==2"
   ]
  },
  {
   "cell_type": "markdown",
   "id": "a061d864",
   "metadata": {},
   "source": [
    "# Operations"
   ]
  },
  {
   "cell_type": "code",
   "execution_count": null,
   "id": "b6858034",
   "metadata": {},
   "outputs": [],
   "source": [
    "# Math operations\n",
    "#+,-,*,/,//,%,**"
   ]
  },
  {
   "cell_type": "code",
   "execution_count": null,
   "id": "e97b4b20",
   "metadata": {},
   "outputs": [],
   "source": []
  },
  {
   "cell_type": "code",
   "execution_count": null,
   "id": "a84a024c",
   "metadata": {},
   "outputs": [
    {
     "name": "stdout",
     "output_type": "stream",
     "text": [
      "8\n",
      "ikki sonning yigindisi: 8\n",
      "2\n",
      "15\n",
      "1.6666666666666667\n",
      "1\n",
      "2\n",
      "125\n",
      "125\n"
     ]
    }
   ],
   "source": [
    "a=5\n",
    "b=3\n",
    "print(a+b)\n",
    "print('ikki sonning yigindisi:',a+b)\n",
    "print(a-b)\n",
    "print(a*b)\n",
    "print(a/b)\n",
    "print(a//b)   #butun qismini olish uchun\n",
    "print(a%b)\n",
    "print(a**b)\n",
    "print(pow(a,b))  # darajani 2 chi usuli"
   ]
  },
  {
   "cell_type": "code",
   "execution_count": null,
   "id": "643887ec",
   "metadata": {},
   "outputs": [
    {
     "name": "stdout",
     "output_type": "stream",
     "text": [
      "istalgan ikki sonning yigindisi: 17 ga teng\n"
     ]
    }
   ],
   "source": [
    "#Istalgan 2 sonning yigindisini toping(Umumiy xolat)\n",
    "a=int(input('birinchi sonni kiriting:'))\n",
    "b=int(input('ikkinchi sonni kiriting:'))\n",
    "print('istalgan ikki sonning yigindisi:',a+b,'ga teng')\n",
    "\n"
   ]
  },
  {
   "cell_type": "code",
   "execution_count": 30,
   "id": "7fd336c3",
   "metadata": {},
   "outputs": [
    {
     "data": {
      "text/plain": [
       "True"
      ]
     },
     "execution_count": 30,
     "metadata": {},
     "output_type": "execute_result"
    }
   ],
   "source": [
    "#Logic Operator, Comparative\n",
    "#<,>,<=,>=,==,!=\n",
    "a=1\n",
    "b=3\n",
    "a!=b\n"
   ]
  },
  {
   "cell_type": "code",
   "execution_count": 45,
   "id": "d15628f8",
   "metadata": {},
   "outputs": [
    {
     "data": {
      "text/plain": [
       "'o'"
      ]
     },
     "execution_count": 45,
     "metadata": {},
     "output_type": "execute_result"
    }
   ],
   "source": [
    "# String+Indexing \n",
    "\n",
    "s='Hello'\n",
    "s[-1]\n",
    "\n"
   ]
  },
  {
   "cell_type": "code",
   "execution_count": 48,
   "id": "cef2c524",
   "metadata": {},
   "outputs": [
    {
     "data": {
      "text/plain": [
       "True"
      ]
     },
     "execution_count": 48,
     "metadata": {},
     "output_type": "execute_result"
    }
   ],
   "source": [
    "s[-2]==s[3]"
   ]
  },
  {
   "cell_type": "code",
   "execution_count": 47,
   "id": "5e4a75a6",
   "metadata": {},
   "outputs": [
    {
     "data": {
      "text/plain": [
       "'l'"
      ]
     },
     "execution_count": 47,
     "metadata": {},
     "output_type": "execute_result"
    }
   ],
   "source": [
    "s[3]"
   ]
  },
  {
   "cell_type": "code",
   "execution_count": 40,
   "id": "2b3bb71e",
   "metadata": {},
   "outputs": [
    {
     "data": {
      "text/plain": [
       "'lo'"
      ]
     },
     "execution_count": 40,
     "metadata": {},
     "output_type": "execute_result"
    }
   ],
   "source": [
    "# Slicing\n",
    "s[3:]"
   ]
  },
  {
   "cell_type": "code",
   "execution_count": 39,
   "id": "137211c4",
   "metadata": {},
   "outputs": [
    {
     "data": {
      "text/plain": [
       "'He'"
      ]
     },
     "execution_count": 39,
     "metadata": {},
     "output_type": "execute_result"
    }
   ],
   "source": [
    "s[:2]"
   ]
  },
  {
   "cell_type": "code",
   "execution_count": 41,
   "id": "df8ae2db",
   "metadata": {},
   "outputs": [
    {
     "data": {
      "text/plain": [
       "'ll'"
      ]
     },
     "execution_count": 41,
     "metadata": {},
     "output_type": "execute_result"
    }
   ],
   "source": [
    "s[2:4]"
   ]
  },
  {
   "cell_type": "code",
   "execution_count": 44,
   "id": "ade4743a",
   "metadata": {},
   "outputs": [
    {
     "data": {
      "text/plain": [
       "'Hel'"
      ]
     },
     "execution_count": 44,
     "metadata": {},
     "output_type": "execute_result"
    }
   ],
   "source": [
    "s[:-2]"
   ]
  },
  {
   "cell_type": "markdown",
   "id": "11887df2",
   "metadata": {},
   "source": [
    "# Vazifa"
   ]
  },
  {
   "cell_type": "code",
   "execution_count": null,
   "id": "c72fd236",
   "metadata": {},
   "outputs": [],
   "source": [
    "#Istalgan 3 ta sonni yigindisini toping\n",
    "#Berilgan so'zni dastlabki 4 ta xarfini ekranga chiqaring\n",
    "# Berilgan so'zni oxirgi 3 ta xarfini ekranga chiqaring\n",
    "# Berilgan sozni 3 va 9 xarflari orasidagi xarflarini toping\n",
    "#Istalgan sonni istalgan darasini toping"
   ]
  },
  {
   "cell_type": "code",
   "execution_count": null,
   "id": "16624f2d",
   "metadata": {},
   "outputs": [
    {
     "name": "stdout",
     "output_type": "stream",
     "text": [
      "10\n"
     ]
    }
   ],
   "source": [
    "#Istalgan 3 ta sonni yigindisini toping\n",
    "a=5 \n",
    "b=3\n",
    "c=2\n",
    "print(a+b+c)"
   ]
  },
  {
   "cell_type": "code",
   "execution_count": 6,
   "id": "2f2a5e55",
   "metadata": {},
   "outputs": [
    {
     "data": {
      "text/plain": [
       "'Mukh'"
      ]
     },
     "execution_count": 6,
     "metadata": {},
     "output_type": "execute_result"
    }
   ],
   "source": [
    "#Berilgan so'zni dastlabki 4 ta xarfini ekranga chiqaring\n",
    "x='MukhammadAmin'\n",
    "x[:4]"
   ]
  },
  {
   "cell_type": "code",
   "execution_count": 13,
   "id": "d3177708",
   "metadata": {},
   "outputs": [
    {
     "data": {
      "text/plain": [
       "'min'"
      ]
     },
     "execution_count": 13,
     "metadata": {},
     "output_type": "execute_result"
    }
   ],
   "source": [
    "# Berilgan so'zni oxirgi 3 ta xarfini ekranga chiqaring\n",
    "\n",
    "x[-3:]"
   ]
  },
  {
   "cell_type": "code",
   "execution_count": 14,
   "id": "67de420d",
   "metadata": {},
   "outputs": [
    {
     "data": {
      "text/plain": [
       "'hammad'"
      ]
     },
     "execution_count": 14,
     "metadata": {},
     "output_type": "execute_result"
    }
   ],
   "source": [
    "# Berilgan sozni 3 va 9 xarflari orasidagi xarflarini toping\n",
    "x[3:9]"
   ]
  },
  {
   "cell_type": "code",
   "execution_count": 15,
   "id": "77e33e2a",
   "metadata": {},
   "outputs": [
    {
     "name": "stdout",
     "output_type": "stream",
     "text": [
      "125\n"
     ]
    }
   ],
   "source": [
    "#Istalgan sonni istalgan darasini toping\n",
    "\n",
    "print(pow(a,b)) "
   ]
  }
 ],
 "metadata": {
  "kernelspec": {
   "display_name": "Python 3",
   "language": "python",
   "name": "python3"
  },
  "language_info": {
   "codemirror_mode": {
    "name": "ipython",
    "version": 3
   },
   "file_extension": ".py",
   "mimetype": "text/x-python",
   "name": "python",
   "nbconvert_exporter": "python",
   "pygments_lexer": "ipython3",
   "version": "3.13.1"
  }
 },
 "nbformat": 4,
 "nbformat_minor": 5
}
