{
 "cells": [
  {
   "cell_type": "markdown",
   "metadata": {},
   "source": [
    "# Ipmort Libraries"
   ]
  },
  {
   "cell_type": "code",
   "execution_count": 9,
   "metadata": {},
   "outputs": [],
   "source": [
    "import pandas as pd\n",
    "import numpy as np\n",
    "import seaborn as sbs\n",
    "import matplotlib.pyplot as plt\n",
    "from sklearn.preprocessing import LabelEncoder,StandardScaler,MinMaxScaler\n",
    "from sklearn.model_selection import train_test_split\n",
    "from sklearn.linear_model import LogisticRegression,LinearRegression\n",
    "from sklearn .tree import DecisionTreeClassifier,DecisionTreeRegressor\n",
    "from sklearn.metrics import accuracy_score,mean_squared_error,r2_score "
   ]
  },
  {
   "cell_type": "code",
   "execution_count": 6,
   "metadata": {},
   "outputs": [
    {
     "name": "stdout",
     "output_type": "stream",
     "text": [
      "Requirement already satisfied: pandas in c:\\users\\user\\appdata\\local\\programs\\python\\python313\\lib\\site-packages (2.2.3)\n",
      "Requirement already satisfied: numpy>=1.26.0 in c:\\users\\user\\appdata\\local\\programs\\python\\python313\\lib\\site-packages (from pandas) (2.2.2)\n",
      "Requirement already satisfied: python-dateutil>=2.8.2 in c:\\users\\user\\appdata\\roaming\\python\\python313\\site-packages (from pandas) (2.9.0.post0)\n",
      "Requirement already satisfied: pytz>=2020.1 in c:\\users\\user\\appdata\\local\\programs\\python\\python313\\lib\\site-packages (from pandas) (2024.2)\n",
      "Requirement already satisfied: tzdata>=2022.7 in c:\\users\\user\\appdata\\local\\programs\\python\\python313\\lib\\site-packages (from pandas) (2025.1)\n",
      "Requirement already satisfied: six>=1.5 in c:\\users\\user\\appdata\\roaming\\python\\python313\\site-packages (from python-dateutil>=2.8.2->pandas) (1.17.0)\n",
      "Note: you may need to restart the kernel to use updated packages.\n"
     ]
    },
    {
     "name": "stderr",
     "output_type": "stream",
     "text": [
      "\n",
      "[notice] A new release of pip is available: 24.3.1 -> 25.0.1\n",
      "[notice] To update, run: python.exe -m pip install --upgrade pip\n"
     ]
    }
   ],
   "source": [
    "pip install pandas\n"
   ]
  },
  {
   "cell_type": "markdown",
   "metadata": {},
   "source": [
    "# Uploading dataset"
   ]
  },
  {
   "cell_type": "code",
   "execution_count": 15,
   "metadata": {},
   "outputs": [],
   "source": [
    "df=pd.read_csv('Car Price as.csv')"
   ]
  },
  {
   "cell_type": "code",
   "execution_count": 17,
   "metadata": {},
   "outputs": [
    {
     "name": "stdout",
     "output_type": "stream",
     "text": [
      "<class 'pandas.core.frame.DataFrame'>\n",
      "RangeIndex: 2111 entries, 0 to 2110\n",
      "Data columns (total 18 columns):\n",
      " #   Column            Non-Null Count  Dtype  \n",
      "---  ------            --------------  -----  \n",
      " 0   ID                2109 non-null   object \n",
      " 1   Price             2110 non-null   float64\n",
      " 2   Levy              2110 non-null   object \n",
      " 3   Manufacturer      2107 non-null   object \n",
      " 4   Model             2108 non-null   object \n",
      " 5   Prod. year        2106 non-null   object \n",
      " 6   Category          2106 non-null   object \n",
      " 7   Leather interior  2109 non-null   object \n",
      " 8   Fuel type         2106 non-null   object \n",
      " 9   Engine volume     2110 non-null   object \n",
      " 10  Mileage           2108 non-null   object \n",
      " 11  Cylinders         2111 non-null   object \n",
      " 12  Gear box type     2111 non-null   object \n",
      " 13  Drive wheels      2111 non-null   object \n",
      " 14  Doors             2108 non-null   object \n",
      " 15  Wheel             2108 non-null   object \n",
      " 16  Color             2111 non-null   object \n",
      " 17  Airbags           56 non-null     float64\n",
      "dtypes: float64(2), object(16)\n",
      "memory usage: 297.0+ KB\n"
     ]
    }
   ],
   "source": [
    "df.info()"
   ]
  },
  {
   "cell_type": "code",
   "execution_count": 16,
   "metadata": {},
   "outputs": [
    {
     "data": {
      "text/html": [
       "<div>\n",
       "<style scoped>\n",
       "    .dataframe tbody tr th:only-of-type {\n",
       "        vertical-align: middle;\n",
       "    }\n",
       "\n",
       "    .dataframe tbody tr th {\n",
       "        vertical-align: top;\n",
       "    }\n",
       "\n",
       "    .dataframe thead th {\n",
       "        text-align: right;\n",
       "    }\n",
       "</style>\n",
       "<table border=\"1\" class=\"dataframe\">\n",
       "  <thead>\n",
       "    <tr style=\"text-align: right;\">\n",
       "      <th></th>\n",
       "      <th>ID</th>\n",
       "      <th>Price</th>\n",
       "      <th>Levy</th>\n",
       "      <th>Manufacturer</th>\n",
       "      <th>Model</th>\n",
       "      <th>Prod. year</th>\n",
       "      <th>Category</th>\n",
       "      <th>Leather interior</th>\n",
       "      <th>Fuel type</th>\n",
       "      <th>Engine volume</th>\n",
       "      <th>Mileage</th>\n",
       "      <th>Cylinders</th>\n",
       "      <th>Gear box type</th>\n",
       "      <th>Drive wheels</th>\n",
       "      <th>Doors</th>\n",
       "      <th>Wheel</th>\n",
       "      <th>Color</th>\n",
       "      <th>Airbags</th>\n",
       "    </tr>\n",
       "  </thead>\n",
       "  <tbody>\n",
       "    <tr>\n",
       "      <th>0</th>\n",
       "      <td>45654403</td>\n",
       "      <td>13328.0</td>\n",
       "      <td>1399</td>\n",
       "      <td>LEXUS</td>\n",
       "      <td>RX 450</td>\n",
       "      <td>2010</td>\n",
       "      <td>Jeep</td>\n",
       "      <td>Yes</td>\n",
       "      <td>Hybrid</td>\n",
       "      <td>3.5</td>\n",
       "      <td>186005 km</td>\n",
       "      <td>6</td>\n",
       "      <td>Automatic</td>\n",
       "      <td>4x4</td>\n",
       "      <td>4-May</td>\n",
       "      <td>Left wheel</td>\n",
       "      <td>Silver</td>\n",
       "      <td>12.0</td>\n",
       "    </tr>\n",
       "    <tr>\n",
       "      <th>1</th>\n",
       "      <td>44731507</td>\n",
       "      <td>16621.0</td>\n",
       "      <td>1018</td>\n",
       "      <td>CHEVROLET</td>\n",
       "      <td>Equinox</td>\n",
       "      <td>2011</td>\n",
       "      <td>Jeep</td>\n",
       "      <td>No</td>\n",
       "      <td>Petrol</td>\n",
       "      <td>3</td>\n",
       "      <td>192000 km</td>\n",
       "      <td>6</td>\n",
       "      <td>Tiptronic</td>\n",
       "      <td>4x4</td>\n",
       "      <td>4-May</td>\n",
       "      <td>Left wheel</td>\n",
       "      <td>Black</td>\n",
       "      <td>8.0</td>\n",
       "    </tr>\n",
       "    <tr>\n",
       "      <th>2</th>\n",
       "      <td>45774419</td>\n",
       "      <td>8467.0</td>\n",
       "      <td>-</td>\n",
       "      <td>HONDA</td>\n",
       "      <td>FIT</td>\n",
       "      <td>2006</td>\n",
       "      <td>Hatchback</td>\n",
       "      <td>No</td>\n",
       "      <td>Petrol</td>\n",
       "      <td>1.3</td>\n",
       "      <td>200000 km</td>\n",
       "      <td>4</td>\n",
       "      <td>Variator</td>\n",
       "      <td>Front</td>\n",
       "      <td>4-May</td>\n",
       "      <td>Right-hand drive</td>\n",
       "      <td>Black</td>\n",
       "      <td>2.0</td>\n",
       "    </tr>\n",
       "    <tr>\n",
       "      <th>3</th>\n",
       "      <td>45769185</td>\n",
       "      <td>3607.0</td>\n",
       "      <td>862</td>\n",
       "      <td>FORD</td>\n",
       "      <td>Escape</td>\n",
       "      <td>2011</td>\n",
       "      <td>Jeep</td>\n",
       "      <td>Yes</td>\n",
       "      <td>Hybrid</td>\n",
       "      <td>2.5</td>\n",
       "      <td>168966 km</td>\n",
       "      <td>4</td>\n",
       "      <td>Automatic</td>\n",
       "      <td>4x4</td>\n",
       "      <td>4-May</td>\n",
       "      <td>Left wheel</td>\n",
       "      <td>White</td>\n",
       "      <td>0.0</td>\n",
       "    </tr>\n",
       "    <tr>\n",
       "      <th>4</th>\n",
       "      <td>45809263</td>\n",
       "      <td>11726.0</td>\n",
       "      <td>446</td>\n",
       "      <td>HONDA</td>\n",
       "      <td>FIT</td>\n",
       "      <td>2014</td>\n",
       "      <td>Hatchback</td>\n",
       "      <td>Yes</td>\n",
       "      <td>Petrol</td>\n",
       "      <td>1.3</td>\n",
       "      <td>91901 km</td>\n",
       "      <td>4</td>\n",
       "      <td>Automatic</td>\n",
       "      <td>Front</td>\n",
       "      <td>4-May</td>\n",
       "      <td>Left wheel</td>\n",
       "      <td>Silver</td>\n",
       "      <td>4.0</td>\n",
       "    </tr>\n",
       "  </tbody>\n",
       "</table>\n",
       "</div>"
      ],
      "text/plain": [
       "         ID    Price  Levy Manufacturer    Model Prod. year   Category  \\\n",
       "0  45654403  13328.0  1399        LEXUS   RX 450       2010       Jeep   \n",
       "1  44731507  16621.0  1018    CHEVROLET  Equinox       2011       Jeep   \n",
       "2  45774419   8467.0     -        HONDA      FIT       2006  Hatchback   \n",
       "3  45769185   3607.0   862         FORD   Escape       2011       Jeep   \n",
       "4  45809263  11726.0   446        HONDA      FIT       2014  Hatchback   \n",
       "\n",
       "  Leather interior Fuel type Engine volume    Mileage Cylinders Gear box type  \\\n",
       "0              Yes    Hybrid           3.5  186005 km         6     Automatic   \n",
       "1               No    Petrol             3  192000 km         6     Tiptronic   \n",
       "2               No    Petrol           1.3  200000 km         4      Variator   \n",
       "3              Yes    Hybrid           2.5  168966 km         4     Automatic   \n",
       "4              Yes    Petrol           1.3   91901 km         4     Automatic   \n",
       "\n",
       "  Drive wheels  Doors             Wheel   Color  Airbags  \n",
       "0          4x4  4-May        Left wheel  Silver     12.0  \n",
       "1          4x4  4-May        Left wheel   Black      8.0  \n",
       "2        Front  4-May  Right-hand drive   Black      2.0  \n",
       "3          4x4  4-May        Left wheel   White      0.0  \n",
       "4        Front  4-May        Left wheel  Silver      4.0  "
      ]
     },
     "execution_count": 16,
     "metadata": {},
     "output_type": "execute_result"
    }
   ],
   "source": [
    "df.head()"
   ]
  },
  {
   "cell_type": "code",
   "execution_count": null,
   "metadata": {},
   "outputs": [
    {
     "data": {
      "text/plain": [
       "ID                     2\n",
       "Price                  1\n",
       "Levy                   1\n",
       "Manufacturer           4\n",
       "Model                  3\n",
       "Prod. year             5\n",
       "Category               5\n",
       "Leather interior       2\n",
       "Fuel type              5\n",
       "Engine volume          1\n",
       "Mileage                3\n",
       "Cylinders              0\n",
       "Gear box type          0\n",
       "Drive wheels           0\n",
       "Doors                  3\n",
       "Wheel                  3\n",
       "Color                  0\n",
       "Airbags             2055\n",
       "dtype: int64"
      ]
     },
     "execution_count": 18,
     "metadata": {},
     "output_type": "execute_result"
    }
   ],
   "source": [
    "df.isnull().sum()  # tushib qolgan element juda kop shuning un datalarni drop qilib bolmaydi ,chunki maqsad model occuracy yuqori chiqarish imkon qadar "
   ]
  },
  {
   "cell_type": "markdown",
   "metadata": {},
   "source": [
    "# Handle missing value with for Loop"
   ]
  },
  {
   "cell_type": "code",
   "execution_count": null,
   "metadata": {},
   "outputs": [
    {
     "name": "stderr",
     "output_type": "stream",
     "text": [
      "C:\\Users\\User\\AppData\\Local\\Temp\\ipykernel_6692\\1058165353.py:3: FutureWarning: A value is trying to be set on a copy of a DataFrame or Series through chained assignment using an inplace method.\n",
      "The behavior will change in pandas 3.0. This inplace method will never work because the intermediate object on which we are setting values always behaves as a copy.\n",
      "\n",
      "For example, when doing 'df[col].method(value, inplace=True)', try using 'df.method({col: value}, inplace=True)' or df[col] = df[col].method(value) instead, to perform the operation inplace on the original object.\n",
      "\n",
      "\n",
      "  df[col].fillna(df[col].mode()[0],inplace=True)\n",
      "C:\\Users\\User\\AppData\\Local\\Temp\\ipykernel_6692\\1058165353.py:5: FutureWarning: A value is trying to be set on a copy of a DataFrame or Series through chained assignment using an inplace method.\n",
      "The behavior will change in pandas 3.0. This inplace method will never work because the intermediate object on which we are setting values always behaves as a copy.\n",
      "\n",
      "For example, when doing 'df[col].method(value, inplace=True)', try using 'df.method({col: value}, inplace=True)' or df[col] = df[col].method(value) instead, to perform the operation inplace on the original object.\n",
      "\n",
      "\n",
      "  df[col].fillna(df[col].mean(),inplace=True)\n"
     ]
    }
   ],
   "source": [
    "for col in df.columns:                                                   #for loop bn missing value qilgan afzal erur,sabab 4 line cod bn har bitta tushub qolgan featurega code yozishdan qutulamiz\n",
    "    if df[col].dtype=='object':\n",
    "        df[col].fillna(df[col].mode()[0],inplace=True)\n",
    "    else:\n",
    "        df[col].fillna(df[col].mean(),inplace=True)    "
   ]
  },
  {
   "cell_type": "code",
   "execution_count": 21,
   "metadata": {},
   "outputs": [
    {
     "data": {
      "text/plain": [
       "ID                  0\n",
       "Price               0\n",
       "Levy                0\n",
       "Manufacturer        0\n",
       "Model               0\n",
       "Prod. year          0\n",
       "Category            0\n",
       "Leather interior    0\n",
       "Fuel type           0\n",
       "Engine volume       0\n",
       "Mileage             0\n",
       "Cylinders           0\n",
       "Gear box type       0\n",
       "Drive wheels        0\n",
       "Doors               0\n",
       "Wheel               0\n",
       "Color               0\n",
       "Airbags             0\n",
       "dtype: int64"
      ]
     },
     "execution_count": 21,
     "metadata": {},
     "output_type": "execute_result"
    }
   ],
   "source": [
    "df.isnull().sum()"
   ]
  },
  {
   "cell_type": "markdown",
   "metadata": {},
   "source": [
    "# Encoding"
   ]
  },
  {
   "cell_type": "code",
   "execution_count": null,
   "metadata": {},
   "outputs": [
    {
     "name": "stdout",
     "output_type": "stream",
     "text": [
      "<class 'pandas.core.frame.DataFrame'>\n",
      "RangeIndex: 2111 entries, 0 to 2110\n",
      "Data columns (total 18 columns):\n",
      " #   Column            Non-Null Count  Dtype  \n",
      "---  ------            --------------  -----  \n",
      " 0   ID                2111 non-null   object \n",
      " 1   Price             2111 non-null   float64\n",
      " 2   Levy              2111 non-null   object \n",
      " 3   Manufacturer      2111 non-null   object \n",
      " 4   Model             2111 non-null   object \n",
      " 5   Prod. year        2111 non-null   object \n",
      " 6   Category          2111 non-null   object \n",
      " 7   Leather interior  2111 non-null   object \n",
      " 8   Fuel type         2111 non-null   object \n",
      " 9   Engine volume     2111 non-null   object \n",
      " 10  Mileage           2111 non-null   object \n",
      " 11  Cylinders         2111 non-null   object \n",
      " 12  Gear box type     2111 non-null   object \n",
      " 13  Drive wheels      2111 non-null   object \n",
      " 14  Doors             2111 non-null   object \n",
      " 15  Wheel             2111 non-null   object \n",
      " 16  Color             2111 non-null   object \n",
      " 17  Airbags           2111 non-null   float64\n",
      "dtypes: float64(2), object(16)\n",
      "memory usage: 297.0+ KB\n"
     ]
    }
   ],
   "source": [
    "df.info()  # object data typedagai featurelar juda kop. bunda ham for loopdan foydalanamiz ."
   ]
  },
  {
   "cell_type": "code",
   "execution_count": null,
   "metadata": {},
   "outputs": [],
   "source": [
    "cardinality=df.nunique() # Lekin avval cardinalityni topib olamiz maqsad onehot yoki Label qaysi biridan  foydalanamiz shuni aniqlab olish"
   ]
  },
  {
   "cell_type": "code",
   "execution_count": null,
   "metadata": {},
   "outputs": [
    {
     "data": {
      "text/plain": [
       "ID                    58\n",
       "Price               1449\n",
       "Levy                1610\n",
       "Manufacturer        1532\n",
       "Model                 37\n",
       "Prod. year            21\n",
       "Category             817\n",
       "Leather interior     637\n",
       "Fuel type             10\n",
       "Engine volume         22\n",
       "Mileage             1318\n",
       "Cylinders              6\n",
       "Gear box type       1194\n",
       "Drive wheels        1132\n",
       "Doors                  5\n",
       "Wheel                  7\n",
       "Color                 15\n",
       "Airbags                8\n",
       "dtype: int64"
      ]
     },
     "execution_count": 27,
     "metadata": {},
     "output_type": "execute_result"
    }
   ],
   "source": [
    "cardinality  #deyarli barcha data lamiz object ekan ularni numerical dat typega o'giramiz"
   ]
  },
  {
   "cell_type": "code",
   "execution_count": 28,
   "metadata": {},
   "outputs": [],
   "source": [
    "for col in df.columns:\n",
    "    if df[col].dtype=='object':\n",
    "        if cardinality[col]<=5:\n",
    "            df=pd.get_dummies(df,columns=[col],dtype=int,drop_first=True)\n",
    "        else:\n",
    "            le=LabelEncoder()\n",
    "            df[col]=le.fit_transform(df[col])\n"
   ]
  },
  {
   "cell_type": "code",
   "execution_count": 33,
   "metadata": {},
   "outputs": [
    {
     "name": "stdout",
     "output_type": "stream",
     "text": [
      "<class 'pandas.core.frame.DataFrame'>\n",
      "RangeIndex: 2111 entries, 0 to 2110\n",
      "Data columns (total 21 columns):\n",
      " #   Column            Non-Null Count  Dtype  \n",
      "---  ------            --------------  -----  \n",
      " 0   ID                2111 non-null   int64  \n",
      " 1   Price             2111 non-null   float64\n",
      " 2   Levy              2111 non-null   int64  \n",
      " 3   Manufacturer      2111 non-null   int64  \n",
      " 4   Model             2111 non-null   int64  \n",
      " 5   Prod. year        2111 non-null   int64  \n",
      " 6   Category          2111 non-null   int64  \n",
      " 7   Leather interior  2111 non-null   int64  \n",
      " 8   Fuel type         2111 non-null   int64  \n",
      " 9   Engine volume     2111 non-null   int64  \n",
      " 10  Mileage           2111 non-null   int64  \n",
      " 11  Cylinders         2111 non-null   int64  \n",
      " 12  Gear box type     2111 non-null   int64  \n",
      " 13  Drive wheels      2111 non-null   int64  \n",
      " 14  Wheel             2111 non-null   int64  \n",
      " 15  Color             2111 non-null   int64  \n",
      " 16  Airbags           2111 non-null   float64\n",
      " 17  Doors_4-May       2111 non-null   int64  \n",
      " 18  Doors_Frequently  2111 non-null   int64  \n",
      " 19  Doors_Sometimes   2111 non-null   int64  \n",
      " 20  Doors_no          2111 non-null   int64  \n",
      "dtypes: float64(2), int64(19)\n",
      "memory usage: 346.5 KB\n"
     ]
    }
   ],
   "source": [
    "df.info()    #korib turganimizdek 5 ta line code bn hamma object datalarni intager or floatga ozgartirib oldik"
   ]
  },
  {
   "cell_type": "markdown",
   "metadata": {},
   "source": [
    "# Scaling"
   ]
  },
  {
   "cell_type": "code",
   "execution_count": null,
   "metadata": {},
   "outputs": [],
   "source": [
    "num_col=df.select_dtypes(include=['int64']).columns  #barcha intager larni belgilab bitt ozgaruvchiga tenglab olamiz"
   ]
  },
  {
   "cell_type": "code",
   "execution_count": 32,
   "metadata": {},
   "outputs": [
    {
     "data": {
      "text/plain": [
       "Index(['ID', 'Levy', 'Manufacturer', 'Model', 'Prod. year', 'Category',\n",
       "       'Leather interior', 'Fuel type', 'Engine volume', 'Mileage',\n",
       "       'Cylinders', 'Gear box type', 'Drive wheels', 'Wheel', 'Color',\n",
       "       'Doors_4-May', 'Doors_Frequently', 'Doors_Sometimes', 'Doors_no'],\n",
       "      dtype='object')"
      ]
     },
     "execution_count": 32,
     "metadata": {},
     "output_type": "execute_result"
    }
   ],
   "source": [
    "num_col"
   ]
  },
  {
   "cell_type": "code",
   "execution_count": null,
   "metadata": {},
   "outputs": [],
   "source": [
    "scaler=StandardScaler()   #standard scalingdan foydalanamiz"
   ]
  },
  {
   "cell_type": "code",
   "execution_count": 35,
   "metadata": {},
   "outputs": [],
   "source": [
    "df[num_col]=scaler.fit_transform(df[num_col])"
   ]
  },
  {
   "cell_type": "code",
   "execution_count": null,
   "metadata": {},
   "outputs": [
    {
     "data": {
      "text/html": [
       "<div>\n",
       "<style scoped>\n",
       "    .dataframe tbody tr th:only-of-type {\n",
       "        vertical-align: middle;\n",
       "    }\n",
       "\n",
       "    .dataframe tbody tr th {\n",
       "        vertical-align: top;\n",
       "    }\n",
       "\n",
       "    .dataframe thead th {\n",
       "        text-align: right;\n",
       "    }\n",
       "</style>\n",
       "<table border=\"1\" class=\"dataframe\">\n",
       "  <thead>\n",
       "    <tr style=\"text-align: right;\">\n",
       "      <th></th>\n",
       "      <th>ID</th>\n",
       "      <th>Price</th>\n",
       "      <th>Levy</th>\n",
       "      <th>Manufacturer</th>\n",
       "      <th>Model</th>\n",
       "      <th>Prod. year</th>\n",
       "      <th>Category</th>\n",
       "      <th>Leather interior</th>\n",
       "      <th>Fuel type</th>\n",
       "      <th>Engine volume</th>\n",
       "      <th>...</th>\n",
       "      <th>Cylinders</th>\n",
       "      <th>Gear box type</th>\n",
       "      <th>Drive wheels</th>\n",
       "      <th>Wheel</th>\n",
       "      <th>Color</th>\n",
       "      <th>Airbags</th>\n",
       "      <th>Doors_4-May</th>\n",
       "      <th>Doors_Frequently</th>\n",
       "      <th>Doors_Sometimes</th>\n",
       "      <th>Doors_no</th>\n",
       "    </tr>\n",
       "  </thead>\n",
       "  <tbody>\n",
       "    <tr>\n",
       "      <th>0</th>\n",
       "      <td>-8.135587</td>\n",
       "      <td>13328.0</td>\n",
       "      <td>1.753891</td>\n",
       "      <td>1.652427</td>\n",
       "      <td>-2.495187</td>\n",
       "      <td>-6.070267</td>\n",
       "      <td>1.158649</td>\n",
       "      <td>1.331719</td>\n",
       "      <td>-1.384651</td>\n",
       "      <td>-2.341719</td>\n",
       "      <td>...</td>\n",
       "      <td>-4.072548</td>\n",
       "      <td>1.539495</td>\n",
       "      <td>1.538145</td>\n",
       "      <td>-0.670401</td>\n",
       "      <td>2.265057</td>\n",
       "      <td>12.0</td>\n",
       "      <td>6.231387</td>\n",
       "      <td>-0.17682</td>\n",
       "      <td>-1.356902</td>\n",
       "      <td>-0.647057</td>\n",
       "    </tr>\n",
       "    <tr>\n",
       "      <th>1</th>\n",
       "      <td>-10.181688</td>\n",
       "      <td>16621.0</td>\n",
       "      <td>1.732426</td>\n",
       "      <td>1.640393</td>\n",
       "      <td>-7.279601</td>\n",
       "      <td>-5.499295</td>\n",
       "      <td>1.158649</td>\n",
       "      <td>1.326197</td>\n",
       "      <td>-0.791028</td>\n",
       "      <td>-3.830984</td>\n",
       "      <td>...</td>\n",
       "      <td>-4.072548</td>\n",
       "      <td>1.544338</td>\n",
       "      <td>1.538145</td>\n",
       "      <td>-0.670401</td>\n",
       "      <td>-3.234121</td>\n",
       "      <td>8.0</td>\n",
       "      <td>6.231387</td>\n",
       "      <td>-0.17682</td>\n",
       "      <td>-1.356902</td>\n",
       "      <td>-0.647057</td>\n",
       "    </tr>\n",
       "    <tr>\n",
       "      <th>2</th>\n",
       "      <td>-4.043386</td>\n",
       "      <td>8467.0</td>\n",
       "      <td>-1.650465</td>\n",
       "      <td>1.645206</td>\n",
       "      <td>-6.382523</td>\n",
       "      <td>-8.354157</td>\n",
       "      <td>1.155267</td>\n",
       "      <td>1.326197</td>\n",
       "      <td>-0.791028</td>\n",
       "      <td>-9.788047</td>\n",
       "      <td>...</td>\n",
       "      <td>-6.136689</td>\n",
       "      <td>1.546760</td>\n",
       "      <td>1.540593</td>\n",
       "      <td>1.102313</td>\n",
       "      <td>-3.234121</td>\n",
       "      <td>2.0</td>\n",
       "      <td>6.231387</td>\n",
       "      <td>-0.17682</td>\n",
       "      <td>-1.356902</td>\n",
       "      <td>-0.647057</td>\n",
       "    </tr>\n",
       "    <tr>\n",
       "      <th>3</th>\n",
       "      <td>-5.159441</td>\n",
       "      <td>3607.0</td>\n",
       "      <td>1.798968</td>\n",
       "      <td>1.642800</td>\n",
       "      <td>-6.980575</td>\n",
       "      <td>-5.499295</td>\n",
       "      <td>1.158649</td>\n",
       "      <td>1.331719</td>\n",
       "      <td>-1.384651</td>\n",
       "      <td>-4.327406</td>\n",
       "      <td>...</td>\n",
       "      <td>-6.136689</td>\n",
       "      <td>1.539495</td>\n",
       "      <td>1.538145</td>\n",
       "      <td>-0.670401</td>\n",
       "      <td>3.181586</td>\n",
       "      <td>0.0</td>\n",
       "      <td>6.231387</td>\n",
       "      <td>-0.17682</td>\n",
       "      <td>-1.356902</td>\n",
       "      <td>-0.647057</td>\n",
       "    </tr>\n",
       "    <tr>\n",
       "      <th>4</th>\n",
       "      <td>-1.811276</td>\n",
       "      <td>11726.0</td>\n",
       "      <td>1.775356</td>\n",
       "      <td>1.645206</td>\n",
       "      <td>-6.382523</td>\n",
       "      <td>-3.786377</td>\n",
       "      <td>1.155267</td>\n",
       "      <td>1.331719</td>\n",
       "      <td>-0.791028</td>\n",
       "      <td>-9.788047</td>\n",
       "      <td>...</td>\n",
       "      <td>-6.136689</td>\n",
       "      <td>1.539495</td>\n",
       "      <td>1.540593</td>\n",
       "      <td>-0.670401</td>\n",
       "      <td>2.265057</td>\n",
       "      <td>4.0</td>\n",
       "      <td>6.231387</td>\n",
       "      <td>-0.17682</td>\n",
       "      <td>-1.356902</td>\n",
       "      <td>-0.647057</td>\n",
       "    </tr>\n",
       "  </tbody>\n",
       "</table>\n",
       "<p>5 rows × 21 columns</p>\n",
       "</div>"
      ],
      "text/plain": [
       "          ID    Price      Levy  Manufacturer     Model  Prod. year  Category  \\\n",
       "0  -8.135587  13328.0  1.753891      1.652427 -2.495187   -6.070267  1.158649   \n",
       "1 -10.181688  16621.0  1.732426      1.640393 -7.279601   -5.499295  1.158649   \n",
       "2  -4.043386   8467.0 -1.650465      1.645206 -6.382523   -8.354157  1.155267   \n",
       "3  -5.159441   3607.0  1.798968      1.642800 -6.980575   -5.499295  1.158649   \n",
       "4  -1.811276  11726.0  1.775356      1.645206 -6.382523   -3.786377  1.155267   \n",
       "\n",
       "   Leather interior  Fuel type  Engine volume  ...  Cylinders  Gear box type  \\\n",
       "0          1.331719  -1.384651      -2.341719  ...  -4.072548       1.539495   \n",
       "1          1.326197  -0.791028      -3.830984  ...  -4.072548       1.544338   \n",
       "2          1.326197  -0.791028      -9.788047  ...  -6.136689       1.546760   \n",
       "3          1.331719  -1.384651      -4.327406  ...  -6.136689       1.539495   \n",
       "4          1.331719  -0.791028      -9.788047  ...  -6.136689       1.539495   \n",
       "\n",
       "   Drive wheels     Wheel     Color  Airbags  Doors_4-May  Doors_Frequently  \\\n",
       "0      1.538145 -0.670401  2.265057     12.0     6.231387          -0.17682   \n",
       "1      1.538145 -0.670401 -3.234121      8.0     6.231387          -0.17682   \n",
       "2      1.540593  1.102313 -3.234121      2.0     6.231387          -0.17682   \n",
       "3      1.538145 -0.670401  3.181586      0.0     6.231387          -0.17682   \n",
       "4      1.540593 -0.670401  2.265057      4.0     6.231387          -0.17682   \n",
       "\n",
       "   Doors_Sometimes  Doors_no  \n",
       "0        -1.356902 -0.647057  \n",
       "1        -1.356902 -0.647057  \n",
       "2        -1.356902 -0.647057  \n",
       "3        -1.356902 -0.647057  \n",
       "4        -1.356902 -0.647057  \n",
       "\n",
       "[5 rows x 21 columns]"
      ]
     },
     "execution_count": 36,
     "metadata": {},
     "output_type": "execute_result"
    }
   ],
   "source": [
    "df.head()  # Xosh data larimizni kichraytirb oldik maqsad bitta kaatta datta dominantlik qilishini oldini olish"
   ]
  },
  {
   "cell_type": "markdown",
   "metadata": {},
   "source": [
    "# Model Training Process"
   ]
  },
  {
   "cell_type": "markdown",
   "metadata": {},
   "source": [
    "# Inputlarni x va outputni y bn belgilab ajratib olamiz"
   ]
  },
  {
   "cell_type": "code",
   "execution_count": null,
   "metadata": {},
   "outputs": [],
   "source": [
    "y=df['Price']  # outputni tanlash"
   ]
  },
  {
   "cell_type": "code",
   "execution_count": 38,
   "metadata": {},
   "outputs": [],
   "source": [
    "x=df.drop(columns=['Price'])   # inputlarni tanlash"
   ]
  },
  {
   "cell_type": "code",
   "execution_count": 40,
   "metadata": {},
   "outputs": [
    {
     "data": {
      "text/plain": [
       "<bound method NDFrame.head of              ID      Levy  Manufacturer     Model  Prod. year  Category  \\\n",
       "0     -8.135587  1.753891      1.652427 -2.495187   -6.070267  1.158649   \n",
       "1    -10.181688  1.732426      1.640393 -7.279601   -5.499295  1.158649   \n",
       "2     -4.043386 -1.650465      1.645206 -6.382523   -8.354157  1.155267   \n",
       "3     -5.159441  1.798968      1.642800 -6.980575   -5.499295  1.158649   \n",
       "4     -1.811276  1.775356      1.645206 -6.382523   -3.786377  1.155267   \n",
       "...         ...       ...           ...       ...         ...       ...   \n",
       "2106   0.048815  0.023809     -0.602733  0.196045    0.210429  1.145121   \n",
       "2107   0.048815  0.461696     -0.504055  0.196045    0.210429  1.145121   \n",
       "2108   0.048815  0.511065     -0.508869  0.196045    0.210429  1.145121   \n",
       "2109   0.048815  0.332905     -0.542564  0.196045    0.210429  1.145121   \n",
       "2110   0.048815  0.324319     -0.532936  0.196045    0.210429  1.145121   \n",
       "\n",
       "      Leather interior  Fuel type  Engine volume   Mileage  Cylinders  \\\n",
       "0             1.331719  -1.384651      -2.341719 -0.130142  -4.072548   \n",
       "1             1.326197  -0.791028      -3.830984 -0.125198  -4.072548   \n",
       "2             1.326197  -0.791028      -9.788047  1.647300  -6.136689   \n",
       "3             1.331719  -1.384651      -4.327406 -0.142502  -6.136689   \n",
       "4             1.331719  -0.791028      -9.788047  1.709102  -6.136689   \n",
       "...                ...        ...            ...       ...        ...   \n",
       "2106          0.453782   0.396217       0.140390 -0.589953   0.055735   \n",
       "2107          0.453782   0.396217       0.140390 -0.095533   0.055735   \n",
       "2108          0.453782   0.396217       0.140390  0.040433   0.055735   \n",
       "2109          0.453782   0.396217       0.140390  1.434699   0.055735   \n",
       "2110          0.453782   0.396217       0.140390  1.454476   0.055735   \n",
       "\n",
       "      Gear box type  Drive wheels     Wheel     Color    Airbags  Doors_4-May  \\\n",
       "0          1.539495      1.538145 -0.670401  2.265057  12.000000     6.231387   \n",
       "1          1.544338      1.538145 -0.670401 -3.234121   8.000000     6.231387   \n",
       "2          1.546760      1.540593  1.102313 -3.234121   2.000000     6.231387   \n",
       "3          1.539495      1.538145 -0.670401  3.181586   0.000000     6.231387   \n",
       "4          1.539495      1.540593 -0.670401  2.265057   4.000000     6.231387   \n",
       "...             ...           ...       ...       ...        ...          ...   \n",
       "2106       0.895403      0.603028  0.511408  0.431998   7.571429    -0.160478   \n",
       "2107       0.500714     -0.082398  0.511408  0.431998   7.571429    -0.160478   \n",
       "2108       0.566092      0.005729  0.511408  0.431998   7.571429    -0.160478   \n",
       "2109       0.258574     -0.104429  0.511408  0.431998   7.571429    -0.160478   \n",
       "2110       0.113290      0.164845  0.511408  0.431998   7.571429    -0.160478   \n",
       "\n",
       "      Doors_Frequently  Doors_Sometimes  Doors_no  \n",
       "0             -0.17682        -1.356902 -0.647057  \n",
       "1             -0.17682        -1.356902 -0.647057  \n",
       "2             -0.17682        -1.356902 -0.647057  \n",
       "3             -0.17682        -1.356902 -0.647057  \n",
       "4             -0.17682        -1.356902 -0.647057  \n",
       "...                ...              ...       ...  \n",
       "2106          -0.17682         0.736973 -0.647057  \n",
       "2107          -0.17682         0.736973 -0.647057  \n",
       "2108          -0.17682         0.736973 -0.647057  \n",
       "2109          -0.17682         0.736973 -0.647057  \n",
       "2110          -0.17682         0.736973 -0.647057  \n",
       "\n",
       "[2111 rows x 20 columns]>"
      ]
     },
     "execution_count": 40,
     "metadata": {},
     "output_type": "execute_result"
    }
   ],
   "source": [
    "x.head"
   ]
  },
  {
   "cell_type": "code",
   "execution_count": 42,
   "metadata": {},
   "outputs": [],
   "source": [
    "x_train,x_temp,y_train,y_temp=train_test_split(x,y,test_size=0.2,random_state=42)    # Datani qismlarga ajratish train va temproraryga x ni ham yni ham\n",
    "x_test,x_val,y_test,y_val=train_test_split(x_temp,y_temp,test_size=0.5,random_state=42)"
   ]
  },
  {
   "cell_type": "code",
   "execution_count": 43,
   "metadata": {},
   "outputs": [
    {
     "data": {
      "text/plain": [
       "(1688, 20)"
      ]
     },
     "execution_count": 43,
     "metadata": {},
     "output_type": "execute_result"
    }
   ],
   "source": [
    "x_train.shape\n"
   ]
  },
  {
   "cell_type": "code",
   "execution_count": null,
   "metadata": {},
   "outputs": [
    {
     "data": {
      "text/plain": [
       "(212, 20)"
      ]
     },
     "execution_count": 44,
     "metadata": {},
     "output_type": "execute_result"
    }
   ],
   "source": [
    "x_val.shape  "
   ]
  },
  {
   "cell_type": "code",
   "execution_count": null,
   "metadata": {},
   "outputs": [
    {
     "data": {
      "text/plain": [
       "(1688,)"
      ]
     },
     "execution_count": 45,
     "metadata": {},
     "output_type": "execute_result"
    }
   ],
   "source": [
    "y_train.shape  # "
   ]
  },
  {
   "cell_type": "code",
   "execution_count": 46,
   "metadata": {},
   "outputs": [
    {
     "data": {
      "text/plain": [
       "(211,)"
      ]
     },
     "execution_count": 46,
     "metadata": {},
     "output_type": "execute_result"
    }
   ],
   "source": [
    "y_test.shape"
   ]
  },
  {
   "cell_type": "code",
   "execution_count": 47,
   "metadata": {},
   "outputs": [
    {
     "data": {
      "text/plain": [
       "(212,)"
      ]
     },
     "execution_count": 47,
     "metadata": {},
     "output_type": "execute_result"
    }
   ],
   "source": [
    "y_val.shape"
   ]
  },
  {
   "cell_type": "markdown",
   "metadata": {},
   "source": [
    "# Model Selection"
   ]
  },
  {
   "cell_type": "code",
   "execution_count": 48,
   "metadata": {},
   "outputs": [],
   "source": [
    "model=LinearRegression()"
   ]
  },
  {
   "cell_type": "code",
   "execution_count": 49,
   "metadata": {},
   "outputs": [],
   "source": [
    "linear_model=model.fit(x_train,y_train)"
   ]
  },
  {
   "cell_type": "code",
   "execution_count": 50,
   "metadata": {},
   "outputs": [],
   "source": [
    "y_pred=linear_model.predict(x_test)"
   ]
  },
  {
   "cell_type": "code",
   "execution_count": 60,
   "metadata": {},
   "outputs": [
    {
     "data": {
      "text/plain": [
       "0       13328.000000\n",
       "1       16621.000000\n",
       "2        8467.000000\n",
       "3        3607.000000\n",
       "4       11726.000000\n",
       "            ...     \n",
       "2106       20.976842\n",
       "2107       21.982942\n",
       "2108       22.524036\n",
       "2109       24.361936\n",
       "2110       23.664709\n",
       "Name: Price, Length: 2111, dtype: float64"
      ]
     },
     "execution_count": 60,
     "metadata": {},
     "output_type": "execute_result"
    }
   ],
   "source": [
    "y"
   ]
  },
  {
   "cell_type": "code",
   "execution_count": 59,
   "metadata": {},
   "outputs": [],
   "source": [
    "mse_linear=mean_squared_error(y_test,y_pred)\n",
    "r2_linear=r2_score(y_test,y_pred)"
   ]
  },
  {
   "cell_type": "code",
   "execution_count": 54,
   "metadata": {},
   "outputs": [
    {
     "data": {
      "text/plain": [
       "array([-1.67954901e+03,  1.89695329e+02,  7.70933326e+01,  3.19944865e+02,\n",
       "        1.71564151e+02, -2.37205371e+03,  3.68956327e+02, -1.93907984e+02,\n",
       "        2.14683444e+02,  5.01865998e+02,  1.73924474e+04,  2.18163365e+02,\n",
       "        1.69797873e+02,  6.93213284e+01, -1.66519751e+02, -2.30495810e+03,\n",
       "        1.70944786e+02, -9.25740810e+01,  5.97512308e+02,  1.86393778e+02,\n",
       "        3.00904876e+02,  8.67886268e+02, -1.13912549e+02,  9.54112265e+02,\n",
       "        1.25680704e+02,  3.98753853e+02, -8.81607424e+01,  9.62835747e+01,\n",
       "        1.13957168e+02,  9.29959444e+02, -1.21495768e+03,  6.03881625e+02,\n",
       "        5.27028264e+02,  3.35464168e+02, -9.95362328e+01, -2.21935310e+02,\n",
       "        5.15325442e+02,  1.19594019e+02, -1.39895895e+03,  1.81029758e+01,\n",
       "        3.08793365e+02,  1.19172661e+02, -1.66263637e+02, -1.05274973e+00,\n",
       "        2.92115943e+02,  5.38346639e+02,  7.61714148e+02, -1.85900244e+03,\n",
       "        6.92962533e+01,  1.85363315e+02, -3.45425774e+01,  1.16962927e+02,\n",
       "        2.00080111e+02,  2.92427440e+02,  2.51991177e+02,  2.32795060e+02,\n",
       "       -6.73166451e+02,  2.87320976e+02,  1.26165422e+03, -1.96242692e+02,\n",
       "       -1.63004145e+03,  1.12370256e+03,  3.27820616e+02,  9.22235739e+01,\n",
       "       -1.71556843e+02,  8.45560672e+00,  3.72739934e+02,  2.09413814e+02,\n",
       "        3.08340307e+02,  1.70412588e+02, -1.73426418e+03, -4.75125661e+01,\n",
       "       -2.91373201e+02, -1.32596381e+03,  1.54115987e+02,  8.11373720e+02,\n",
       "        4.18934829e+02,  3.30802412e+02, -4.89734511e+01, -9.18439675e+01,\n",
       "        1.87163628e+02, -2.48276588e+02,  4.57783437e+02, -1.95901247e+03,\n",
       "        5.34493653e+02, -1.80623996e+03, -1.96495769e+03,  4.16396103e+02,\n",
       "        4.49217709e+02, -2.73928235e+02, -1.00076708e+03,  2.85733647e+02,\n",
       "       -2.03413272e+02, -5.82792985e+02,  3.23566291e+02, -6.96563237e+01,\n",
       "       -1.88892615e+03,  4.00602263e+02,  7.91801206e+02,  3.49147017e+02,\n",
       "        3.11235260e+02,  1.51810322e+02,  2.14696896e+02,  6.95591275e+01,\n",
       "       -4.85585199e+00,  2.41597607e+02,  2.37574711e+02,  1.77161016e+01,\n",
       "        5.19677116e+02,  3.82547303e+02,  2.15757452e+02, -3.11218641e+02,\n",
       "        2.87307274e+02, -7.80136958e+01,  6.46312651e+02,  5.07402598e+02,\n",
       "        2.82350954e+01,  1.10743153e+03,  1.87826825e+02, -1.93277130e+03,\n",
       "        4.64548712e+02, -2.18973596e+03,  3.14237332e+02,  1.60066841e+02,\n",
       "        4.87585683e+02,  4.93623198e+02,  4.50838931e+02,  3.77341262e+02,\n",
       "       -4.91025309e+02, -1.48105041e+03,  2.28609938e+02,  2.04907625e+02,\n",
       "       -6.64578391e+01,  5.08645598e+02,  2.75783679e+02,  7.96892830e+02,\n",
       "        3.03691064e+02,  2.95461012e+01,  6.18109081e+02, -2.27488941e+03,\n",
       "        1.03581674e+02, -1.31125806e+00,  2.63606170e+02,  1.06563936e+03,\n",
       "        5.31649851e+02, -3.65678113e+00,  3.34962518e+02,  3.57227232e+00,\n",
       "        1.36379361e+03,  1.09857208e+02, -1.49393149e+03,  3.64522475e+02,\n",
       "        3.28901605e+02, -1.85026773e+03,  1.02504360e+03, -2.16512556e+02,\n",
       "        2.40003126e+02, -2.16115673e+02, -4.91308181e+01, -1.67357079e+03,\n",
       "       -1.10926285e+03,  4.44721356e+02, -1.77712151e+02,  2.92718436e+02,\n",
       "       -2.32396385e+03,  1.83828133e+02, -4.10466127e+02,  2.17736868e+02,\n",
       "       -5.18725770e+01, -2.14075595e+02,  7.84453815e+01, -2.24846585e+02,\n",
       "        3.74885249e+03,  5.41875062e+02,  2.50953211e+02, -1.97895355e+03,\n",
       "        2.58474524e+02, -1.45166384e+03, -7.86122067e+02,  4.68492855e+02,\n",
       "        1.84690256e+02,  8.15659457e+02,  9.55847162e+02, -2.80732720e+01,\n",
       "        2.92957633e+02,  2.39989423e+02, -1.77572608e+02,  3.17405710e+02,\n",
       "        8.03882558e+01, -2.70338053e+02,  7.91221623e+02, -3.10450274e+02,\n",
       "       -5.00910788e+01,  5.82769578e+01,  2.84776327e+02,  5.93707779e+02,\n",
       "        2.69486405e+02, -2.70009038e+02,  6.38804400e+02,  2.97228775e+02,\n",
       "        8.63268996e+03, -4.65387120e+01, -2.49968592e+02, -1.98840203e+03,\n",
       "       -2.81068896e+02, -2.09802838e+03,  2.06149795e+02,  7.04224668e+01,\n",
       "       -6.36317385e+01,  9.44667742e+01,  3.38888828e+02])"
      ]
     },
     "execution_count": 54,
     "metadata": {},
     "output_type": "execute_result"
    }
   ],
   "source": [
    "y_pred"
   ]
  },
  {
   "cell_type": "code",
   "execution_count": 57,
   "metadata": {},
   "outputs": [
    {
     "data": {
      "text/plain": [
       "1178    19.684891\n",
       "938     21.028500\n",
       "342     23.000000\n",
       "968     31.793937\n",
       "590     20.400053\n",
       "          ...    \n",
       "368     37.000000\n",
       "480     18.000000\n",
       "1360    30.796260\n",
       "867     16.950499\n",
       "1905    26.000000\n",
       "Name: Price, Length: 211, dtype: float64"
      ]
     },
     "execution_count": 57,
     "metadata": {},
     "output_type": "execute_result"
    }
   ],
   "source": [
    "y_test"
   ]
  },
  {
   "cell_type": "code",
   "execution_count": 58,
   "metadata": {},
   "outputs": [
    {
     "ename": "ValueError",
     "evalue": "continuous is not supported",
     "output_type": "error",
     "traceback": [
      "\u001b[1;31m---------------------------------------------------------------------------\u001b[0m",
      "\u001b[1;31mValueError\u001b[0m                                Traceback (most recent call last)",
      "Cell \u001b[1;32mIn[58], line 1\u001b[0m\n\u001b[1;32m----> 1\u001b[0m accuracy\u001b[38;5;241m=\u001b[39m\u001b[43maccuracy_score\u001b[49m\u001b[43m(\u001b[49m\u001b[43my_test\u001b[49m\u001b[43m,\u001b[49m\u001b[43my_pred\u001b[49m\u001b[43m)\u001b[49m\n",
      "File \u001b[1;32mc:\\Users\\User\\AppData\\Local\\Programs\\Python\\Python313\\Lib\\site-packages\\sklearn\\utils\\_param_validation.py:216\u001b[0m, in \u001b[0;36mvalidate_params.<locals>.decorator.<locals>.wrapper\u001b[1;34m(*args, **kwargs)\u001b[0m\n\u001b[0;32m    210\u001b[0m \u001b[38;5;28;01mtry\u001b[39;00m:\n\u001b[0;32m    211\u001b[0m     \u001b[38;5;28;01mwith\u001b[39;00m config_context(\n\u001b[0;32m    212\u001b[0m         skip_parameter_validation\u001b[38;5;241m=\u001b[39m(\n\u001b[0;32m    213\u001b[0m             prefer_skip_nested_validation \u001b[38;5;129;01mor\u001b[39;00m global_skip_validation\n\u001b[0;32m    214\u001b[0m         )\n\u001b[0;32m    215\u001b[0m     ):\n\u001b[1;32m--> 216\u001b[0m         \u001b[38;5;28;01mreturn\u001b[39;00m \u001b[43mfunc\u001b[49m\u001b[43m(\u001b[49m\u001b[38;5;241;43m*\u001b[39;49m\u001b[43margs\u001b[49m\u001b[43m,\u001b[49m\u001b[43m \u001b[49m\u001b[38;5;241;43m*\u001b[39;49m\u001b[38;5;241;43m*\u001b[39;49m\u001b[43mkwargs\u001b[49m\u001b[43m)\u001b[49m\n\u001b[0;32m    217\u001b[0m \u001b[38;5;28;01mexcept\u001b[39;00m InvalidParameterError \u001b[38;5;28;01mas\u001b[39;00m e:\n\u001b[0;32m    218\u001b[0m     \u001b[38;5;66;03m# When the function is just a wrapper around an estimator, we allow\u001b[39;00m\n\u001b[0;32m    219\u001b[0m     \u001b[38;5;66;03m# the function to delegate validation to the estimator, but we replace\u001b[39;00m\n\u001b[0;32m    220\u001b[0m     \u001b[38;5;66;03m# the name of the estimator by the name of the function in the error\u001b[39;00m\n\u001b[0;32m    221\u001b[0m     \u001b[38;5;66;03m# message to avoid confusion.\u001b[39;00m\n\u001b[0;32m    222\u001b[0m     msg \u001b[38;5;241m=\u001b[39m re\u001b[38;5;241m.\u001b[39msub(\n\u001b[0;32m    223\u001b[0m         \u001b[38;5;124mr\u001b[39m\u001b[38;5;124m\"\u001b[39m\u001b[38;5;124mparameter of \u001b[39m\u001b[38;5;124m\\\u001b[39m\u001b[38;5;124mw+ must be\u001b[39m\u001b[38;5;124m\"\u001b[39m,\n\u001b[0;32m    224\u001b[0m         \u001b[38;5;124mf\u001b[39m\u001b[38;5;124m\"\u001b[39m\u001b[38;5;124mparameter of \u001b[39m\u001b[38;5;132;01m{\u001b[39;00mfunc\u001b[38;5;241m.\u001b[39m\u001b[38;5;18m__qualname__\u001b[39m\u001b[38;5;132;01m}\u001b[39;00m\u001b[38;5;124m must be\u001b[39m\u001b[38;5;124m\"\u001b[39m,\n\u001b[0;32m    225\u001b[0m         \u001b[38;5;28mstr\u001b[39m(e),\n\u001b[0;32m    226\u001b[0m     )\n",
      "File \u001b[1;32mc:\\Users\\User\\AppData\\Local\\Programs\\Python\\Python313\\Lib\\site-packages\\sklearn\\metrics\\_classification.py:227\u001b[0m, in \u001b[0;36maccuracy_score\u001b[1;34m(y_true, y_pred, normalize, sample_weight)\u001b[0m\n\u001b[0;32m    225\u001b[0m \u001b[38;5;66;03m# Compute accuracy for each possible representation\u001b[39;00m\n\u001b[0;32m    226\u001b[0m y_true, y_pred \u001b[38;5;241m=\u001b[39m attach_unique(y_true, y_pred)\n\u001b[1;32m--> 227\u001b[0m y_type, y_true, y_pred \u001b[38;5;241m=\u001b[39m \u001b[43m_check_targets\u001b[49m\u001b[43m(\u001b[49m\u001b[43my_true\u001b[49m\u001b[43m,\u001b[49m\u001b[43m \u001b[49m\u001b[43my_pred\u001b[49m\u001b[43m)\u001b[49m\n\u001b[0;32m    228\u001b[0m check_consistent_length(y_true, y_pred, sample_weight)\n\u001b[0;32m    230\u001b[0m \u001b[38;5;28;01mif\u001b[39;00m y_type\u001b[38;5;241m.\u001b[39mstartswith(\u001b[38;5;124m\"\u001b[39m\u001b[38;5;124mmultilabel\u001b[39m\u001b[38;5;124m\"\u001b[39m):\n",
      "File \u001b[1;32mc:\\Users\\User\\AppData\\Local\\Programs\\Python\\Python313\\Lib\\site-packages\\sklearn\\metrics\\_classification.py:118\u001b[0m, in \u001b[0;36m_check_targets\u001b[1;34m(y_true, y_pred)\u001b[0m\n\u001b[0;32m    116\u001b[0m \u001b[38;5;66;03m# No metrics support \"multiclass-multioutput\" format\u001b[39;00m\n\u001b[0;32m    117\u001b[0m \u001b[38;5;28;01mif\u001b[39;00m y_type \u001b[38;5;129;01mnot\u001b[39;00m \u001b[38;5;129;01min\u001b[39;00m [\u001b[38;5;124m\"\u001b[39m\u001b[38;5;124mbinary\u001b[39m\u001b[38;5;124m\"\u001b[39m, \u001b[38;5;124m\"\u001b[39m\u001b[38;5;124mmulticlass\u001b[39m\u001b[38;5;124m\"\u001b[39m, \u001b[38;5;124m\"\u001b[39m\u001b[38;5;124mmultilabel-indicator\u001b[39m\u001b[38;5;124m\"\u001b[39m]:\n\u001b[1;32m--> 118\u001b[0m     \u001b[38;5;28;01mraise\u001b[39;00m \u001b[38;5;167;01mValueError\u001b[39;00m(\u001b[38;5;124m\"\u001b[39m\u001b[38;5;132;01m{0}\u001b[39;00m\u001b[38;5;124m is not supported\u001b[39m\u001b[38;5;124m\"\u001b[39m\u001b[38;5;241m.\u001b[39mformat(y_type))\n\u001b[0;32m    120\u001b[0m \u001b[38;5;28;01mif\u001b[39;00m y_type \u001b[38;5;129;01min\u001b[39;00m [\u001b[38;5;124m\"\u001b[39m\u001b[38;5;124mbinary\u001b[39m\u001b[38;5;124m\"\u001b[39m, \u001b[38;5;124m\"\u001b[39m\u001b[38;5;124mmulticlass\u001b[39m\u001b[38;5;124m\"\u001b[39m]:\n\u001b[0;32m    121\u001b[0m     xp, _ \u001b[38;5;241m=\u001b[39m get_namespace(y_true, y_pred)\n",
      "\u001b[1;31mValueError\u001b[0m: continuous is not supported"
     ]
    }
   ],
   "source": [
    "accuracy=accuracy_score(y_test,y_pred)"
   ]
  },
  {
   "cell_type": "code",
   "execution_count": null,
   "metadata": {},
   "outputs": [
    {
     "name": "stdout",
     "output_type": "stream",
     "text": [
      "3187001.6944697197\n",
      "0.4338822102601475\n"
     ]
    }
   ],
   "source": [
    "print(mse_linear) # menda mse juda yuqori chiqdi model aniqliligi juda pastligini bildiradi FAILED\n",
    "print(r2_linear)"
   ]
  }
 ],
 "metadata": {
  "kernelspec": {
   "display_name": "Python 3",
   "language": "python",
   "name": "python3"
  },
  "language_info": {
   "codemirror_mode": {
    "name": "ipython",
    "version": 3
   },
   "file_extension": ".py",
   "mimetype": "text/x-python",
   "name": "python",
   "nbconvert_exporter": "python",
   "pygments_lexer": "ipython3",
   "version": "3.13.1"
  }
 },
 "nbformat": 4,
 "nbformat_minor": 2
}
