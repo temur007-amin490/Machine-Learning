{
 "cells": [
  {
   "cell_type": "markdown",
   "id": "bd6a1428",
   "metadata": {},
   "source": [
    "# Loding kutubxona"
   ]
  },
  {
   "cell_type": "code",
   "execution_count": null,
   "id": "b6c9e5ff",
   "metadata": {},
   "outputs": [],
   "source": [
    "import pandas as pd\n",
    "from sklearn.model_selection import train_test_split\n",
    "from sklearn.metrics import r2_score,mean_squared_error,root_mean_squared_error\n",
    "\n",
    "df=pd.read_csv('Transformed Data Set - Sheet1.csv')"
   ]
  },
  {
   "cell_type": "markdown",
   "id": "a1836cf7",
   "metadata": {},
   "source": [
    "# Data bn tanishuv"
   ]
  },
  {
   "cell_type": "code",
   "execution_count": 17,
   "id": "a0937581",
   "metadata": {},
   "outputs": [
    {
     "name": "stdout",
     "output_type": "stream",
     "text": [
      "<class 'pandas.core.frame.DataFrame'>\n",
      "RangeIndex: 66 entries, 0 to 65\n",
      "Data columns (total 5 columns):\n",
      " #   Column                Non-Null Count  Dtype \n",
      "---  ------                --------------  ----- \n",
      " 0   Favorite Color        66 non-null     object\n",
      " 1   Favorite Music Genre  66 non-null     object\n",
      " 2   Favorite Beverage     66 non-null     object\n",
      " 3   Favorite Soft Drink   66 non-null     object\n",
      " 4   Gender                66 non-null     object\n",
      "dtypes: object(5)\n",
      "memory usage: 2.7+ KB\n"
     ]
    }
   ],
   "source": [
    "df.info()"
   ]
  },
  {
   "cell_type": "code",
   "execution_count": null,
   "id": "78ceb49f",
   "metadata": {},
   "outputs": [],
   "source": [
    "# Berilgan listdagi sozlar ichidan eng uzunini topuvchi funksiya yarating"
   ]
  },
  {
   "cell_type": "code",
   "execution_count": 14,
   "id": "f37bc087",
   "metadata": {},
   "outputs": [],
   "source": [
    "def uzun_sozlar(soz):\n",
    "    return max(soz,soz=len)"
   ]
  },
  {
   "cell_type": "code",
   "execution_count": 15,
   "id": "167779f6",
   "metadata": {},
   "outputs": [],
   "source": [
    "soz= ['qol','yuz','yigirma']"
   ]
  },
  {
   "cell_type": "code",
   "execution_count": 16,
   "id": "abd054a3",
   "metadata": {},
   "outputs": [
    {
     "ename": "TypeError",
     "evalue": "'soz' is an invalid keyword argument for max()",
     "output_type": "error",
     "traceback": [
      "\u001b[31m---------------------------------------------------------------------------\u001b[39m",
      "\u001b[31mTypeError\u001b[39m                                 Traceback (most recent call last)",
      "\u001b[36mCell\u001b[39m\u001b[36m \u001b[39m\u001b[32mIn[16]\u001b[39m\u001b[32m, line 1\u001b[39m\n\u001b[32m----> \u001b[39m\u001b[32m1\u001b[39m \u001b[43muzun_sozlar\u001b[49m\u001b[43m(\u001b[49m\u001b[43msoz\u001b[49m\u001b[43m)\u001b[49m\n",
      "\u001b[36mCell\u001b[39m\u001b[36m \u001b[39m\u001b[32mIn[14]\u001b[39m\u001b[32m, line 2\u001b[39m, in \u001b[36muzun_sozlar\u001b[39m\u001b[34m(soz)\u001b[39m\n\u001b[32m      1\u001b[39m \u001b[38;5;28;01mdef\u001b[39;00m\u001b[38;5;250m \u001b[39m\u001b[34muzun_sozlar\u001b[39m(soz):\n\u001b[32m----> \u001b[39m\u001b[32m2\u001b[39m     \u001b[38;5;28;01mreturn\u001b[39;00m \u001b[38;5;28;43mmax\u001b[39;49m\u001b[43m(\u001b[49m\u001b[43msoz\u001b[49m\u001b[43m,\u001b[49m\u001b[43msoz\u001b[49m\u001b[43m=\u001b[49m\u001b[38;5;28;43mlen\u001b[39;49m\u001b[43m)\u001b[49m\n",
      "\u001b[31mTypeError\u001b[39m: 'soz' is an invalid keyword argument for max()"
     ]
    }
   ],
   "source": [
    "uzun_sozlar(soz)"
   ]
  },
  {
   "cell_type": "code",
   "execution_count": null,
   "id": "a1875658",
   "metadata": {},
   "outputs": [],
   "source": [
    "def even_or_odd(number):\n",
    "    if number%2==0:\n",
    "      return ('even')\n",
    "    else:\n",
    "       return('odd')"
   ]
  },
  {
   "cell_type": "code",
   "execution_count": 3,
   "id": "58c4cceb",
   "metadata": {},
   "outputs": [
    {
     "data": {
      "text/plain": [
       "'odd'"
      ]
     },
     "execution_count": 3,
     "metadata": {},
     "output_type": "execute_result"
    }
   ],
   "source": [
    "even_or_odd(13)"
   ]
  },
  {
   "cell_type": "code",
   "execution_count": null,
   "id": "11f95d1f",
   "metadata": {},
   "outputs": [
    {
     "data": {
      "text/plain": [
       "'even'"
      ]
     },
     "execution_count": 5,
     "metadata": {},
     "output_type": "execute_result"
    }
   ],
   "source": [
    "even_or_odd(4)"
   ]
  },
  {
   "cell_type": "code",
   "execution_count": 6,
   "id": "01650c92",
   "metadata": {},
   "outputs": [],
   "source": [
    "def smash(words):\n",
    " words.assert_equals(smash([\"hello\", \"amazing\", \"world\"]), \"hello amazing world\")       \n",
    " return(words)"
   ]
  },
  {
   "cell_type": "code",
   "execution_count": 7,
   "id": "fc5de372",
   "metadata": {},
   "outputs": [
    {
     "ename": "TypeError",
     "evalue": "smash() takes 1 positional argument but 3 were given",
     "output_type": "error",
     "traceback": [
      "\u001b[31m---------------------------------------------------------------------------\u001b[39m",
      "\u001b[31mTypeError\u001b[39m                                 Traceback (most recent call last)",
      "\u001b[36mCell\u001b[39m\u001b[36m \u001b[39m\u001b[32mIn[7]\u001b[39m\u001b[32m, line 1\u001b[39m\n\u001b[32m----> \u001b[39m\u001b[32m1\u001b[39m \u001b[43msmash\u001b[49m\u001b[43m(\u001b[49m\u001b[33;43m'\u001b[39;49m\u001b[33;43mgul\u001b[39;49m\u001b[33;43m'\u001b[39;49m\u001b[43m,\u001b[49m\u001b[33;43m'\u001b[39;49m\u001b[33;43muzib\u001b[39;49m\u001b[33;43m'\u001b[39;49m\u001b[43m,\u001b[49m\u001b[33;43m'\u001b[39;49m\u001b[33;43mberaymu\u001b[39;49m\u001b[33;43m'\u001b[39;49m\u001b[43m)\u001b[49m\n",
      "\u001b[31mTypeError\u001b[39m: smash() takes 1 positional argument but 3 were given"
     ]
    }
   ],
   "source": [
    "smash('gul','uzib','beraymu')"
   ]
  },
  {
   "cell_type": "code",
   "execution_count": 8,
   "id": "f09b3b11",
   "metadata": {},
   "outputs": [],
   "source": [
    "def smash(words):\n",
    "    return ''.join(words)"
   ]
  },
  {
   "cell_type": "code",
   "execution_count": 9,
   "id": "e611ec3a",
   "metadata": {},
   "outputs": [
    {
     "ename": "TypeError",
     "evalue": "smash() takes 1 positional argument but 2 were given",
     "output_type": "error",
     "traceback": [
      "\u001b[31m---------------------------------------------------------------------------\u001b[39m",
      "\u001b[31mTypeError\u001b[39m                                 Traceback (most recent call last)",
      "\u001b[36mCell\u001b[39m\u001b[36m \u001b[39m\u001b[32mIn[9]\u001b[39m\u001b[32m, line 1\u001b[39m\n\u001b[32m----> \u001b[39m\u001b[32m1\u001b[39m \u001b[43msmash\u001b[49m\u001b[43m(\u001b[49m\u001b[33;43m'\u001b[39;49m\u001b[33;43mdam\u001b[39;49m\u001b[33;43m'\u001b[39;49m\u001b[43m,\u001b[49m\u001b[33;43m'\u001b[39;49m\u001b[33;43mol\u001b[39;49m\u001b[33;43m'\u001b[39;49m\u001b[43m)\u001b[49m\n",
      "\u001b[31mTypeError\u001b[39m: smash() takes 1 positional argument but 2 were given"
     ]
    }
   ],
   "source": [
    "smash('dam','ol')"
   ]
  },
  {
   "cell_type": "code",
   "execution_count": 17,
   "id": "94ae0af7",
   "metadata": {},
   "outputs": [],
   "source": [
    "def smash(words):\n",
    "    return \" \".join(words)\n",
    "words=['mening','ismim','Temur']"
   ]
  },
  {
   "cell_type": "code",
   "execution_count": 18,
   "id": "9d416821",
   "metadata": {},
   "outputs": [
    {
     "data": {
      "text/plain": [
       "'mening ismim Temur'"
      ]
     },
     "execution_count": 18,
     "metadata": {},
     "output_type": "execute_result"
    }
   ],
   "source": [
    "smash(words)"
   ]
  },
  {
   "cell_type": "code",
   "execution_count": 19,
   "id": "c660605d",
   "metadata": {},
   "outputs": [
    {
     "name": "stdout",
     "output_type": "stream",
     "text": [
      "mening ismim Temur\n"
     ]
    }
   ],
   "source": [
    "print(smash(words))"
   ]
  },
  {
   "cell_type": "code",
   "execution_count": 13,
   "id": "075d09e5",
   "metadata": {},
   "outputs": [
    {
     "name": "stdout",
     "output_type": "stream",
     "text": [
      "mynameisTemur\n"
     ]
    }
   ],
   "source": [
    "result=smash(words)\n",
    "print(result)"
   ]
  },
  {
   "cell_type": "code",
   "execution_count": 16,
   "id": "9a95e5d9",
   "metadata": {},
   "outputs": [
    {
     "name": "stdout",
     "output_type": "stream",
     "text": [
      "123\n"
     ]
    }
   ],
   "source": [
    "def number_to_string(number):\n",
    "    return str(number)\n",
    "print(number_to_string(123))"
   ]
  },
  {
   "cell_type": "code",
   "execution_count": null,
   "id": "62ce571d",
   "metadata": {},
   "outputs": [
    {
     "data": {
      "text/plain": [
       "range(0, 5)"
      ]
     },
     "execution_count": 32,
     "metadata": {},
     "output_type": "execute_result"
    }
   ],
   "source": [
    "def yigindi(raqam):\n",
    "    return sum(range(1,raqam+1))\n",
    "  \n",
    "raqam=5\n",
    "range(raqam)"
   ]
  },
  {
   "cell_type": "code",
   "execution_count": 29,
   "id": "e8b1dfdd",
   "metadata": {},
   "outputs": [
    {
     "data": {
      "text/plain": [
       "15"
      ]
     },
     "execution_count": 29,
     "metadata": {},
     "output_type": "execute_result"
    }
   ],
   "source": [
    "yigindi(raqam)"
   ]
  },
  {
   "cell_type": "code",
   "execution_count": 38,
   "id": "76a613c4",
   "metadata": {},
   "outputs": [
    {
     "name": "stdout",
     "output_type": "stream",
     "text": [
      "-4\n"
     ]
    }
   ],
   "source": [
    "#berilgan songa qarma qarshi son topadigan funksIya\n",
    "def opposite(num):\n",
    "    return -num\n",
    "print(opposite(4))"
   ]
  },
  {
   "cell_type": "code",
   "execution_count": null,
   "id": "5005e5a7",
   "metadata": {},
   "outputs": [
    {
     "data": {
      "text/plain": [
       "-15"
      ]
     },
     "execution_count": 35,
     "metadata": {},
     "output_type": "execute_result"
    }
   ],
   "source": [
    "opposite(15)    \n"
   ]
  },
  {
   "cell_type": "code",
   "execution_count": 37,
   "id": "d80bccd3",
   "metadata": {},
   "outputs": [
    {
     "data": {
      "text/plain": [
       "-8"
      ]
     },
     "execution_count": 37,
     "metadata": {},
     "output_type": "execute_result"
    }
   ],
   "source": [
    "\n",
    "num=8\n",
    "opposite(num)"
   ]
  },
  {
   "cell_type": "code",
   "execution_count": 39,
   "id": "efc8a2dc",
   "metadata": {},
   "outputs": [
    {
     "name": "stdout",
     "output_type": "stream",
     "text": [
      "-4\n"
     ]
    }
   ],
   "source": [
    "# Yoki \n",
    "def opposite(num):\n",
    "    return num*-1\n",
    "\n",
    "print (opposite(4))"
   ]
  },
  {
   "cell_type": "code",
   "execution_count": 40,
   "id": "9d898c1d",
   "metadata": {},
   "outputs": [],
   "source": [
    "#Berilgan ketma ketlikning musbatlari yigindisini qoshadigan funksiya\n",
    "def sumaration(num):\n",
    "    if num<0:\n",
    "        return sum(*-range())\n",
    "    else:\n",
    "        return sum(range())"
   ]
  },
  {
   "cell_type": "code",
   "execution_count": 41,
   "id": "a47e7532",
   "metadata": {},
   "outputs": [
    {
     "ename": "TypeError",
     "evalue": "'<' not supported between instances of 'list' and 'int'",
     "output_type": "error",
     "traceback": [
      "\u001b[31m---------------------------------------------------------------------------\u001b[39m",
      "\u001b[31mTypeError\u001b[39m                                 Traceback (most recent call last)",
      "\u001b[36mCell\u001b[39m\u001b[36m \u001b[39m\u001b[32mIn[41]\u001b[39m\u001b[32m, line 1\u001b[39m\n\u001b[32m----> \u001b[39m\u001b[32m1\u001b[39m \u001b[38;5;28mprint\u001b[39m(\u001b[43msumaration\u001b[49m\u001b[43m(\u001b[49m\u001b[43m[\u001b[49m\u001b[32;43m1\u001b[39;49m\u001b[43m,\u001b[49m\u001b[43m-\u001b[49m\u001b[32;43m2\u001b[39;49m\u001b[43m,\u001b[49m\u001b[32;43m3\u001b[39;49m\u001b[43m]\u001b[49m\u001b[43m)\u001b[49m)\n",
      "\u001b[36mCell\u001b[39m\u001b[36m \u001b[39m\u001b[32mIn[40]\u001b[39m\u001b[32m, line 3\u001b[39m, in \u001b[36msumaration\u001b[39m\u001b[34m(num)\u001b[39m\n\u001b[32m      2\u001b[39m \u001b[38;5;28;01mdef\u001b[39;00m\u001b[38;5;250m \u001b[39m\u001b[34msumaration\u001b[39m(num):\n\u001b[32m----> \u001b[39m\u001b[32m3\u001b[39m     \u001b[38;5;28;01mif\u001b[39;00m \u001b[43mnum\u001b[49m\u001b[43m<\u001b[49m\u001b[32;43m0\u001b[39;49m:\n\u001b[32m      4\u001b[39m         \u001b[38;5;28;01mreturn\u001b[39;00m \u001b[38;5;28msum\u001b[39m(*-\u001b[38;5;28mrange\u001b[39m())\n\u001b[32m      5\u001b[39m     \u001b[38;5;28;01melse\u001b[39;00m:\n",
      "\u001b[31mTypeError\u001b[39m: '<' not supported between instances of 'list' and 'int'"
     ]
    }
   ],
   "source": [
    "print(sumaration([1,-2,3]))"
   ]
  },
  {
   "cell_type": "code",
   "execution_count": 58,
   "id": "4ab3a160",
   "metadata": {},
   "outputs": [
    {
     "name": "stdout",
     "output_type": "stream",
     "text": [
      "[2, 10]\n"
     ]
    }
   ],
   "source": [
    "# bizga listda raqamlar  berilgan  shularni orasidan musbat sonlarni aniqlab qaytaruvchi kod tuzing\n",
    "def positive_sum(arr):\n",
    "    return [x for x in arr if x>0]\n",
    "\n",
    "print(positive_sum([2,-4,10,-7,-41]))\n"
   ]
  },
  {
   "cell_type": "code",
   "execution_count": 59,
   "id": "83291ad0",
   "metadata": {},
   "outputs": [
    {
     "name": "stdout",
     "output_type": "stream",
     "text": [
      "[1, 6, 11]\n"
     ]
    }
   ],
   "source": [
    "print(positive_sum([1,-2,6,-8,11]))"
   ]
  },
  {
   "cell_type": "code",
   "execution_count": 55,
   "id": "6f84c540",
   "metadata": {},
   "outputs": [
    {
     "name": "stdout",
     "output_type": "stream",
     "text": [
      "54\n"
     ]
    }
   ],
   "source": [
    "def positive_summaration(arr):                        # bizga listda raqamlar  berilgan  shularni orasidan musbat sonlarni yigindisini topib beradigan funksiya aniqlab qaytaruvchi kod tuzing\n",
    "    return sum(i for i in arr if i > 0)\n",
    "print(positive_summaration([1,-2,4,-9,42,7]))"
   ]
  },
  {
   "cell_type": "code",
   "execution_count": 61,
   "id": "58c41b73",
   "metadata": {},
   "outputs": [
    {
     "name": "stdout",
     "output_type": "stream",
     "text": [
      "[8, -5, 4, 2, 1]\n"
     ]
    }
   ],
   "source": [
    "#Tasodifiy musbat son berilgan taqdirda, siz ushbu sonning raqamlarini massiv ichida teskari tartibda qaytarishingiz kerak.\n",
    "def digitize(num):\n",
    "    return num[::-1]\n",
    "print(digitize([1,2,4,-5,8]))"
   ]
  },
  {
   "cell_type": "code",
   "execution_count": 64,
   "id": "9c55ed40",
   "metadata": {},
   "outputs": [
    {
     "name": "stdout",
     "output_type": "stream",
     "text": [
      "[1, 2, 3, 5, 6]\n"
     ]
    }
   ],
   "source": [
    "def digitized(n):\n",
    "    return [int(d) for d in str(n)] #Matndagi har bir belgini (raqamni) alohida butun songa aylantirib ro'yxatga soladi\n",
    "print(digitized(12356))"
   ]
  },
  {
   "cell_type": "code",
   "execution_count": 69,
   "id": "3b4a74bb",
   "metadata": {},
   "outputs": [
    {
     "name": "stdout",
     "output_type": "stream",
     "text": [
      "[6, 5, 4, 3, 2, 1]\n"
     ]
    }
   ],
   "source": [
    "def digitilize(son):\n",
    "    return[int(d)for d in str(son)][::-1]\n",
    "print(digitilize(123456))"
   ]
  },
  {
   "cell_type": "code",
   "execution_count": 93,
   "id": "6d83db69",
   "metadata": {},
   "outputs": [
    {
     "ename": "TypeError",
     "evalue": "string indices must be integers, not 'tuple'",
     "output_type": "error",
     "traceback": [
      "\u001b[31m---------------------------------------------------------------------------\u001b[39m",
      "\u001b[31mTypeError\u001b[39m                                 Traceback (most recent call last)",
      "\u001b[36mCell\u001b[39m\u001b[36m \u001b[39m\u001b[32mIn[93]\u001b[39m\u001b[32m, line 5\u001b[39m\n\u001b[32m      3\u001b[39m         \u001b[38;5;28;01mreturn\u001b[39;00m\u001b[33m\"\u001b[39m\u001b[33m\"\u001b[39m\n\u001b[32m      4\u001b[39m     \u001b[38;5;28;01mreturn\u001b[39;00m z[\u001b[32m1\u001b[39m,-\u001b[32m1\u001b[39m]\n\u001b[32m----> \u001b[39m\u001b[32m5\u001b[39m \u001b[43mremove_char\u001b[49m\u001b[43m(\u001b[49m\u001b[33;43m\"\u001b[39;49m\u001b[33;43mzaynab\u001b[39;49m\u001b[33;43m\"\u001b[39;49m\u001b[43m)\u001b[49m\n",
      "\u001b[36mCell\u001b[39m\u001b[36m \u001b[39m\u001b[32mIn[93]\u001b[39m\u001b[32m, line 4\u001b[39m, in \u001b[36mremove_char\u001b[39m\u001b[34m(z)\u001b[39m\n\u001b[32m      2\u001b[39m \u001b[38;5;28;01mif\u001b[39;00m \u001b[38;5;28mlen\u001b[39m(z) <=\u001b[32m2\u001b[39m:\n\u001b[32m      3\u001b[39m     \u001b[38;5;28;01mreturn\u001b[39;00m\u001b[33m\"\u001b[39m\u001b[33m\"\u001b[39m\n\u001b[32m----> \u001b[39m\u001b[32m4\u001b[39m \u001b[38;5;28;01mreturn\u001b[39;00m \u001b[43mz\u001b[49m\u001b[43m[\u001b[49m\u001b[32;43m1\u001b[39;49m\u001b[43m,\u001b[49m\u001b[43m-\u001b[49m\u001b[32;43m1\u001b[39;49m\u001b[43m]\u001b[49m\n",
      "\u001b[31mTypeError\u001b[39m: string indices must be integers, not 'tuple'"
     ]
    }
   ],
   "source": [
    "\n",
    "def remove_char(z):\n",
    "    if len(z) <=2:\n",
    "        return\"\"\n",
    "    return z[1,-1]\n",
    "remove_char(\"zaynab\")"
   ]
  },
  {
   "cell_type": "code",
   "execution_count": 92,
   "id": "59bb10ec",
   "metadata": {},
   "outputs": [],
   "source": [
    "remove_char(\"zaynab\")"
   ]
  },
  {
   "cell_type": "code",
   "execution_count": null,
   "id": "1016e89c",
   "metadata": {},
   "outputs": [
    {
     "name": "stdout",
     "output_type": "stream",
     "text": [
      "ta\n"
     ]
    }
   ],
   "source": [
    "def remove_character(s):     # stringning birinchi va oxirgi belgilarini olib tashlaydigan funksiya yozish\n",
    "    return s[1:-1]\n",
    "print(remove_character(\"star\"))\n"
   ]
  },
  {
   "cell_type": "code",
   "execution_count": null,
   "id": "49e97d83",
   "metadata": {},
   "outputs": [
    {
     "data": {
      "text/plain": [
       "'hellohello'"
      ]
     },
     "execution_count": 95,
     "metadata": {},
     "output_type": "execute_result"
    }
   ],
   "source": [
    "def repeat(n,s):      # manfiy bo'lmagan butun son n va satr s ni parametr sifatida qabul qiluvchi funktsiyani yozing va s ni aniq n marta takrorlangan satrni qaytaring.\n",
    "      return s * n\n",
    "repeat(2,'hello')"
   ]
  },
  {
   "cell_type": "code",
   "execution_count": null,
   "id": "969f19c6",
   "metadata": {},
   "outputs": [],
   "source": [
    "def birgacha(n):                #  bo'lgan holatda n dan 1 gacha butun sonlar massivini qaytaruvchi funksiyani yozing.\n",
    "    return list(range(n,0,-1))"
   ]
  },
  {
   "cell_type": "code",
   "execution_count": 99,
   "id": "d8b17bc6",
   "metadata": {},
   "outputs": [
    {
     "name": "stdout",
     "output_type": "stream",
     "text": [
      "[7, 6, 5, 4, 3, 2, 1]\n"
     ]
    }
   ],
   "source": [
    "print(birgacha(7))"
   ]
  }
 ],
 "metadata": {
  "kernelspec": {
   "display_name": "Python 3",
   "language": "python",
   "name": "python3"
  },
  "language_info": {
   "codemirror_mode": {
    "name": "ipython",
    "version": 3
   },
   "file_extension": ".py",
   "mimetype": "text/x-python",
   "name": "python",
   "nbconvert_exporter": "python",
   "pygments_lexer": "ipython3",
   "version": "3.11.9"
  }
 },
 "nbformat": 4,
 "nbformat_minor": 5
}
