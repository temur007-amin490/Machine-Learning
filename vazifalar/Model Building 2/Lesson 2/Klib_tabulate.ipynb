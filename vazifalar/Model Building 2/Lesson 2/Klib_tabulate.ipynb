{
 "cells": [
  {
   "cell_type": "code",
   "execution_count": 5,
   "metadata": {},
   "outputs": [],
   "source": [
    "import klib"
   ]
  },
  {
   "cell_type": "code",
   "execution_count": 2,
   "metadata": {},
   "outputs": [],
   "source": [
    "import pandas as pd\n",
    "import numpy as np\n",
    "import seaborn as sns\n",
    "import matplotlib as plt\n",
    "from sklearn.preprocessing import LabelEncoder, StandardScaler\n",
    "from sklearn.model_selection import train_test_split\n",
    "from sklearn.linear_model import LinearRegression\n",
    "from sklearn.tree import DecisionTreeClassifier\n",
    "from sklearn.metrics import mean_squared_error,r2_score\n"
   ]
  },
  {
   "cell_type": "code",
   "execution_count": 4,
   "metadata": {},
   "outputs": [
    {
     "name": "stdout",
     "output_type": "stream",
     "text": [
      "Collecting klib\n",
      "  Using cached klib-1.3.2-py3-none-any.whl.metadata (7.4 kB)\n",
      "Collecting jinja2>=3.1.0 (from klib)\n",
      "  Using cached jinja2-3.1.6-py3-none-any.whl.metadata (2.9 kB)\n",
      "Requirement already satisfied: matplotlib>=3.6.0 in c:\\users\\user\\appdata\\local\\packages\\pythonsoftwarefoundation.python.3.11_qbz5n2kfra8p0\\localcache\\local-packages\\python311\\site-packages (from klib) (3.10.3)\n",
      "Requirement already satisfied: numpy>=1.26.0 in c:\\users\\user\\appdata\\local\\packages\\pythonsoftwarefoundation.python.3.11_qbz5n2kfra8p0\\localcache\\local-packages\\python311\\site-packages (from klib) (2.3.1)\n",
      "Requirement already satisfied: pandas<3.0,>=1.4 in c:\\users\\user\\appdata\\local\\packages\\pythonsoftwarefoundation.python.3.11_qbz5n2kfra8p0\\localcache\\local-packages\\python311\\site-packages (from klib) (2.3.0)\n",
      "Requirement already satisfied: plotly>=5.11.0 in c:\\users\\user\\appdata\\local\\packages\\pythonsoftwarefoundation.python.3.11_qbz5n2kfra8p0\\localcache\\local-packages\\python311\\site-packages (from klib) (6.3.0)\n",
      "Requirement already satisfied: scipy>=1.10.0 in c:\\users\\user\\appdata\\local\\packages\\pythonsoftwarefoundation.python.3.11_qbz5n2kfra8p0\\localcache\\local-packages\\python311\\site-packages (from klib) (1.16.0)\n",
      "Collecting screeninfo>=0.8.1 (from klib)\n",
      "  Using cached screeninfo-0.8.1-py3-none-any.whl.metadata (2.9 kB)\n",
      "Requirement already satisfied: seaborn>=0.12.0 in c:\\users\\user\\appdata\\local\\packages\\pythonsoftwarefoundation.python.3.11_qbz5n2kfra8p0\\localcache\\local-packages\\python311\\site-packages (from klib) (0.13.2)\n",
      "Collecting MarkupSafe>=2.0 (from jinja2>=3.1.0->klib)\n",
      "  Downloading MarkupSafe-3.0.2-cp311-cp311-win_amd64.whl.metadata (4.1 kB)\n",
      "Requirement already satisfied: contourpy>=1.0.1 in c:\\users\\user\\appdata\\local\\packages\\pythonsoftwarefoundation.python.3.11_qbz5n2kfra8p0\\localcache\\local-packages\\python311\\site-packages (from matplotlib>=3.6.0->klib) (1.3.2)\n",
      "Requirement already satisfied: cycler>=0.10 in c:\\users\\user\\appdata\\local\\packages\\pythonsoftwarefoundation.python.3.11_qbz5n2kfra8p0\\localcache\\local-packages\\python311\\site-packages (from matplotlib>=3.6.0->klib) (0.12.1)\n",
      "Requirement already satisfied: fonttools>=4.22.0 in c:\\users\\user\\appdata\\local\\packages\\pythonsoftwarefoundation.python.3.11_qbz5n2kfra8p0\\localcache\\local-packages\\python311\\site-packages (from matplotlib>=3.6.0->klib) (4.58.5)\n",
      "Requirement already satisfied: kiwisolver>=1.3.1 in c:\\users\\user\\appdata\\local\\packages\\pythonsoftwarefoundation.python.3.11_qbz5n2kfra8p0\\localcache\\local-packages\\python311\\site-packages (from matplotlib>=3.6.0->klib) (1.4.8)\n",
      "Requirement already satisfied: packaging>=20.0 in c:\\users\\user\\appdata\\local\\packages\\pythonsoftwarefoundation.python.3.11_qbz5n2kfra8p0\\localcache\\local-packages\\python311\\site-packages (from matplotlib>=3.6.0->klib) (25.0)\n",
      "Requirement already satisfied: pillow>=8 in c:\\users\\user\\appdata\\local\\packages\\pythonsoftwarefoundation.python.3.11_qbz5n2kfra8p0\\localcache\\local-packages\\python311\\site-packages (from matplotlib>=3.6.0->klib) (11.3.0)\n",
      "Requirement already satisfied: pyparsing>=2.3.1 in c:\\users\\user\\appdata\\local\\packages\\pythonsoftwarefoundation.python.3.11_qbz5n2kfra8p0\\localcache\\local-packages\\python311\\site-packages (from matplotlib>=3.6.0->klib) (3.2.3)\n",
      "Requirement already satisfied: python-dateutil>=2.7 in c:\\users\\user\\appdata\\local\\packages\\pythonsoftwarefoundation.python.3.11_qbz5n2kfra8p0\\localcache\\local-packages\\python311\\site-packages (from matplotlib>=3.6.0->klib) (2.9.0.post0)\n",
      "Requirement already satisfied: pytz>=2020.1 in c:\\users\\user\\appdata\\local\\packages\\pythonsoftwarefoundation.python.3.11_qbz5n2kfra8p0\\localcache\\local-packages\\python311\\site-packages (from pandas<3.0,>=1.4->klib) (2025.2)\n",
      "Requirement already satisfied: tzdata>=2022.7 in c:\\users\\user\\appdata\\local\\packages\\pythonsoftwarefoundation.python.3.11_qbz5n2kfra8p0\\localcache\\local-packages\\python311\\site-packages (from pandas<3.0,>=1.4->klib) (2025.2)\n",
      "Requirement already satisfied: narwhals>=1.15.1 in c:\\users\\user\\appdata\\local\\packages\\pythonsoftwarefoundation.python.3.11_qbz5n2kfra8p0\\localcache\\local-packages\\python311\\site-packages (from plotly>=5.11.0->klib) (2.1.2)\n",
      "Requirement already satisfied: six>=1.5 in c:\\users\\user\\appdata\\local\\packages\\pythonsoftwarefoundation.python.3.11_qbz5n2kfra8p0\\localcache\\local-packages\\python311\\site-packages (from python-dateutil>=2.7->matplotlib>=3.6.0->klib) (1.17.0)\n",
      "Using cached klib-1.3.2-py3-none-any.whl (23 kB)\n",
      "Using cached jinja2-3.1.6-py3-none-any.whl (134 kB)\n",
      "Using cached screeninfo-0.8.1-py3-none-any.whl (12 kB)\n",
      "Downloading MarkupSafe-3.0.2-cp311-cp311-win_amd64.whl (15 kB)\n",
      "Installing collected packages: screeninfo, MarkupSafe, jinja2, klib\n",
      "Successfully installed MarkupSafe-3.0.2 jinja2-3.1.6 klib-1.3.2 screeninfo-0.8.1\n",
      "Note: you may need to restart the kernel to use updated packages.\n"
     ]
    },
    {
     "name": "stderr",
     "output_type": "stream",
     "text": [
      "\n",
      "[notice] A new release of pip is available: 24.0 -> 25.2\n",
      "[notice] To update, run: C:\\Users\\User\\AppData\\Local\\Microsoft\\WindowsApps\\PythonSoftwareFoundation.Python.3.11_qbz5n2kfra8p0\\python.exe -m pip install --upgrade pip\n"
     ]
    }
   ],
   "source": [
    "pip install klib\n"
   ]
  },
  {
   "cell_type": "code",
   "execution_count": 7,
   "metadata": {},
   "outputs": [],
   "source": [
    "df=pd.read_csv('sales_data.csv')"
   ]
  },
  {
   "cell_type": "code",
   "execution_count": 8,
   "metadata": {},
   "outputs": [
    {
     "name": "stdout",
     "output_type": "stream",
     "text": [
      "<class 'pandas.core.frame.DataFrame'>\n",
      "RangeIndex: 1000 entries, 0 to 999\n",
      "Data columns (total 14 columns):\n",
      " #   Column                Non-Null Count  Dtype  \n",
      "---  ------                --------------  -----  \n",
      " 0   Product_ID            999 non-null    float64\n",
      " 1   Sale_Date             998 non-null    object \n",
      " 2   Sales_Rep             999 non-null    object \n",
      " 3   Region                997 non-null    object \n",
      " 4   Sales_Amount          999 non-null    float64\n",
      " 5   Quantity_Sold         1000 non-null   int64  \n",
      " 6   Product_Category      999 non-null    object \n",
      " 7   Unit_Cost             998 non-null    float64\n",
      " 8   Unit_Price            998 non-null    float64\n",
      " 9   Customer_Type         998 non-null    object \n",
      " 10  Discount              1000 non-null   float64\n",
      " 11  Payment_Method        999 non-null    object \n",
      " 12  Sales_Channel         998 non-null    object \n",
      " 13  Region_and_Sales_Rep  999 non-null    object \n",
      "dtypes: float64(5), int64(1), object(8)\n",
      "memory usage: 109.5+ KB\n"
     ]
    }
   ],
   "source": [
    "df.info()"
   ]
  },
  {
   "cell_type": "code",
   "execution_count": 32,
   "metadata": {},
   "outputs": [
    {
     "data": {
      "text/plain": [
       "Product_ID              1\n",
       "Sale_Date               2\n",
       "Sales_Rep               1\n",
       "Region                  3\n",
       "Sales_Amount            1\n",
       "Quantity_Sold           0\n",
       "Product_Category        1\n",
       "Unit_Cost               2\n",
       "Unit_Price              2\n",
       "Customer_Type           2\n",
       "Discount                0\n",
       "Payment_Method          1\n",
       "Sales_Channel           2\n",
       "Region_and_Sales_Rep    1\n",
       "dtype: int64"
      ]
     },
     "execution_count": 32,
     "metadata": {},
     "output_type": "execute_result"
    }
   ],
   "source": [
    "df.isnull().sum()"
   ]
  },
  {
   "cell_type": "code",
   "execution_count": 33,
   "metadata": {},
   "outputs": [
    {
     "name": "stderr",
     "output_type": "stream",
     "text": [
      "C:\\Users\\User\\AppData\\Local\\Temp\\ipykernel_17352\\1330594439.py:5: FutureWarning: A value is trying to be set on a copy of a DataFrame or Series through chained assignment using an inplace method.\n",
      "The behavior will change in pandas 3.0. This inplace method will never work because the intermediate object on which we are setting values always behaves as a copy.\n",
      "\n",
      "For example, when doing 'df[col].method(value, inplace=True)', try using 'df.method({col: value}, inplace=True)' or df[col] = df[col].method(value) instead, to perform the operation inplace on the original object.\n",
      "\n",
      "\n",
      "  df[col].fillna(df[col].mean(),inplace=True)\n",
      "C:\\Users\\User\\AppData\\Local\\Temp\\ipykernel_17352\\1330594439.py:3: FutureWarning: A value is trying to be set on a copy of a DataFrame or Series through chained assignment using an inplace method.\n",
      "The behavior will change in pandas 3.0. This inplace method will never work because the intermediate object on which we are setting values always behaves as a copy.\n",
      "\n",
      "For example, when doing 'df[col].method(value, inplace=True)', try using 'df.method({col: value}, inplace=True)' or df[col] = df[col].method(value) instead, to perform the operation inplace on the original object.\n",
      "\n",
      "\n",
      "  df[col].fillna(df[col].mode()[0],inplace=True)\n"
     ]
    }
   ],
   "source": [
    "for col in df.columns:\n",
    "  if df[col].dtype=='object':\n",
    "    df[col].fillna(df[col].mode()[0],inplace=True)\n",
    "  else:\n",
    "    df[col].fillna(df[col].mean(),inplace=True)"
   ]
  },
  {
   "cell_type": "code",
   "execution_count": 34,
   "metadata": {},
   "outputs": [
    {
     "data": {
      "text/plain": [
       "Product_ID              0\n",
       "Sale_Date               0\n",
       "Sales_Rep               0\n",
       "Region                  0\n",
       "Sales_Amount            0\n",
       "Quantity_Sold           0\n",
       "Product_Category        0\n",
       "Unit_Cost               0\n",
       "Unit_Price              0\n",
       "Customer_Type           0\n",
       "Discount                0\n",
       "Payment_Method          0\n",
       "Sales_Channel           0\n",
       "Region_and_Sales_Rep    0\n",
       "dtype: int64"
      ]
     },
     "execution_count": 34,
     "metadata": {},
     "output_type": "execute_result"
    }
   ],
   "source": [
    "df.isnull().sum()"
   ]
  },
  {
   "cell_type": "code",
   "execution_count": 36,
   "metadata": {},
   "outputs": [],
   "source": [
    "cardinality=df.nunique()"
   ]
  },
  {
   "cell_type": "code",
   "execution_count": 37,
   "metadata": {},
   "outputs": [],
   "source": [
    "for col in df.columns:\n",
    "    if df[col].dtype=='object':\n",
    "        if cardinality[col]<=5:\n",
    "            df=pd.get_dummies(df,columns=[col],dtype=int,drop_first=True)\n",
    "        else:\n",
    "            le=LabelEncoder()\n",
    "            df[col]=le.fit_transform(df[col])"
   ]
  },
  {
   "cell_type": "code",
   "execution_count": 38,
   "metadata": {},
   "outputs": [
    {
     "name": "stdout",
     "output_type": "stream",
     "text": [
      "<class 'pandas.core.frame.DataFrame'>\n",
      "RangeIndex: 1000 entries, 0 to 999\n",
      "Data columns (total 22 columns):\n",
      " #   Column                        Non-Null Count  Dtype  \n",
      "---  ------                        --------------  -----  \n",
      " 0   Product_ID                    1000 non-null   float64\n",
      " 1   Sale_Date                     1000 non-null   int64  \n",
      " 2   Sales_Amount                  1000 non-null   float64\n",
      " 3   Quantity_Sold                 1000 non-null   int64  \n",
      " 4   Unit_Cost                     1000 non-null   float64\n",
      " 5   Unit_Price                    1000 non-null   float64\n",
      " 6   Discount                      1000 non-null   float64\n",
      " 7   Region_and_Sales_Rep          1000 non-null   int64  \n",
      " 8   Sales_Rep_Bob                 1000 non-null   int64  \n",
      " 9   Sales_Rep_Charlie             1000 non-null   int64  \n",
      " 10  Sales_Rep_David               1000 non-null   int64  \n",
      " 11  Sales_Rep_Eve                 1000 non-null   int64  \n",
      " 12  Region_North                  1000 non-null   int64  \n",
      " 13  Region_South                  1000 non-null   int64  \n",
      " 14  Region_West                   1000 non-null   int64  \n",
      " 15  Product_Category_Electronics  1000 non-null   int64  \n",
      " 16  Product_Category_Food         1000 non-null   int64  \n",
      " 17  Product_Category_Furniture    1000 non-null   int64  \n",
      " 18  Customer_Type_Returning       1000 non-null   int64  \n",
      " 19  Payment_Method_Cash           1000 non-null   int64  \n",
      " 20  Payment_Method_Credit Card    1000 non-null   int64  \n",
      " 21  Sales_Channel_Retail          1000 non-null   int64  \n",
      "dtypes: float64(5), int64(17)\n",
      "memory usage: 172.0 KB\n"
     ]
    }
   ],
   "source": [
    "df.info()"
   ]
  },
  {
   "cell_type": "code",
   "execution_count": 39,
   "metadata": {},
   "outputs": [],
   "source": [
    "num_col=df.select_dtypes(include=['int64','int32']).columns"
   ]
  },
  {
   "cell_type": "code",
   "execution_count": 40,
   "metadata": {},
   "outputs": [
    {
     "data": {
      "text/plain": [
       "Index(['Sale_Date', 'Quantity_Sold', 'Region_and_Sales_Rep', 'Sales_Rep_Bob',\n",
       "       'Sales_Rep_Charlie', 'Sales_Rep_David', 'Sales_Rep_Eve', 'Region_North',\n",
       "       'Region_South', 'Region_West', 'Product_Category_Electronics',\n",
       "       'Product_Category_Food', 'Product_Category_Furniture',\n",
       "       'Customer_Type_Returning', 'Payment_Method_Cash',\n",
       "       'Payment_Method_Credit Card', 'Sales_Channel_Retail'],\n",
       "      dtype='object')"
      ]
     },
     "execution_count": 40,
     "metadata": {},
     "output_type": "execute_result"
    }
   ],
   "source": [
    "num_col"
   ]
  },
  {
   "cell_type": "code",
   "execution_count": 41,
   "metadata": {},
   "outputs": [],
   "source": [
    "scaler=StandardScaler()"
   ]
  },
  {
   "cell_type": "code",
   "execution_count": 42,
   "metadata": {},
   "outputs": [],
   "source": [
    "df[num_col]=scaler.fit_transform(df[num_col])"
   ]
  },
  {
   "cell_type": "code",
   "execution_count": 43,
   "metadata": {},
   "outputs": [
    {
     "data": {
      "text/html": [
       "<div>\n",
       "<style scoped>\n",
       "    .dataframe tbody tr th:only-of-type {\n",
       "        vertical-align: middle;\n",
       "    }\n",
       "\n",
       "    .dataframe tbody tr th {\n",
       "        vertical-align: top;\n",
       "    }\n",
       "\n",
       "    .dataframe thead th {\n",
       "        text-align: right;\n",
       "    }\n",
       "</style>\n",
       "<table border=\"1\" class=\"dataframe\">\n",
       "  <thead>\n",
       "    <tr style=\"text-align: right;\">\n",
       "      <th></th>\n",
       "      <th>Product_ID</th>\n",
       "      <th>Sale_Date</th>\n",
       "      <th>Sales_Amount</th>\n",
       "      <th>Quantity_Sold</th>\n",
       "      <th>Unit_Cost</th>\n",
       "      <th>Unit_Price</th>\n",
       "      <th>Discount</th>\n",
       "      <th>Region_and_Sales_Rep</th>\n",
       "      <th>Sales_Rep_Bob</th>\n",
       "      <th>Sales_Rep_Charlie</th>\n",
       "      <th>...</th>\n",
       "      <th>Region_North</th>\n",
       "      <th>Region_South</th>\n",
       "      <th>Region_West</th>\n",
       "      <th>Product_Category_Electronics</th>\n",
       "      <th>Product_Category_Food</th>\n",
       "      <th>Product_Category_Furniture</th>\n",
       "      <th>Customer_Type_Returning</th>\n",
       "      <th>Payment_Method_Cash</th>\n",
       "      <th>Payment_Method_Credit Card</th>\n",
       "      <th>Sales_Channel_Retail</th>\n",
       "    </tr>\n",
       "  </thead>\n",
       "  <tbody>\n",
       "    <tr>\n",
       "      <th>0</th>\n",
       "      <td>1052.0</td>\n",
       "      <td>-0.297436</td>\n",
       "      <td>5053.97</td>\n",
       "      <td>-0.519717</td>\n",
       "      <td>152.75</td>\n",
       "      <td>267.22</td>\n",
       "      <td>0.09</td>\n",
       "      <td>-0.571772</td>\n",
       "      <td>1.951331</td>\n",
       "      <td>-0.450965</td>\n",
       "      <td>...</td>\n",
       "      <td>1.644294</td>\n",
       "      <td>-0.538816</td>\n",
       "      <td>-0.565032</td>\n",
       "      <td>-0.571192</td>\n",
       "      <td>-0.538816</td>\n",
       "      <td>1.687055</td>\n",
       "      <td>1.012073</td>\n",
       "      <td>1.481516</td>\n",
       "      <td>-0.727360</td>\n",
       "      <td>-1.026347</td>\n",
       "    </tr>\n",
       "    <tr>\n",
       "      <th>1</th>\n",
       "      <td>1093.0</td>\n",
       "      <td>0.176847</td>\n",
       "      <td>4384.02</td>\n",
       "      <td>-0.590379</td>\n",
       "      <td>3816.39</td>\n",
       "      <td>4209.44</td>\n",
       "      <td>0.11</td>\n",
       "      <td>1.164026</td>\n",
       "      <td>1.951331</td>\n",
       "      <td>-0.450965</td>\n",
       "      <td>...</td>\n",
       "      <td>-0.608164</td>\n",
       "      <td>-0.538816</td>\n",
       "      <td>1.769811</td>\n",
       "      <td>-0.571192</td>\n",
       "      <td>-0.538816</td>\n",
       "      <td>1.687055</td>\n",
       "      <td>1.012073</td>\n",
       "      <td>1.481516</td>\n",
       "      <td>-0.727360</td>\n",
       "      <td>0.974329</td>\n",
       "    </tr>\n",
       "    <tr>\n",
       "      <th>2</th>\n",
       "      <td>1015.0</td>\n",
       "      <td>1.650152</td>\n",
       "      <td>4631.23</td>\n",
       "      <td>0.328224</td>\n",
       "      <td>261.56</td>\n",
       "      <td>371.40</td>\n",
       "      <td>0.20</td>\n",
       "      <td>0.643287</td>\n",
       "      <td>-0.512471</td>\n",
       "      <td>-0.450965</td>\n",
       "      <td>...</td>\n",
       "      <td>-0.608164</td>\n",
       "      <td>1.855921</td>\n",
       "      <td>-0.565032</td>\n",
       "      <td>-0.571192</td>\n",
       "      <td>1.855921</td>\n",
       "      <td>-0.592749</td>\n",
       "      <td>1.012073</td>\n",
       "      <td>-0.674985</td>\n",
       "      <td>-0.727360</td>\n",
       "      <td>0.974329</td>\n",
       "    </tr>\n",
       "    <tr>\n",
       "      <th>3</th>\n",
       "      <td>1072.0</td>\n",
       "      <td>1.387782</td>\n",
       "      <td>2167.94</td>\n",
       "      <td>0.964180</td>\n",
       "      <td>4330.03</td>\n",
       "      <td>4467.75</td>\n",
       "      <td>0.02</td>\n",
       "      <td>0.296127</td>\n",
       "      <td>1.951331</td>\n",
       "      <td>-0.450965</td>\n",
       "      <td>...</td>\n",
       "      <td>-0.608164</td>\n",
       "      <td>1.855921</td>\n",
       "      <td>-0.565032</td>\n",
       "      <td>-0.571192</td>\n",
       "      <td>-0.538816</td>\n",
       "      <td>-0.592749</td>\n",
       "      <td>-0.988071</td>\n",
       "      <td>-0.674985</td>\n",
       "      <td>1.374836</td>\n",
       "      <td>0.974329</td>\n",
       "    </tr>\n",
       "    <tr>\n",
       "      <th>4</th>\n",
       "      <td>1061.0</td>\n",
       "      <td>-0.075431</td>\n",
       "      <td>3750.20</td>\n",
       "      <td>-0.873026</td>\n",
       "      <td>637.37</td>\n",
       "      <td>692.71</td>\n",
       "      <td>0.08</td>\n",
       "      <td>-1.266091</td>\n",
       "      <td>-0.512471</td>\n",
       "      <td>2.217467</td>\n",
       "      <td>...</td>\n",
       "      <td>-0.608164</td>\n",
       "      <td>-0.538816</td>\n",
       "      <td>-0.565032</td>\n",
       "      <td>1.750726</td>\n",
       "      <td>-0.538816</td>\n",
       "      <td>-0.592749</td>\n",
       "      <td>-0.988071</td>\n",
       "      <td>-0.674985</td>\n",
       "      <td>1.374836</td>\n",
       "      <td>-1.026347</td>\n",
       "    </tr>\n",
       "  </tbody>\n",
       "</table>\n",
       "<p>5 rows × 22 columns</p>\n",
       "</div>"
      ],
      "text/plain": [
       "   Product_ID  Sale_Date  Sales_Amount  Quantity_Sold  Unit_Cost  Unit_Price  \\\n",
       "0      1052.0  -0.297436       5053.97      -0.519717     152.75      267.22   \n",
       "1      1093.0   0.176847       4384.02      -0.590379    3816.39     4209.44   \n",
       "2      1015.0   1.650152       4631.23       0.328224     261.56      371.40   \n",
       "3      1072.0   1.387782       2167.94       0.964180    4330.03     4467.75   \n",
       "4      1061.0  -0.075431       3750.20      -0.873026     637.37      692.71   \n",
       "\n",
       "   Discount  Region_and_Sales_Rep  Sales_Rep_Bob  Sales_Rep_Charlie  ...  \\\n",
       "0      0.09             -0.571772       1.951331          -0.450965  ...   \n",
       "1      0.11              1.164026       1.951331          -0.450965  ...   \n",
       "2      0.20              0.643287      -0.512471          -0.450965  ...   \n",
       "3      0.02              0.296127       1.951331          -0.450965  ...   \n",
       "4      0.08             -1.266091      -0.512471           2.217467  ...   \n",
       "\n",
       "   Region_North  Region_South  Region_West  Product_Category_Electronics  \\\n",
       "0      1.644294     -0.538816    -0.565032                     -0.571192   \n",
       "1     -0.608164     -0.538816     1.769811                     -0.571192   \n",
       "2     -0.608164      1.855921    -0.565032                     -0.571192   \n",
       "3     -0.608164      1.855921    -0.565032                     -0.571192   \n",
       "4     -0.608164     -0.538816    -0.565032                      1.750726   \n",
       "\n",
       "   Product_Category_Food  Product_Category_Furniture  Customer_Type_Returning  \\\n",
       "0              -0.538816                    1.687055                 1.012073   \n",
       "1              -0.538816                    1.687055                 1.012073   \n",
       "2               1.855921                   -0.592749                 1.012073   \n",
       "3              -0.538816                   -0.592749                -0.988071   \n",
       "4              -0.538816                   -0.592749                -0.988071   \n",
       "\n",
       "   Payment_Method_Cash  Payment_Method_Credit Card  Sales_Channel_Retail  \n",
       "0             1.481516                   -0.727360             -1.026347  \n",
       "1             1.481516                   -0.727360              0.974329  \n",
       "2            -0.674985                   -0.727360              0.974329  \n",
       "3            -0.674985                    1.374836              0.974329  \n",
       "4            -0.674985                    1.374836             -1.026347  \n",
       "\n",
       "[5 rows x 22 columns]"
      ]
     },
     "execution_count": 43,
     "metadata": {},
     "output_type": "execute_result"
    }
   ],
   "source": [
    "df.head()"
   ]
  },
  {
   "cell_type": "code",
   "execution_count": 45,
   "metadata": {},
   "outputs": [],
   "source": [
    "x=df.drop(columns=['Region_and_Sales_Rep'])"
   ]
  },
  {
   "cell_type": "code",
   "execution_count": 47,
   "metadata": {},
   "outputs": [
    {
     "data": {
      "text/html": [
       "<div>\n",
       "<style scoped>\n",
       "    .dataframe tbody tr th:only-of-type {\n",
       "        vertical-align: middle;\n",
       "    }\n",
       "\n",
       "    .dataframe tbody tr th {\n",
       "        vertical-align: top;\n",
       "    }\n",
       "\n",
       "    .dataframe thead th {\n",
       "        text-align: right;\n",
       "    }\n",
       "</style>\n",
       "<table border=\"1\" class=\"dataframe\">\n",
       "  <thead>\n",
       "    <tr style=\"text-align: right;\">\n",
       "      <th></th>\n",
       "      <th>Product_ID</th>\n",
       "      <th>Sale_Date</th>\n",
       "      <th>Sales_Amount</th>\n",
       "      <th>Quantity_Sold</th>\n",
       "      <th>Unit_Cost</th>\n",
       "      <th>Unit_Price</th>\n",
       "      <th>Discount</th>\n",
       "      <th>Sales_Rep_Bob</th>\n",
       "      <th>Sales_Rep_Charlie</th>\n",
       "      <th>Sales_Rep_David</th>\n",
       "      <th>...</th>\n",
       "      <th>Region_North</th>\n",
       "      <th>Region_South</th>\n",
       "      <th>Region_West</th>\n",
       "      <th>Product_Category_Electronics</th>\n",
       "      <th>Product_Category_Food</th>\n",
       "      <th>Product_Category_Furniture</th>\n",
       "      <th>Customer_Type_Returning</th>\n",
       "      <th>Payment_Method_Cash</th>\n",
       "      <th>Payment_Method_Credit Card</th>\n",
       "      <th>Sales_Channel_Retail</th>\n",
       "    </tr>\n",
       "  </thead>\n",
       "  <tbody>\n",
       "    <tr>\n",
       "      <th>0</th>\n",
       "      <td>1052.0</td>\n",
       "      <td>-0.297436</td>\n",
       "      <td>5053.97</td>\n",
       "      <td>-0.519717</td>\n",
       "      <td>152.75</td>\n",
       "      <td>267.22</td>\n",
       "      <td>0.09</td>\n",
       "      <td>1.951331</td>\n",
       "      <td>-0.450965</td>\n",
       "      <td>-0.535725</td>\n",
       "      <td>...</td>\n",
       "      <td>1.644294</td>\n",
       "      <td>-0.538816</td>\n",
       "      <td>-0.565032</td>\n",
       "      <td>-0.571192</td>\n",
       "      <td>-0.538816</td>\n",
       "      <td>1.687055</td>\n",
       "      <td>1.012073</td>\n",
       "      <td>1.481516</td>\n",
       "      <td>-0.727360</td>\n",
       "      <td>-1.026347</td>\n",
       "    </tr>\n",
       "    <tr>\n",
       "      <th>1</th>\n",
       "      <td>1093.0</td>\n",
       "      <td>0.176847</td>\n",
       "      <td>4384.02</td>\n",
       "      <td>-0.590379</td>\n",
       "      <td>3816.39</td>\n",
       "      <td>4209.44</td>\n",
       "      <td>0.11</td>\n",
       "      <td>1.951331</td>\n",
       "      <td>-0.450965</td>\n",
       "      <td>-0.535725</td>\n",
       "      <td>...</td>\n",
       "      <td>-0.608164</td>\n",
       "      <td>-0.538816</td>\n",
       "      <td>1.769811</td>\n",
       "      <td>-0.571192</td>\n",
       "      <td>-0.538816</td>\n",
       "      <td>1.687055</td>\n",
       "      <td>1.012073</td>\n",
       "      <td>1.481516</td>\n",
       "      <td>-0.727360</td>\n",
       "      <td>0.974329</td>\n",
       "    </tr>\n",
       "    <tr>\n",
       "      <th>2</th>\n",
       "      <td>1015.0</td>\n",
       "      <td>1.650152</td>\n",
       "      <td>4631.23</td>\n",
       "      <td>0.328224</td>\n",
       "      <td>261.56</td>\n",
       "      <td>371.40</td>\n",
       "      <td>0.20</td>\n",
       "      <td>-0.512471</td>\n",
       "      <td>-0.450965</td>\n",
       "      <td>1.866629</td>\n",
       "      <td>...</td>\n",
       "      <td>-0.608164</td>\n",
       "      <td>1.855921</td>\n",
       "      <td>-0.565032</td>\n",
       "      <td>-0.571192</td>\n",
       "      <td>1.855921</td>\n",
       "      <td>-0.592749</td>\n",
       "      <td>1.012073</td>\n",
       "      <td>-0.674985</td>\n",
       "      <td>-0.727360</td>\n",
       "      <td>0.974329</td>\n",
       "    </tr>\n",
       "    <tr>\n",
       "      <th>3</th>\n",
       "      <td>1072.0</td>\n",
       "      <td>1.387782</td>\n",
       "      <td>2167.94</td>\n",
       "      <td>0.964180</td>\n",
       "      <td>4330.03</td>\n",
       "      <td>4467.75</td>\n",
       "      <td>0.02</td>\n",
       "      <td>1.951331</td>\n",
       "      <td>-0.450965</td>\n",
       "      <td>-0.535725</td>\n",
       "      <td>...</td>\n",
       "      <td>-0.608164</td>\n",
       "      <td>1.855921</td>\n",
       "      <td>-0.565032</td>\n",
       "      <td>-0.571192</td>\n",
       "      <td>-0.538816</td>\n",
       "      <td>-0.592749</td>\n",
       "      <td>-0.988071</td>\n",
       "      <td>-0.674985</td>\n",
       "      <td>1.374836</td>\n",
       "      <td>0.974329</td>\n",
       "    </tr>\n",
       "    <tr>\n",
       "      <th>4</th>\n",
       "      <td>1061.0</td>\n",
       "      <td>-0.075431</td>\n",
       "      <td>3750.20</td>\n",
       "      <td>-0.873026</td>\n",
       "      <td>637.37</td>\n",
       "      <td>692.71</td>\n",
       "      <td>0.08</td>\n",
       "      <td>-0.512471</td>\n",
       "      <td>2.217467</td>\n",
       "      <td>-0.535725</td>\n",
       "      <td>...</td>\n",
       "      <td>-0.608164</td>\n",
       "      <td>-0.538816</td>\n",
       "      <td>-0.565032</td>\n",
       "      <td>1.750726</td>\n",
       "      <td>-0.538816</td>\n",
       "      <td>-0.592749</td>\n",
       "      <td>-0.988071</td>\n",
       "      <td>-0.674985</td>\n",
       "      <td>1.374836</td>\n",
       "      <td>-1.026347</td>\n",
       "    </tr>\n",
       "  </tbody>\n",
       "</table>\n",
       "<p>5 rows × 21 columns</p>\n",
       "</div>"
      ],
      "text/plain": [
       "   Product_ID  Sale_Date  Sales_Amount  Quantity_Sold  Unit_Cost  Unit_Price  \\\n",
       "0      1052.0  -0.297436       5053.97      -0.519717     152.75      267.22   \n",
       "1      1093.0   0.176847       4384.02      -0.590379    3816.39     4209.44   \n",
       "2      1015.0   1.650152       4631.23       0.328224     261.56      371.40   \n",
       "3      1072.0   1.387782       2167.94       0.964180    4330.03     4467.75   \n",
       "4      1061.0  -0.075431       3750.20      -0.873026     637.37      692.71   \n",
       "\n",
       "   Discount  Sales_Rep_Bob  Sales_Rep_Charlie  Sales_Rep_David  ...  \\\n",
       "0      0.09       1.951331          -0.450965        -0.535725  ...   \n",
       "1      0.11       1.951331          -0.450965        -0.535725  ...   \n",
       "2      0.20      -0.512471          -0.450965         1.866629  ...   \n",
       "3      0.02       1.951331          -0.450965        -0.535725  ...   \n",
       "4      0.08      -0.512471           2.217467        -0.535725  ...   \n",
       "\n",
       "   Region_North  Region_South  Region_West  Product_Category_Electronics  \\\n",
       "0      1.644294     -0.538816    -0.565032                     -0.571192   \n",
       "1     -0.608164     -0.538816     1.769811                     -0.571192   \n",
       "2     -0.608164      1.855921    -0.565032                     -0.571192   \n",
       "3     -0.608164      1.855921    -0.565032                     -0.571192   \n",
       "4     -0.608164     -0.538816    -0.565032                      1.750726   \n",
       "\n",
       "   Product_Category_Food  Product_Category_Furniture  Customer_Type_Returning  \\\n",
       "0              -0.538816                    1.687055                 1.012073   \n",
       "1              -0.538816                    1.687055                 1.012073   \n",
       "2               1.855921                   -0.592749                 1.012073   \n",
       "3              -0.538816                   -0.592749                -0.988071   \n",
       "4              -0.538816                   -0.592749                -0.988071   \n",
       "\n",
       "   Payment_Method_Cash  Payment_Method_Credit Card  Sales_Channel_Retail  \n",
       "0             1.481516                   -0.727360             -1.026347  \n",
       "1             1.481516                   -0.727360              0.974329  \n",
       "2            -0.674985                   -0.727360              0.974329  \n",
       "3            -0.674985                    1.374836              0.974329  \n",
       "4            -0.674985                    1.374836             -1.026347  \n",
       "\n",
       "[5 rows x 21 columns]"
      ]
     },
     "execution_count": 47,
     "metadata": {},
     "output_type": "execute_result"
    }
   ],
   "source": [
    "x.head()"
   ]
  },
  {
   "cell_type": "code",
   "execution_count": 48,
   "metadata": {},
   "outputs": [],
   "source": [
    "y=df['Region_and_Sales_Rep']"
   ]
  },
  {
   "cell_type": "code",
   "execution_count": null,
   "metadata": {},
   "outputs": [],
   "source": [
    "x_train,x_temp,y_train,y_temp=train_test_split(x,y,test_size=0.2,random_state=42)\n"
   ]
  },
  {
   "cell_type": "code",
   "execution_count": 50,
   "metadata": {},
   "outputs": [
    {
     "data": {
      "text/plain": [
       "(800, 21)"
      ]
     },
     "execution_count": 50,
     "metadata": {},
     "output_type": "execute_result"
    }
   ],
   "source": [
    "x_train.shape"
   ]
  },
  {
   "cell_type": "code",
   "execution_count": 51,
   "metadata": {},
   "outputs": [
    {
     "data": {
      "text/plain": [
       "(800,)"
      ]
     },
     "execution_count": 51,
     "metadata": {},
     "output_type": "execute_result"
    }
   ],
   "source": [
    "y_train.shape"
   ]
  },
  {
   "cell_type": "code",
   "execution_count": 52,
   "metadata": {},
   "outputs": [
    {
     "data": {
      "text/plain": [
       "(100, 21)"
      ]
     },
     "execution_count": 52,
     "metadata": {},
     "output_type": "execute_result"
    }
   ],
   "source": [
    "x_test.shape"
   ]
  },
  {
   "cell_type": "code",
   "execution_count": 53,
   "metadata": {},
   "outputs": [
    {
     "data": {
      "text/plain": [
       "(100,)"
      ]
     },
     "execution_count": 53,
     "metadata": {},
     "output_type": "execute_result"
    }
   ],
   "source": [
    "y_test.shape"
   ]
  },
  {
   "cell_type": "code",
   "execution_count": 56,
   "metadata": {},
   "outputs": [],
   "source": [
    "#Model Selection\n",
    "model=LinearRegression()"
   ]
  },
  {
   "cell_type": "code",
   "execution_count": 57,
   "metadata": {},
   "outputs": [],
   "source": [
    "linear_model=model.fit(x_train,y_train)"
   ]
  },
  {
   "cell_type": "code",
   "execution_count": 58,
   "metadata": {},
   "outputs": [
    {
     "data": {
      "text/html": [
       "<style>#sk-container-id-1 {\n",
       "  /* Definition of color scheme common for light and dark mode */\n",
       "  --sklearn-color-text: #000;\n",
       "  --sklearn-color-text-muted: #666;\n",
       "  --sklearn-color-line: gray;\n",
       "  /* Definition of color scheme for unfitted estimators */\n",
       "  --sklearn-color-unfitted-level-0: #fff5e6;\n",
       "  --sklearn-color-unfitted-level-1: #f6e4d2;\n",
       "  --sklearn-color-unfitted-level-2: #ffe0b3;\n",
       "  --sklearn-color-unfitted-level-3: chocolate;\n",
       "  /* Definition of color scheme for fitted estimators */\n",
       "  --sklearn-color-fitted-level-0: #f0f8ff;\n",
       "  --sklearn-color-fitted-level-1: #d4ebff;\n",
       "  --sklearn-color-fitted-level-2: #b3dbfd;\n",
       "  --sklearn-color-fitted-level-3: cornflowerblue;\n",
       "\n",
       "  /* Specific color for light theme */\n",
       "  --sklearn-color-text-on-default-background: var(--sg-text-color, var(--theme-code-foreground, var(--jp-content-font-color1, black)));\n",
       "  --sklearn-color-background: var(--sg-background-color, var(--theme-background, var(--jp-layout-color0, white)));\n",
       "  --sklearn-color-border-box: var(--sg-text-color, var(--theme-code-foreground, var(--jp-content-font-color1, black)));\n",
       "  --sklearn-color-icon: #696969;\n",
       "\n",
       "  @media (prefers-color-scheme: dark) {\n",
       "    /* Redefinition of color scheme for dark theme */\n",
       "    --sklearn-color-text-on-default-background: var(--sg-text-color, var(--theme-code-foreground, var(--jp-content-font-color1, white)));\n",
       "    --sklearn-color-background: var(--sg-background-color, var(--theme-background, var(--jp-layout-color0, #111)));\n",
       "    --sklearn-color-border-box: var(--sg-text-color, var(--theme-code-foreground, var(--jp-content-font-color1, white)));\n",
       "    --sklearn-color-icon: #878787;\n",
       "  }\n",
       "}\n",
       "\n",
       "#sk-container-id-1 {\n",
       "  color: var(--sklearn-color-text);\n",
       "}\n",
       "\n",
       "#sk-container-id-1 pre {\n",
       "  padding: 0;\n",
       "}\n",
       "\n",
       "#sk-container-id-1 input.sk-hidden--visually {\n",
       "  border: 0;\n",
       "  clip: rect(1px 1px 1px 1px);\n",
       "  clip: rect(1px, 1px, 1px, 1px);\n",
       "  height: 1px;\n",
       "  margin: -1px;\n",
       "  overflow: hidden;\n",
       "  padding: 0;\n",
       "  position: absolute;\n",
       "  width: 1px;\n",
       "}\n",
       "\n",
       "#sk-container-id-1 div.sk-dashed-wrapped {\n",
       "  border: 1px dashed var(--sklearn-color-line);\n",
       "  margin: 0 0.4em 0.5em 0.4em;\n",
       "  box-sizing: border-box;\n",
       "  padding-bottom: 0.4em;\n",
       "  background-color: var(--sklearn-color-background);\n",
       "}\n",
       "\n",
       "#sk-container-id-1 div.sk-container {\n",
       "  /* jupyter's `normalize.less` sets `[hidden] { display: none; }`\n",
       "     but bootstrap.min.css set `[hidden] { display: none !important; }`\n",
       "     so we also need the `!important` here to be able to override the\n",
       "     default hidden behavior on the sphinx rendered scikit-learn.org.\n",
       "     See: https://github.com/scikit-learn/scikit-learn/issues/21755 */\n",
       "  display: inline-block !important;\n",
       "  position: relative;\n",
       "}\n",
       "\n",
       "#sk-container-id-1 div.sk-text-repr-fallback {\n",
       "  display: none;\n",
       "}\n",
       "\n",
       "div.sk-parallel-item,\n",
       "div.sk-serial,\n",
       "div.sk-item {\n",
       "  /* draw centered vertical line to link estimators */\n",
       "  background-image: linear-gradient(var(--sklearn-color-text-on-default-background), var(--sklearn-color-text-on-default-background));\n",
       "  background-size: 2px 100%;\n",
       "  background-repeat: no-repeat;\n",
       "  background-position: center center;\n",
       "}\n",
       "\n",
       "/* Parallel-specific style estimator block */\n",
       "\n",
       "#sk-container-id-1 div.sk-parallel-item::after {\n",
       "  content: \"\";\n",
       "  width: 100%;\n",
       "  border-bottom: 2px solid var(--sklearn-color-text-on-default-background);\n",
       "  flex-grow: 1;\n",
       "}\n",
       "\n",
       "#sk-container-id-1 div.sk-parallel {\n",
       "  display: flex;\n",
       "  align-items: stretch;\n",
       "  justify-content: center;\n",
       "  background-color: var(--sklearn-color-background);\n",
       "  position: relative;\n",
       "}\n",
       "\n",
       "#sk-container-id-1 div.sk-parallel-item {\n",
       "  display: flex;\n",
       "  flex-direction: column;\n",
       "}\n",
       "\n",
       "#sk-container-id-1 div.sk-parallel-item:first-child::after {\n",
       "  align-self: flex-end;\n",
       "  width: 50%;\n",
       "}\n",
       "\n",
       "#sk-container-id-1 div.sk-parallel-item:last-child::after {\n",
       "  align-self: flex-start;\n",
       "  width: 50%;\n",
       "}\n",
       "\n",
       "#sk-container-id-1 div.sk-parallel-item:only-child::after {\n",
       "  width: 0;\n",
       "}\n",
       "\n",
       "/* Serial-specific style estimator block */\n",
       "\n",
       "#sk-container-id-1 div.sk-serial {\n",
       "  display: flex;\n",
       "  flex-direction: column;\n",
       "  align-items: center;\n",
       "  background-color: var(--sklearn-color-background);\n",
       "  padding-right: 1em;\n",
       "  padding-left: 1em;\n",
       "}\n",
       "\n",
       "\n",
       "/* Toggleable style: style used for estimator/Pipeline/ColumnTransformer box that is\n",
       "clickable and can be expanded/collapsed.\n",
       "- Pipeline and ColumnTransformer use this feature and define the default style\n",
       "- Estimators will overwrite some part of the style using the `sk-estimator` class\n",
       "*/\n",
       "\n",
       "/* Pipeline and ColumnTransformer style (default) */\n",
       "\n",
       "#sk-container-id-1 div.sk-toggleable {\n",
       "  /* Default theme specific background. It is overwritten whether we have a\n",
       "  specific estimator or a Pipeline/ColumnTransformer */\n",
       "  background-color: var(--sklearn-color-background);\n",
       "}\n",
       "\n",
       "/* Toggleable label */\n",
       "#sk-container-id-1 label.sk-toggleable__label {\n",
       "  cursor: pointer;\n",
       "  display: flex;\n",
       "  width: 100%;\n",
       "  margin-bottom: 0;\n",
       "  padding: 0.5em;\n",
       "  box-sizing: border-box;\n",
       "  text-align: center;\n",
       "  align-items: start;\n",
       "  justify-content: space-between;\n",
       "  gap: 0.5em;\n",
       "}\n",
       "\n",
       "#sk-container-id-1 label.sk-toggleable__label .caption {\n",
       "  font-size: 0.6rem;\n",
       "  font-weight: lighter;\n",
       "  color: var(--sklearn-color-text-muted);\n",
       "}\n",
       "\n",
       "#sk-container-id-1 label.sk-toggleable__label-arrow:before {\n",
       "  /* Arrow on the left of the label */\n",
       "  content: \"▸\";\n",
       "  float: left;\n",
       "  margin-right: 0.25em;\n",
       "  color: var(--sklearn-color-icon);\n",
       "}\n",
       "\n",
       "#sk-container-id-1 label.sk-toggleable__label-arrow:hover:before {\n",
       "  color: var(--sklearn-color-text);\n",
       "}\n",
       "\n",
       "/* Toggleable content - dropdown */\n",
       "\n",
       "#sk-container-id-1 div.sk-toggleable__content {\n",
       "  max-height: 0;\n",
       "  max-width: 0;\n",
       "  overflow: hidden;\n",
       "  text-align: left;\n",
       "  /* unfitted */\n",
       "  background-color: var(--sklearn-color-unfitted-level-0);\n",
       "}\n",
       "\n",
       "#sk-container-id-1 div.sk-toggleable__content.fitted {\n",
       "  /* fitted */\n",
       "  background-color: var(--sklearn-color-fitted-level-0);\n",
       "}\n",
       "\n",
       "#sk-container-id-1 div.sk-toggleable__content pre {\n",
       "  margin: 0.2em;\n",
       "  border-radius: 0.25em;\n",
       "  color: var(--sklearn-color-text);\n",
       "  /* unfitted */\n",
       "  background-color: var(--sklearn-color-unfitted-level-0);\n",
       "}\n",
       "\n",
       "#sk-container-id-1 div.sk-toggleable__content.fitted pre {\n",
       "  /* unfitted */\n",
       "  background-color: var(--sklearn-color-fitted-level-0);\n",
       "}\n",
       "\n",
       "#sk-container-id-1 input.sk-toggleable__control:checked~div.sk-toggleable__content {\n",
       "  /* Expand drop-down */\n",
       "  max-height: 200px;\n",
       "  max-width: 100%;\n",
       "  overflow: auto;\n",
       "}\n",
       "\n",
       "#sk-container-id-1 input.sk-toggleable__control:checked~label.sk-toggleable__label-arrow:before {\n",
       "  content: \"▾\";\n",
       "}\n",
       "\n",
       "/* Pipeline/ColumnTransformer-specific style */\n",
       "\n",
       "#sk-container-id-1 div.sk-label input.sk-toggleable__control:checked~label.sk-toggleable__label {\n",
       "  color: var(--sklearn-color-text);\n",
       "  background-color: var(--sklearn-color-unfitted-level-2);\n",
       "}\n",
       "\n",
       "#sk-container-id-1 div.sk-label.fitted input.sk-toggleable__control:checked~label.sk-toggleable__label {\n",
       "  background-color: var(--sklearn-color-fitted-level-2);\n",
       "}\n",
       "\n",
       "/* Estimator-specific style */\n",
       "\n",
       "/* Colorize estimator box */\n",
       "#sk-container-id-1 div.sk-estimator input.sk-toggleable__control:checked~label.sk-toggleable__label {\n",
       "  /* unfitted */\n",
       "  background-color: var(--sklearn-color-unfitted-level-2);\n",
       "}\n",
       "\n",
       "#sk-container-id-1 div.sk-estimator.fitted input.sk-toggleable__control:checked~label.sk-toggleable__label {\n",
       "  /* fitted */\n",
       "  background-color: var(--sklearn-color-fitted-level-2);\n",
       "}\n",
       "\n",
       "#sk-container-id-1 div.sk-label label.sk-toggleable__label,\n",
       "#sk-container-id-1 div.sk-label label {\n",
       "  /* The background is the default theme color */\n",
       "  color: var(--sklearn-color-text-on-default-background);\n",
       "}\n",
       "\n",
       "/* On hover, darken the color of the background */\n",
       "#sk-container-id-1 div.sk-label:hover label.sk-toggleable__label {\n",
       "  color: var(--sklearn-color-text);\n",
       "  background-color: var(--sklearn-color-unfitted-level-2);\n",
       "}\n",
       "\n",
       "/* Label box, darken color on hover, fitted */\n",
       "#sk-container-id-1 div.sk-label.fitted:hover label.sk-toggleable__label.fitted {\n",
       "  color: var(--sklearn-color-text);\n",
       "  background-color: var(--sklearn-color-fitted-level-2);\n",
       "}\n",
       "\n",
       "/* Estimator label */\n",
       "\n",
       "#sk-container-id-1 div.sk-label label {\n",
       "  font-family: monospace;\n",
       "  font-weight: bold;\n",
       "  display: inline-block;\n",
       "  line-height: 1.2em;\n",
       "}\n",
       "\n",
       "#sk-container-id-1 div.sk-label-container {\n",
       "  text-align: center;\n",
       "}\n",
       "\n",
       "/* Estimator-specific */\n",
       "#sk-container-id-1 div.sk-estimator {\n",
       "  font-family: monospace;\n",
       "  border: 1px dotted var(--sklearn-color-border-box);\n",
       "  border-radius: 0.25em;\n",
       "  box-sizing: border-box;\n",
       "  margin-bottom: 0.5em;\n",
       "  /* unfitted */\n",
       "  background-color: var(--sklearn-color-unfitted-level-0);\n",
       "}\n",
       "\n",
       "#sk-container-id-1 div.sk-estimator.fitted {\n",
       "  /* fitted */\n",
       "  background-color: var(--sklearn-color-fitted-level-0);\n",
       "}\n",
       "\n",
       "/* on hover */\n",
       "#sk-container-id-1 div.sk-estimator:hover {\n",
       "  /* unfitted */\n",
       "  background-color: var(--sklearn-color-unfitted-level-2);\n",
       "}\n",
       "\n",
       "#sk-container-id-1 div.sk-estimator.fitted:hover {\n",
       "  /* fitted */\n",
       "  background-color: var(--sklearn-color-fitted-level-2);\n",
       "}\n",
       "\n",
       "/* Specification for estimator info (e.g. \"i\" and \"?\") */\n",
       "\n",
       "/* Common style for \"i\" and \"?\" */\n",
       "\n",
       ".sk-estimator-doc-link,\n",
       "a:link.sk-estimator-doc-link,\n",
       "a:visited.sk-estimator-doc-link {\n",
       "  float: right;\n",
       "  font-size: smaller;\n",
       "  line-height: 1em;\n",
       "  font-family: monospace;\n",
       "  background-color: var(--sklearn-color-background);\n",
       "  border-radius: 1em;\n",
       "  height: 1em;\n",
       "  width: 1em;\n",
       "  text-decoration: none !important;\n",
       "  margin-left: 0.5em;\n",
       "  text-align: center;\n",
       "  /* unfitted */\n",
       "  border: var(--sklearn-color-unfitted-level-1) 1pt solid;\n",
       "  color: var(--sklearn-color-unfitted-level-1);\n",
       "}\n",
       "\n",
       ".sk-estimator-doc-link.fitted,\n",
       "a:link.sk-estimator-doc-link.fitted,\n",
       "a:visited.sk-estimator-doc-link.fitted {\n",
       "  /* fitted */\n",
       "  border: var(--sklearn-color-fitted-level-1) 1pt solid;\n",
       "  color: var(--sklearn-color-fitted-level-1);\n",
       "}\n",
       "\n",
       "/* On hover */\n",
       "div.sk-estimator:hover .sk-estimator-doc-link:hover,\n",
       ".sk-estimator-doc-link:hover,\n",
       "div.sk-label-container:hover .sk-estimator-doc-link:hover,\n",
       ".sk-estimator-doc-link:hover {\n",
       "  /* unfitted */\n",
       "  background-color: var(--sklearn-color-unfitted-level-3);\n",
       "  color: var(--sklearn-color-background);\n",
       "  text-decoration: none;\n",
       "}\n",
       "\n",
       "div.sk-estimator.fitted:hover .sk-estimator-doc-link.fitted:hover,\n",
       ".sk-estimator-doc-link.fitted:hover,\n",
       "div.sk-label-container:hover .sk-estimator-doc-link.fitted:hover,\n",
       ".sk-estimator-doc-link.fitted:hover {\n",
       "  /* fitted */\n",
       "  background-color: var(--sklearn-color-fitted-level-3);\n",
       "  color: var(--sklearn-color-background);\n",
       "  text-decoration: none;\n",
       "}\n",
       "\n",
       "/* Span, style for the box shown on hovering the info icon */\n",
       ".sk-estimator-doc-link span {\n",
       "  display: none;\n",
       "  z-index: 9999;\n",
       "  position: relative;\n",
       "  font-weight: normal;\n",
       "  right: .2ex;\n",
       "  padding: .5ex;\n",
       "  margin: .5ex;\n",
       "  width: min-content;\n",
       "  min-width: 20ex;\n",
       "  max-width: 50ex;\n",
       "  color: var(--sklearn-color-text);\n",
       "  box-shadow: 2pt 2pt 4pt #999;\n",
       "  /* unfitted */\n",
       "  background: var(--sklearn-color-unfitted-level-0);\n",
       "  border: .5pt solid var(--sklearn-color-unfitted-level-3);\n",
       "}\n",
       "\n",
       ".sk-estimator-doc-link.fitted span {\n",
       "  /* fitted */\n",
       "  background: var(--sklearn-color-fitted-level-0);\n",
       "  border: var(--sklearn-color-fitted-level-3);\n",
       "}\n",
       "\n",
       ".sk-estimator-doc-link:hover span {\n",
       "  display: block;\n",
       "}\n",
       "\n",
       "/* \"?\"-specific style due to the `<a>` HTML tag */\n",
       "\n",
       "#sk-container-id-1 a.estimator_doc_link {\n",
       "  float: right;\n",
       "  font-size: 1rem;\n",
       "  line-height: 1em;\n",
       "  font-family: monospace;\n",
       "  background-color: var(--sklearn-color-background);\n",
       "  border-radius: 1rem;\n",
       "  height: 1rem;\n",
       "  width: 1rem;\n",
       "  text-decoration: none;\n",
       "  /* unfitted */\n",
       "  color: var(--sklearn-color-unfitted-level-1);\n",
       "  border: var(--sklearn-color-unfitted-level-1) 1pt solid;\n",
       "}\n",
       "\n",
       "#sk-container-id-1 a.estimator_doc_link.fitted {\n",
       "  /* fitted */\n",
       "  border: var(--sklearn-color-fitted-level-1) 1pt solid;\n",
       "  color: var(--sklearn-color-fitted-level-1);\n",
       "}\n",
       "\n",
       "/* On hover */\n",
       "#sk-container-id-1 a.estimator_doc_link:hover {\n",
       "  /* unfitted */\n",
       "  background-color: var(--sklearn-color-unfitted-level-3);\n",
       "  color: var(--sklearn-color-background);\n",
       "  text-decoration: none;\n",
       "}\n",
       "\n",
       "#sk-container-id-1 a.estimator_doc_link.fitted:hover {\n",
       "  /* fitted */\n",
       "  background-color: var(--sklearn-color-fitted-level-3);\n",
       "}\n",
       "</style><div id=\"sk-container-id-1\" class=\"sk-top-container\"><div class=\"sk-text-repr-fallback\"><pre>LinearRegression()</pre><b>In a Jupyter environment, please rerun this cell to show the HTML representation or trust the notebook. <br />On GitHub, the HTML representation is unable to render, please try loading this page with nbviewer.org.</b></div><div class=\"sk-container\" hidden><div class=\"sk-item\"><div class=\"sk-estimator fitted sk-toggleable\"><input class=\"sk-toggleable__control sk-hidden--visually\" id=\"sk-estimator-id-1\" type=\"checkbox\" checked><label for=\"sk-estimator-id-1\" class=\"sk-toggleable__label fitted sk-toggleable__label-arrow\"><div><div>LinearRegression</div></div><div><a class=\"sk-estimator-doc-link fitted\" rel=\"noreferrer\" target=\"_blank\" href=\"https://scikit-learn.org/1.6/modules/generated/sklearn.linear_model.LinearRegression.html\">?<span>Documentation for LinearRegression</span></a><span class=\"sk-estimator-doc-link fitted\">i<span>Fitted</span></span></div></label><div class=\"sk-toggleable__content fitted\"><pre>LinearRegression()</pre></div> </div></div></div></div>"
      ],
      "text/plain": [
       "LinearRegression()"
      ]
     },
     "execution_count": 58,
     "metadata": {},
     "output_type": "execute_result"
    }
   ],
   "source": [
    "linear_model"
   ]
  },
  {
   "cell_type": "code",
   "execution_count": 59,
   "metadata": {},
   "outputs": [],
   "source": [
    "y_pred=linear_model.predict(x_test)"
   ]
  },
  {
   "cell_type": "code",
   "execution_count": 60,
   "metadata": {},
   "outputs": [
    {
     "data": {
      "text/plain": [
       "array([-1.4306978 ,  0.29950349, -0.72084616, -1.59895339, -0.72334724,\n",
       "        1.33389382, -0.03631607,  0.29570585, -0.04551962,  1.49079734,\n",
       "        0.82310118,  1.14418   , -0.38328329,  1.33116773, -1.3984358 ,\n",
       "       -0.54102062,  0.83030204,  1.17213856, -0.02480126,  0.63248725,\n",
       "       -0.21755265,  1.33018388,  1.15791145,  1.1526166 , -0.2099669 ,\n",
       "       -0.37143915,  1.15808573, -1.09339549,  0.14091668,  1.00201028,\n",
       "        0.11947417,  0.28898413, -0.02724954, -0.20884316, -0.02494655,\n",
       "       -0.91882585, -1.60190199,  1.48950737, -0.23361646, -0.36225907,\n",
       "        1.13953537,  0.62224319,  1.16486106, -1.26136129,  1.00266042,\n",
       "       -0.92367344, -0.72694041, -0.72586168, -1.43064949, -1.10137021,\n",
       "        0.2917231 ,  1.49255788, -0.91556981, -0.05011831, -0.3774518 ,\n",
       "        1.69470916, -1.11029187,  0.44741267,  0.80873119,  0.12372379,\n",
       "        0.61801806,  0.81021771,  0.62390637,  1.15411241, -0.21646006,\n",
       "        0.11696893, -0.37884813, -0.37472579, -1.24322201,  1.32686931,\n",
       "        0.63249638,  1.33313997, -0.71128591, -0.0482344 , -1.59517592,\n",
       "        1.67678524,  1.00239529, -0.53213319, -0.92580833,  1.166315  ,\n",
       "       -0.9042448 ,  0.9970784 , -0.22113703, -0.70399396, -0.38143689,\n",
       "        0.27001225,  0.62400804, -0.05349875,  1.69273106, -0.01132264,\n",
       "        0.13064767,  1.15737559,  0.61613722, -1.10813582, -0.04970729,\n",
       "        0.45888593, -0.72369526,  1.51115239,  1.16272305, -0.92841629])"
      ]
     },
     "execution_count": 60,
     "metadata": {},
     "output_type": "execute_result"
    }
   ],
   "source": [
    "y_pred"
   ]
  },
  {
   "cell_type": "code",
   "execution_count": 61,
   "metadata": {},
   "outputs": [
    {
     "data": {
      "text/plain": [
       "0     -0.571772\n",
       "1      1.164026\n",
       "2      0.643287\n",
       "3      0.296127\n",
       "4     -1.266091\n",
       "         ...   \n",
       "995   -0.398192\n",
       "996   -0.571772\n",
       "997    0.643287\n",
       "998    1.511186\n",
       "999   -1.613251\n",
       "Name: Region_and_Sales_Rep, Length: 1000, dtype: float64"
      ]
     },
     "execution_count": 61,
     "metadata": {},
     "output_type": "execute_result"
    }
   ],
   "source": [
    "y"
   ]
  },
  {
   "cell_type": "code",
   "execution_count": 62,
   "metadata": {},
   "outputs": [],
   "source": [
    "mse_linear=mean_squared_error(y_test,y_pred)\n",
    "r2_linear=r2_score(y_test,y_pred)"
   ]
  },
  {
   "cell_type": "code",
   "execution_count": 63,
   "metadata": {},
   "outputs": [
    {
     "name": "stdout",
     "output_type": "stream",
     "text": [
      "0.0002860427235338477\n",
      "0.9996568868058787\n"
     ]
    }
   ],
   "source": [
    "print(mse_linear)\n",
    "print(r2_linear)"
   ]
  },
  {
   "cell_type": "markdown",
   "metadata": {},
   "source": [
    "# KLIB bn model yaratamiz"
   ]
  },
  {
   "cell_type": "code",
   "execution_count": 10,
   "metadata": {},
   "outputs": [
    {
     "name": "stdout",
     "output_type": "stream",
     "text": [
      "Shape of cleaned data: (1000, 14) - Remaining NAs: 19\n",
      "\n",
      "\n",
      "Dropped rows: 0\n",
      "     of which 0 duplicates. (Rows (first 150 shown): [])\n",
      "\n",
      "Dropped columns: 0\n",
      "     of which 0 single valued.     Columns: []\n",
      "Dropped missing values: 0\n",
      "Reduced memory by at least: 0.07 MB (-63.64%)\n",
      "\n"
     ]
    }
   ],
   "source": [
    "df=klib.data_cleaning(df)"
   ]
  },
  {
   "cell_type": "code",
   "execution_count": 9,
   "metadata": {},
   "outputs": [
    {
     "data": {
      "text/plain": [
       "GridSpec(6, 6)"
      ]
     },
     "execution_count": 9,
     "metadata": {},
     "output_type": "execute_result"
    },
    {
     "data": {
      "image/png": "[encoded data removed]",
      "text/plain": [
       "<Figure size 2000x2000 with 4 Axes>"
      ]
     },
     "metadata": {},
     "output_type": "display_data"
    }
   ],
   "source": [
    "klib.missingval_plot(df) "
   ]
  },
  {
   "cell_type": "code",
   "execution_count": 10,
   "metadata": {},
   "outputs": [
    {
     "ename": "ValueError",
     "evalue": "Mime type rendering requires nbformat>=4.2.0 but it is not installed",
     "output_type": "error",
     "traceback": [
      "\u001b[31m---------------------------------------------------------------------------\u001b[39m",
      "\u001b[31mValueError\u001b[39m                                Traceback (most recent call last)",
      "\u001b[36mFile \u001b[39m\u001b[32m~\\AppData\\Local\\Packages\\PythonSoftwareFoundation.Python.3.11_qbz5n2kfra8p0\\LocalCache\\local-packages\\Python311\\site-packages\\IPython\\core\\formatters.py:984\u001b[39m, in \u001b[36mIPythonDisplayFormatter.__call__\u001b[39m\u001b[34m(self, obj)\u001b[39m\n\u001b[32m    982\u001b[39m method = get_real_method(obj, \u001b[38;5;28mself\u001b[39m.print_method)\n\u001b[32m    983\u001b[39m \u001b[38;5;28;01mif\u001b[39;00m method \u001b[38;5;129;01mis\u001b[39;00m \u001b[38;5;129;01mnot\u001b[39;00m \u001b[38;5;28;01mNone\u001b[39;00m:\n\u001b[32m--> \u001b[39m\u001b[32m984\u001b[39m     \u001b[43mmethod\u001b[49m\u001b[43m(\u001b[49m\u001b[43m)\u001b[49m\n\u001b[32m    985\u001b[39m     \u001b[38;5;28;01mreturn\u001b[39;00m \u001b[38;5;28;01mTrue\u001b[39;00m\n",
      "\u001b[36mFile \u001b[39m\u001b[32m~\\AppData\\Local\\Packages\\PythonSoftwareFoundation.Python.3.11_qbz5n2kfra8p0\\LocalCache\\local-packages\\Python311\\site-packages\\plotly\\basedatatypes.py:850\u001b[39m, in \u001b[36mBaseFigure._ipython_display_\u001b[39m\u001b[34m(self)\u001b[39m\n\u001b[32m    847\u001b[39m \u001b[38;5;28;01mimport\u001b[39;00m\u001b[38;5;250m \u001b[39m\u001b[34;01mplotly\u001b[39;00m\u001b[34;01m.\u001b[39;00m\u001b[34;01mio\u001b[39;00m\u001b[38;5;250m \u001b[39m\u001b[38;5;28;01mas\u001b[39;00m\u001b[38;5;250m \u001b[39m\u001b[34;01mpio\u001b[39;00m\n\u001b[32m    849\u001b[39m \u001b[38;5;28;01mif\u001b[39;00m pio.renderers.render_on_display \u001b[38;5;129;01mand\u001b[39;00m pio.renderers.default:\n\u001b[32m--> \u001b[39m\u001b[32m850\u001b[39m     \u001b[43mpio\u001b[49m\u001b[43m.\u001b[49m\u001b[43mshow\u001b[49m\u001b[43m(\u001b[49m\u001b[38;5;28;43mself\u001b[39;49m\u001b[43m)\u001b[49m\n\u001b[32m    851\u001b[39m \u001b[38;5;28;01melse\u001b[39;00m:\n\u001b[32m    852\u001b[39m     \u001b[38;5;28mprint\u001b[39m(\u001b[38;5;28mrepr\u001b[39m(\u001b[38;5;28mself\u001b[39m))\n",
      "\u001b[36mFile \u001b[39m\u001b[32m~\\AppData\\Local\\Packages\\PythonSoftwareFoundation.Python.3.11_qbz5n2kfra8p0\\LocalCache\\local-packages\\Python311\\site-packages\\plotly\\io\\_renderers.py:415\u001b[39m, in \u001b[36mshow\u001b[39m\u001b[34m(fig, renderer, validate, **kwargs)\u001b[39m\n\u001b[32m    410\u001b[39m     \u001b[38;5;28;01mraise\u001b[39;00m \u001b[38;5;167;01mValueError\u001b[39;00m(\n\u001b[32m    411\u001b[39m         \u001b[33m\"\u001b[39m\u001b[33mMime type rendering requires ipython but it is not installed\u001b[39m\u001b[33m\"\u001b[39m\n\u001b[32m    412\u001b[39m     )\n\u001b[32m    414\u001b[39m \u001b[38;5;28;01mif\u001b[39;00m \u001b[38;5;129;01mnot\u001b[39;00m nbformat \u001b[38;5;129;01mor\u001b[39;00m Version(nbformat.__version__) < Version(\u001b[33m\"\u001b[39m\u001b[33m4.2.0\u001b[39m\u001b[33m\"\u001b[39m):\n\u001b[32m--> \u001b[39m\u001b[32m415\u001b[39m     \u001b[38;5;28;01mraise\u001b[39;00m \u001b[38;5;167;01mValueError\u001b[39;00m(\n\u001b[32m    416\u001b[39m         \u001b[33m\"\u001b[39m\u001b[33mMime type rendering requires nbformat>=4.2.0 but it is not installed\u001b[39m\u001b[33m\"\u001b[39m\n\u001b[32m    417\u001b[39m     )\n\u001b[32m    419\u001b[39m display_jupyter_version_warnings()\n\u001b[32m    421\u001b[39m ipython_display.display(bundle, raw=\u001b[38;5;28;01mTrue\u001b[39;00m)\n",
      "\u001b[31mValueError\u001b[39m: Mime type rendering requires nbformat>=4.2.0 but it is not installed"
     ]
    },
    {
     "data": {
      "application/vnd.plotly.v1+json": {
       "config": {
        "plotlyServerURL": "https://plot.ly"
       },
       "data": [
        {
         "colorscale": [
          [
           0,
           "rgb(84,48,5)"
          ],
          [
           0.1,
           "rgb(140,81,10)"
          ],
          [
           0.2,
           "rgb(191,129,45)"
          ],
          [
           0.3,
           "rgb(223,194,125)"
          ],
          [
           0.4,
           "rgb(246,232,195)"
          ],
          [
           0.5,
           "rgb(245,245,245)"
          ],
          [
           0.6,
           "rgb(199,234,229)"
          ],
          [
           0.7,
           "rgb(128,205,193)"
          ],
          [
           0.8,
           "rgb(53,151,143)"
          ],
          [
           0.9,
           "rgb(1,102,94)"
          ],
          [
           1,
           "rgb(0,60,48)"
          ]
         ],
         "hoverongaps": false,
         "text": [
          [
           "",
           -0.02,
           -0.02,
           -0.01,
           0.02,
           -0.02
          ],
          [
           "",
           "",
           1,
           0.06,
           0.02,
           0.02
          ],
          [
           "",
           "",
           "",
           0.06,
           0.01,
           0.02
          ],
          [
           "",
           "",
           "",
           "",
           -0.04,
           0.1
          ],
          [
           "",
           "",
           "",
           "",
           "",
           0.01
          ],
          [
           "",
           "",
           "",
           "",
           "",
           ""
          ]
         ],
         "textfont": {
          "size": 12
         },
         "texttemplate": "%{text}",
         "type": "heatmap",
         "x": [
          "Discount",
          "Unit_Price",
          "Unit_Cost",
          "Quantity_Sold",
          "Sales_Amount",
          "Product_ID"
         ],
         "xgap": 1,
         "y": [
          "Discount",
          "Unit_Price",
          "Unit_Cost",
          "Quantity_Sold",
          "Sales_Amount",
          "Product_ID"
         ],
         "ygap": 1,
         "z": {
          "bdata": "AAAAAAAA+H9zfsNxSQyTv2sSB+QsRJO/uKlU/nT5f78ctuqH9DeXPxad/3Upv5W/AAAAAAAA+H8AAAAAAAD4f+BNxG2U1+8/rith4XaWrD9Od/MFHseQP07qM8XuNpE/AAAAAAAA+H8AAAAAAAD4fwAAAAAAAPh/AB9SMxc5rD+EV/R36TmOPz9EfaRmb5E/AAAAAAAA+H8AAAAAAAD4fwAAAAAAAPh/AAAAAAAA+H/I1Dtt/mulv2GGP9VIiLg/AAAAAAAA+H8AAAAAAAD4fwAAAAAAAPh/AAAAAAAA+H8AAAAAAAD4f27OKEzJBo0/AAAAAAAA+H8AAAAAAAD4fwAAAAAAAPh/AAAAAAAA+H8AAAAAAAD4fwAAAAAAAPh/",
          "dtype": "f8",
          "shape": "6, 6"
         },
         "zmax": 0.95,
         "zmin": 0.01
        }
       ],
       "layout": {
        "autosize": true,
        "height": 1591.4965034965032,
        "template": {
         "data": {
          "bar": [
           {
            "error_x": {
             "color": "#2a3f5f"
            },
            "error_y": {
             "color": "#2a3f5f"
            },
            "marker": {
             "line": {
              "color": "#E5ECF6",
              "width": 0.5
             },
             "pattern": {
              "fillmode": "overlay",
              "size": 10,
              "solidity": 0.2
             }
            },
            "type": "bar"
           }
          ],
          "barpolar": [
           {
            "marker": {
             "line": {
              "color": "#E5ECF6",
              "width": 0.5
             },
             "pattern": {
              "fillmode": "overlay",
              "size": 10,
              "solidity": 0.2
             }
            },
            "type": "barpolar"
           }
          ],
          "carpet": [
           {
            "aaxis": {
             "endlinecolor": "#2a3f5f",
             "gridcolor": "white",
             "linecolor": "white",
             "minorgridcolor": "white",
             "startlinecolor": "#2a3f5f"
            },
            "baxis": {
             "endlinecolor": "#2a3f5f",
             "gridcolor": "white",
             "linecolor": "white",
             "minorgridcolor": "white",
             "startlinecolor": "#2a3f5f"
            },
            "type": "carpet"
           }
          ],
          "choropleth": [
           {
            "colorbar": {
             "outlinewidth": 0,
             "ticks": ""
            },
            "type": "choropleth"
           }
          ],
          "contour": [
           {
            "colorbar": {
             "outlinewidth": 0,
             "ticks": ""
            },
            "colorscale": [
             [
              0,
              "#0d0887"
             ],
             [
              0.1111111111111111,
              "#46039f"
             ],
             [
              0.2222222222222222,
              "#7201a8"
             ],
             [
              0.3333333333333333,
              "#9c179e"
             ],
             [
              0.4444444444444444,
              "#bd3786"
             ],
             [
              0.5555555555555556,
              "#d8576b"
             ],
             [
              0.6666666666666666,
              "#ed7953"
             ],
             [
              0.7777777777777778,
              "#fb9f3a"
             ],
             [
              0.8888888888888888,
              "#fdca26"
             ],
             [
              1,
              "#f0f921"
             ]
            ],
            "type": "contour"
           }
          ],
          "contourcarpet": [
           {
            "colorbar": {
             "outlinewidth": 0,
             "ticks": ""
            },
            "type": "contourcarpet"
           }
          ],
          "heatmap": [
           {
            "colorbar": {
             "outlinewidth": 0,
             "ticks": ""
            },
            "colorscale": [
             [
              0,
              "#0d0887"
             ],
             [
              0.1111111111111111,
              "#46039f"
             ],
             [
              0.2222222222222222,
              "#7201a8"
             ],
             [
              0.3333333333333333,
              "#9c179e"
             ],
             [
              0.4444444444444444,
              "#bd3786"
             ],
             [
              0.5555555555555556,
              "#d8576b"
             ],
             [
              0.6666666666666666,
              "#ed7953"
             ],
             [
              0.7777777777777778,
              "#fb9f3a"
             ],
             [
              0.8888888888888888,
              "#fdca26"
             ],
             [
              1,
              "#f0f921"
             ]
            ],
            "type": "heatmap"
           }
          ],
          "histogram": [
           {
            "marker": {
             "pattern": {
              "fillmode": "overlay",
              "size": 10,
              "solidity": 0.2
             }
            },
            "type": "histogram"
           }
          ],
          "histogram2d": [
           {
            "colorbar": {
             "outlinewidth": 0,
             "ticks": ""
            },
            "colorscale": [
             [
              0,
              "#0d0887"
             ],
             [
              0.1111111111111111,
              "#46039f"
             ],
             [
              0.2222222222222222,
              "#7201a8"
             ],
             [
              0.3333333333333333,
              "#9c179e"
             ],
             [
              0.4444444444444444,
              "#bd3786"
             ],
             [
              0.5555555555555556,
              "#d8576b"
             ],
             [
              0.6666666666666666,
              "#ed7953"
             ],
             [
              0.7777777777777778,
              "#fb9f3a"
             ],
             [
              0.8888888888888888,
              "#fdca26"
             ],
             [
              1,
              "#f0f921"
             ]
            ],
            "type": "histogram2d"
           }
          ],
          "histogram2dcontour": [
           {
            "colorbar": {
             "outlinewidth": 0,
             "ticks": ""
            },
            "colorscale": [
             [
              0,
              "#0d0887"
             ],
             [
              0.1111111111111111,
              "#46039f"
             ],
             [
              0.2222222222222222,
              "#7201a8"
             ],
             [
              0.3333333333333333,
              "#9c179e"
             ],
             [
              0.4444444444444444,
              "#bd3786"
             ],
             [
              0.5555555555555556,
              "#d8576b"
             ],
             [
              0.6666666666666666,
              "#ed7953"
             ],
             [
              0.7777777777777778,
              "#fb9f3a"
             ],
             [
              0.8888888888888888,
              "#fdca26"
             ],
             [
              1,
              "#f0f921"
             ]
            ],
            "type": "histogram2dcontour"
           }
          ],
          "mesh3d": [
           {
            "colorbar": {
             "outlinewidth": 0,
             "ticks": ""
            },
            "type": "mesh3d"
           }
          ],
          "parcoords": [
           {
            "line": {
             "colorbar": {
              "outlinewidth": 0,
              "ticks": ""
             }
            },
            "type": "parcoords"
           }
          ],
          "pie": [
           {
            "automargin": true,
            "type": "pie"
           }
          ],
          "scatter": [
           {
            "fillpattern": {
             "fillmode": "overlay",
             "size": 10,
             "solidity": 0.2
            },
            "type": "scatter"
           }
          ],
          "scatter3d": [
           {
            "line": {
             "colorbar": {
              "outlinewidth": 0,
              "ticks": ""
             }
            },
            "marker": {
             "colorbar": {
              "outlinewidth": 0,
              "ticks": ""
             }
            },
            "type": "scatter3d"
           }
          ],
          "scattercarpet": [
           {
            "marker": {
             "colorbar": {
              "outlinewidth": 0,
              "ticks": ""
             }
            },
            "type": "scattercarpet"
           }
          ],
          "scattergeo": [
           {
            "marker": {
             "colorbar": {
              "outlinewidth": 0,
              "ticks": ""
             }
            },
            "type": "scattergeo"
           }
          ],
          "scattergl": [
           {
            "marker": {
             "colorbar": {
              "outlinewidth": 0,
              "ticks": ""
             }
            },
            "type": "scattergl"
           }
          ],
          "scattermap": [
           {
            "marker": {
             "colorbar": {
              "outlinewidth": 0,
              "ticks": ""
             }
            },
            "type": "scattermap"
           }
          ],
          "scattermapbox": [
           {
            "marker": {
             "colorbar": {
              "outlinewidth": 0,
              "ticks": ""
             }
            },
            "type": "scattermapbox"
           }
          ],
          "scatterpolar": [
           {
            "marker": {
             "colorbar": {
              "outlinewidth": 0,
              "ticks": ""
             }
            },
            "type": "scatterpolar"
           }
          ],
          "scatterpolargl": [
           {
            "marker": {
             "colorbar": {
              "outlinewidth": 0,
              "ticks": ""
             }
            },
            "type": "scatterpolargl"
           }
          ],
          "scatterternary": [
           {
            "marker": {
             "colorbar": {
              "outlinewidth": 0,
              "ticks": ""
             }
            },
            "type": "scatterternary"
           }
          ],
          "surface": [
           {
            "colorbar": {
             "outlinewidth": 0,
             "ticks": ""
            },
            "colorscale": [
             [
              0,
              "#0d0887"
             ],
             [
              0.1111111111111111,
              "#46039f"
             ],
             [
              0.2222222222222222,
              "#7201a8"
             ],
             [
              0.3333333333333333,
              "#9c179e"
             ],
             [
              0.4444444444444444,
              "#bd3786"
             ],
             [
              0.5555555555555556,
              "#d8576b"
             ],
             [
              0.6666666666666666,
              "#ed7953"
             ],
             [
              0.7777777777777778,
              "#fb9f3a"
             ],
             [
              0.8888888888888888,
              "#fdca26"
             ],
             [
              1,
              "#f0f921"
             ]
            ],
            "type": "surface"
           }
          ],
          "table": [
           {
            "cells": {
             "fill": {
              "color": "#EBF0F8"
             },
             "line": {
              "color": "white"
             }
            },
            "header": {
             "fill": {
              "color": "#C8D4E3"
             },
             "line": {
              "color": "white"
             }
            },
            "type": "table"
           }
          ]
         },
         "layout": {
          "annotationdefaults": {
           "arrowcolor": "#2a3f5f",
           "arrowhead": 0,
           "arrowwidth": 1
          },
          "autotypenumbers": "strict",
          "coloraxis": {
           "colorbar": {
            "outlinewidth": 0,
            "ticks": ""
           }
          },
          "colorscale": {
           "diverging": [
            [
             0,
             "#8e0152"
            ],
            [
             0.1,
             "#c51b7d"
            ],
            [
             0.2,
             "#de77ae"
            ],
            [
             0.3,
             "#f1b6da"
            ],
            [
             0.4,
             "#fde0ef"
            ],
            [
             0.5,
             "#f7f7f7"
            ],
            [
             0.6,
             "#e6f5d0"
            ],
            [
             0.7,
             "#b8e186"
            ],
            [
             0.8,
             "#7fbc41"
            ],
            [
             0.9,
             "#4d9221"
            ],
            [
             1,
             "#276419"
            ]
           ],
           "sequential": [
            [
             0,
             "#0d0887"
            ],
            [
             0.1111111111111111,
             "#46039f"
            ],
            [
             0.2222222222222222,
             "#7201a8"
            ],
            [
             0.3333333333333333,
             "#9c179e"
            ],
            [
             0.4444444444444444,
             "#bd3786"
            ],
            [
             0.5555555555555556,
             "#d8576b"
            ],
            [
             0.6666666666666666,
             "#ed7953"
            ],
            [
             0.7777777777777778,
             "#fb9f3a"
            ],
            [
             0.8888888888888888,
             "#fdca26"
            ],
            [
             1,
             "#f0f921"
            ]
           ],
           "sequentialminus": [
            [
             0,
             "#0d0887"
            ],
            [
             0.1111111111111111,
             "#46039f"
            ],
            [
             0.2222222222222222,
             "#7201a8"
            ],
            [
             0.3333333333333333,
             "#9c179e"
            ],
            [
             0.4444444444444444,
             "#bd3786"
            ],
            [
             0.5555555555555556,
             "#d8576b"
            ],
            [
             0.6666666666666666,
             "#ed7953"
            ],
            [
             0.7777777777777778,
             "#fb9f3a"
            ],
            [
             0.8888888888888888,
             "#fdca26"
            ],
            [
             1,
             "#f0f921"
            ]
           ]
          },
          "colorway": [
           "#636efa",
           "#EF553B",
           "#00cc96",
           "#ab63fa",
           "#FFA15A",
           "#19d3f3",
           "#FF6692",
           "#B6E880",
           "#FF97FF",
           "#FECB52"
          ],
          "font": {
           "color": "#2a3f5f"
          },
          "geo": {
           "bgcolor": "white",
           "lakecolor": "white",
           "landcolor": "#E5ECF6",
           "showlakes": true,
           "showland": true,
           "subunitcolor": "white"
          },
          "hoverlabel": {
           "align": "left"
          },
          "hovermode": "closest",
          "mapbox": {
           "style": "light"
          },
          "paper_bgcolor": "white",
          "plot_bgcolor": "#E5ECF6",
          "polar": {
           "angularaxis": {
            "gridcolor": "white",
            "linecolor": "white",
            "ticks": ""
           },
           "bgcolor": "#E5ECF6",
           "radialaxis": {
            "gridcolor": "white",
            "linecolor": "white",
            "ticks": ""
           }
          },
          "scene": {
           "xaxis": {
            "backgroundcolor": "#E5ECF6",
            "gridcolor": "white",
            "gridwidth": 2,
            "linecolor": "white",
            "showbackground": true,
            "ticks": "",
            "zerolinecolor": "white"
           },
           "yaxis": {
            "backgroundcolor": "#E5ECF6",
            "gridcolor": "white",
            "gridwidth": 2,
            "linecolor": "white",
            "showbackground": true,
            "ticks": "",
            "zerolinecolor": "white"
           },
           "zaxis": {
            "backgroundcolor": "#E5ECF6",
            "gridcolor": "white",
            "gridwidth": 2,
            "linecolor": "white",
            "showbackground": true,
            "ticks": "",
            "zerolinecolor": "white"
           }
          },
          "shapedefaults": {
           "line": {
            "color": "#2a3f5f"
           }
          },
          "ternary": {
           "aaxis": {
            "gridcolor": "white",
            "linecolor": "white",
            "ticks": ""
           },
           "baxis": {
            "gridcolor": "white",
            "linecolor": "white",
            "ticks": ""
           },
           "bgcolor": "#E5ECF6",
           "caxis": {
            "gridcolor": "white",
            "linecolor": "white",
            "ticks": ""
           }
          },
          "title": {
           "x": 0.05
          },
          "xaxis": {
           "automargin": true,
           "gridcolor": "white",
           "linecolor": "white",
           "ticks": "",
           "title": {
            "standoff": 15
           },
           "zerolinecolor": "white",
           "zerolinewidth": 2
          },
          "yaxis": {
           "automargin": true,
           "gridcolor": "white",
           "linecolor": "white",
           "ticks": "",
           "title": {
            "standoff": 15
           },
           "zerolinecolor": "white",
           "zerolinewidth": 2
          }
         }
        },
        "title": {
         "font": {
          "size": 24
         },
         "text": "Feature-correlation (pearson)",
         "x": 0.5
        },
        "width": 2273.5664335664333,
        "xaxis": {
         "autorange": "reversed"
        }
       }
      },
      "text/html": [
       "<div>                        <script type=\"text/javascript\">window.PlotlyConfig = {MathJaxConfig: 'local'};</script>\n",
       "        <script charset=\"utf-8\" src=\"https://cdn.plot.ly/plotly-3.1.0.min.js\" integrity=\"sha256-Ei4740bWZhaUTQuD6q9yQlgVCMPBz6CZWhevDYPv93A=\" crossorigin=\"anonymous\"></script>                <div id=\"ba19db5c-c6e9-4b72-b1e5-fc2b9db8366b\" class=\"plotly-graph-div\" style=\"height:1591.4965034965032px; width:2273.5664335664333px;\"></div>            <script type=\"text/javascript\">                window.PLOTLYENV=window.PLOTLYENV || {};                                if (document.getElementById(\"ba19db5c-c6e9-4b72-b1e5-fc2b9db8366b\")) {                    Plotly.newPlot(                        \"ba19db5c-c6e9-4b72-b1e5-fc2b9db8366b\",                        [{\"colorscale\":[[0.0,\"rgb(84,48,5)\"],[0.1,\"rgb(140,81,10)\"],[0.2,\"rgb(191,129,45)\"],[0.3,\"rgb(223,194,125)\"],[0.4,\"rgb(246,232,195)\"],[0.5,\"rgb(245,245,245)\"],[0.6,\"rgb(199,234,229)\"],[0.7,\"rgb(128,205,193)\"],[0.8,\"rgb(53,151,143)\"],[0.9,\"rgb(1,102,94)\"],[1.0,\"rgb(0,60,48)\"]],\"hoverongaps\":false,\"text\":[[\"\",-0.02,-0.02,-0.01,0.02,-0.02],[\"\",\"\",1.0,0.06,0.02,0.02],[\"\",\"\",\"\",0.06,0.01,0.02],[\"\",\"\",\"\",\"\",-0.04,0.1],[\"\",\"\",\"\",\"\",\"\",0.01],[\"\",\"\",\"\",\"\",\"\",\"\"]],\"textfont\":{\"size\":12},\"texttemplate\":\"%{text}\",\"x\":[\"Discount\",\"Unit_Price\",\"Unit_Cost\",\"Quantity_Sold\",\"Sales_Amount\",\"Product_ID\"],\"xgap\":1,\"y\":[\"Discount\",\"Unit_Price\",\"Unit_Cost\",\"Quantity_Sold\",\"Sales_Amount\",\"Product_ID\"],\"ygap\":1,\"z\":{\"dtype\":\"f8\",\"bdata\":\"AAAAAAAA+H9zfsNxSQyTv2sSB+QsRJO\\u002fuKlU\\u002fnT5f78ctuqH9DeXPxad\\u002f3Upv5W\\u002fAAAAAAAA+H8AAAAAAAD4f+BNxG2U1+8\\u002frith4XaWrD9Od\\u002fMFHseQP07qM8XuNpE\\u002fAAAAAAAA+H8AAAAAAAD4fwAAAAAAAPh\\u002fAB9SMxc5rD+EV\\u002fR36TmOPz9EfaRmb5E\\u002fAAAAAAAA+H8AAAAAAAD4fwAAAAAAAPh\\u002fAAAAAAAA+H\\u002fI1Dtt\\u002fmulv2GGP9VIiLg\\u002fAAAAAAAA+H8AAAAAAAD4fwAAAAAAAPh\\u002fAAAAAAAA+H8AAAAAAAD4f27OKEzJBo0\\u002fAAAAAAAA+H8AAAAAAAD4fwAAAAAAAPh\\u002fAAAAAAAA+H8AAAAAAAD4fwAAAAAAAPh\\u002f\",\"shape\":\"6, 6\"},\"zmax\":0.95,\"zmin\":0.01,\"type\":\"heatmap\"}],                        {\"template\":{\"data\":{\"histogram2dcontour\":[{\"type\":\"histogram2dcontour\",\"colorbar\":{\"outlinewidth\":0,\"ticks\":\"\"},\"colorscale\":[[0.0,\"#0d0887\"],[0.1111111111111111,\"#46039f\"],[0.2222222222222222,\"#7201a8\"],[0.3333333333333333,\"#9c179e\"],[0.4444444444444444,\"#bd3786\"],[0.5555555555555556,\"#d8576b\"],[0.6666666666666666,\"#ed7953\"],[0.7777777777777778,\"#fb9f3a\"],[0.8888888888888888,\"#fdca26\"],[1.0,\"#f0f921\"]]}],\"choropleth\":[{\"type\":\"choropleth\",\"colorbar\":{\"outlinewidth\":0,\"ticks\":\"\"}}],\"histogram2d\":[{\"type\":\"histogram2d\",\"colorbar\":{\"outlinewidth\":0,\"ticks\":\"\"},\"colorscale\":[[0.0,\"#0d0887\"],[0.1111111111111111,\"#46039f\"],[0.2222222222222222,\"#7201a8\"],[0.3333333333333333,\"#9c179e\"],[0.4444444444444444,\"#bd3786\"],[0.5555555555555556,\"#d8576b\"],[0.6666666666666666,\"#ed7953\"],[0.7777777777777778,\"#fb9f3a\"],[0.8888888888888888,\"#fdca26\"],[1.0,\"#f0f921\"]]}],\"heatmap\":[{\"type\":\"heatmap\",\"colorbar\":{\"outlinewidth\":0,\"ticks\":\"\"},\"colorscale\":[[0.0,\"#0d0887\"],[0.1111111111111111,\"#46039f\"],[0.2222222222222222,\"#7201a8\"],[0.3333333333333333,\"#9c179e\"],[0.4444444444444444,\"#bd3786\"],[0.5555555555555556,\"#d8576b\"],[0.6666666666666666,\"#ed7953\"],[0.7777777777777778,\"#fb9f3a\"],[0.8888888888888888,\"#fdca26\"],[1.0,\"#f0f921\"]]}],\"contourcarpet\":[{\"type\":\"contourcarpet\",\"colorbar\":{\"outlinewidth\":0,\"ticks\":\"\"}}],\"contour\":[{\"type\":\"contour\",\"colorbar\":{\"outlinewidth\":0,\"ticks\":\"\"},\"colorscale\":[[0.0,\"#0d0887\"],[0.1111111111111111,\"#46039f\"],[0.2222222222222222,\"#7201a8\"],[0.3333333333333333,\"#9c179e\"],[0.4444444444444444,\"#bd3786\"],[0.5555555555555556,\"#d8576b\"],[0.6666666666666666,\"#ed7953\"],[0.7777777777777778,\"#fb9f3a\"],[0.8888888888888888,\"#fdca26\"],[1.0,\"#f0f921\"]]}],\"surface\":[{\"type\":\"surface\",\"colorbar\":{\"outlinewidth\":0,\"ticks\":\"\"},\"colorscale\":[[0.0,\"#0d0887\"],[0.1111111111111111,\"#46039f\"],[0.2222222222222222,\"#7201a8\"],[0.3333333333333333,\"#9c179e\"],[0.4444444444444444,\"#bd3786\"],[0.5555555555555556,\"#d8576b\"],[0.6666666666666666,\"#ed7953\"],[0.7777777777777778,\"#fb9f3a\"],[0.8888888888888888,\"#fdca26\"],[1.0,\"#f0f921\"]]}],\"mesh3d\":[{\"type\":\"mesh3d\",\"colorbar\":{\"outlinewidth\":0,\"ticks\":\"\"}}],\"scatter\":[{\"fillpattern\":{\"fillmode\":\"overlay\",\"size\":10,\"solidity\":0.2},\"type\":\"scatter\"}],\"parcoords\":[{\"type\":\"parcoords\",\"line\":{\"colorbar\":{\"outlinewidth\":0,\"ticks\":\"\"}}}],\"scatterpolargl\":[{\"type\":\"scatterpolargl\",\"marker\":{\"colorbar\":{\"outlinewidth\":0,\"ticks\":\"\"}}}],\"bar\":[{\"error_x\":{\"color\":\"#2a3f5f\"},\"error_y\":{\"color\":\"#2a3f5f\"},\"marker\":{\"line\":{\"color\":\"#E5ECF6\",\"width\":0.5},\"pattern\":{\"fillmode\":\"overlay\",\"size\":10,\"solidity\":0.2}},\"type\":\"bar\"}],\"scattergeo\":[{\"type\":\"scattergeo\",\"marker\":{\"colorbar\":{\"outlinewidth\":0,\"ticks\":\"\"}}}],\"scatterpolar\":[{\"type\":\"scatterpolar\",\"marker\":{\"colorbar\":{\"outlinewidth\":0,\"ticks\":\"\"}}}],\"histogram\":[{\"marker\":{\"pattern\":{\"fillmode\":\"overlay\",\"size\":10,\"solidity\":0.2}},\"type\":\"histogram\"}],\"scattergl\":[{\"type\":\"scattergl\",\"marker\":{\"colorbar\":{\"outlinewidth\":0,\"ticks\":\"\"}}}],\"scatter3d\":[{\"type\":\"scatter3d\",\"line\":{\"colorbar\":{\"outlinewidth\":0,\"ticks\":\"\"}},\"marker\":{\"colorbar\":{\"outlinewidth\":0,\"ticks\":\"\"}}}],\"scattermap\":[{\"type\":\"scattermap\",\"marker\":{\"colorbar\":{\"outlinewidth\":0,\"ticks\":\"\"}}}],\"scattermapbox\":[{\"type\":\"scattermapbox\",\"marker\":{\"colorbar\":{\"outlinewidth\":0,\"ticks\":\"\"}}}],\"scatterternary\":[{\"type\":\"scatterternary\",\"marker\":{\"colorbar\":{\"outlinewidth\":0,\"ticks\":\"\"}}}],\"scattercarpet\":[{\"type\":\"scattercarpet\",\"marker\":{\"colorbar\":{\"outlinewidth\":0,\"ticks\":\"\"}}}],\"carpet\":[{\"aaxis\":{\"endlinecolor\":\"#2a3f5f\",\"gridcolor\":\"white\",\"linecolor\":\"white\",\"minorgridcolor\":\"white\",\"startlinecolor\":\"#2a3f5f\"},\"baxis\":{\"endlinecolor\":\"#2a3f5f\",\"gridcolor\":\"white\",\"linecolor\":\"white\",\"minorgridcolor\":\"white\",\"startlinecolor\":\"#2a3f5f\"},\"type\":\"carpet\"}],\"table\":[{\"cells\":{\"fill\":{\"color\":\"#EBF0F8\"},\"line\":{\"color\":\"white\"}},\"header\":{\"fill\":{\"color\":\"#C8D4E3\"},\"line\":{\"color\":\"white\"}},\"type\":\"table\"}],\"barpolar\":[{\"marker\":{\"line\":{\"color\":\"#E5ECF6\",\"width\":0.5},\"pattern\":{\"fillmode\":\"overlay\",\"size\":10,\"solidity\":0.2}},\"type\":\"barpolar\"}],\"pie\":[{\"automargin\":true,\"type\":\"pie\"}]},\"layout\":{\"autotypenumbers\":\"strict\",\"colorway\":[\"#636efa\",\"#EF553B\",\"#00cc96\",\"#ab63fa\",\"#FFA15A\",\"#19d3f3\",\"#FF6692\",\"#B6E880\",\"#FF97FF\",\"#FECB52\"],\"font\":{\"color\":\"#2a3f5f\"},\"hovermode\":\"closest\",\"hoverlabel\":{\"align\":\"left\"},\"paper_bgcolor\":\"white\",\"plot_bgcolor\":\"#E5ECF6\",\"polar\":{\"bgcolor\":\"#E5ECF6\",\"angularaxis\":{\"gridcolor\":\"white\",\"linecolor\":\"white\",\"ticks\":\"\"},\"radialaxis\":{\"gridcolor\":\"white\",\"linecolor\":\"white\",\"ticks\":\"\"}},\"ternary\":{\"bgcolor\":\"#E5ECF6\",\"aaxis\":{\"gridcolor\":\"white\",\"linecolor\":\"white\",\"ticks\":\"\"},\"baxis\":{\"gridcolor\":\"white\",\"linecolor\":\"white\",\"ticks\":\"\"},\"caxis\":{\"gridcolor\":\"white\",\"linecolor\":\"white\",\"ticks\":\"\"}},\"coloraxis\":{\"colorbar\":{\"outlinewidth\":0,\"ticks\":\"\"}},\"colorscale\":{\"sequential\":[[0.0,\"#0d0887\"],[0.1111111111111111,\"#46039f\"],[0.2222222222222222,\"#7201a8\"],[0.3333333333333333,\"#9c179e\"],[0.4444444444444444,\"#bd3786\"],[0.5555555555555556,\"#d8576b\"],[0.6666666666666666,\"#ed7953\"],[0.7777777777777778,\"#fb9f3a\"],[0.8888888888888888,\"#fdca26\"],[1.0,\"#f0f921\"]],\"sequentialminus\":[[0.0,\"#0d0887\"],[0.1111111111111111,\"#46039f\"],[0.2222222222222222,\"#7201a8\"],[0.3333333333333333,\"#9c179e\"],[0.4444444444444444,\"#bd3786\"],[0.5555555555555556,\"#d8576b\"],[0.6666666666666666,\"#ed7953\"],[0.7777777777777778,\"#fb9f3a\"],[0.8888888888888888,\"#fdca26\"],[1.0,\"#f0f921\"]],\"diverging\":[[0,\"#8e0152\"],[0.1,\"#c51b7d\"],[0.2,\"#de77ae\"],[0.3,\"#f1b6da\"],[0.4,\"#fde0ef\"],[0.5,\"#f7f7f7\"],[0.6,\"#e6f5d0\"],[0.7,\"#b8e186\"],[0.8,\"#7fbc41\"],[0.9,\"#4d9221\"],[1,\"#276419\"]]},\"xaxis\":{\"gridcolor\":\"white\",\"linecolor\":\"white\",\"ticks\":\"\",\"title\":{\"standoff\":15},\"zerolinecolor\":\"white\",\"automargin\":true,\"zerolinewidth\":2},\"yaxis\":{\"gridcolor\":\"white\",\"linecolor\":\"white\",\"ticks\":\"\",\"title\":{\"standoff\":15},\"zerolinecolor\":\"white\",\"automargin\":true,\"zerolinewidth\":2},\"scene\":{\"xaxis\":{\"backgroundcolor\":\"#E5ECF6\",\"gridcolor\":\"white\",\"linecolor\":\"white\",\"showbackground\":true,\"ticks\":\"\",\"zerolinecolor\":\"white\",\"gridwidth\":2},\"yaxis\":{\"backgroundcolor\":\"#E5ECF6\",\"gridcolor\":\"white\",\"linecolor\":\"white\",\"showbackground\":true,\"ticks\":\"\",\"zerolinecolor\":\"white\",\"gridwidth\":2},\"zaxis\":{\"backgroundcolor\":\"#E5ECF6\",\"gridcolor\":\"white\",\"linecolor\":\"white\",\"showbackground\":true,\"ticks\":\"\",\"zerolinecolor\":\"white\",\"gridwidth\":2}},\"shapedefaults\":{\"line\":{\"color\":\"#2a3f5f\"}},\"annotationdefaults\":{\"arrowcolor\":\"#2a3f5f\",\"arrowhead\":0,\"arrowwidth\":1},\"geo\":{\"bgcolor\":\"white\",\"landcolor\":\"#E5ECF6\",\"subunitcolor\":\"white\",\"showland\":true,\"showlakes\":true,\"lakecolor\":\"white\"},\"title\":{\"x\":0.05},\"mapbox\":{\"style\":\"light\"}}},\"title\":{\"text\":\"Feature-correlation (pearson)\",\"font\":{\"size\":24},\"x\":0.5},\"xaxis\":{\"autorange\":\"reversed\"},\"autosize\":true,\"width\":2273.5664335664333,\"height\":1591.4965034965032},                        {\"responsive\": true}                    )                };            </script>        </div>"
      ],
      "text/plain": [
       "Figure({\n",
       "    'data': [{'colorscale': [[0.0, 'rgb(84,48,5)'], [0.1, 'rgb(140,81,10)'], [0.2,\n",
       "                             'rgb(191,129,45)'], [0.3, 'rgb(223,194,125)'], [0.4,\n",
       "                             'rgb(246,232,195)'], [0.5, 'rgb(245,245,245)'], [0.6,\n",
       "                             'rgb(199,234,229)'], [0.7, 'rgb(128,205,193)'], [0.8,\n",
       "                             'rgb(53,151,143)'], [0.9, 'rgb(1,102,94)'], [1.0,\n",
       "                             'rgb(0,60,48)']],\n",
       "              'hoverongaps': False,\n",
       "              'text': array([['', -0.02, -0.02, -0.01, 0.02, -0.02],\n",
       "                             ['', '', 1.0, 0.06, 0.02, 0.02],\n",
       "                             ['', '', '', 0.06, 0.01, 0.02],\n",
       "                             ['', '', '', '', -0.04, 0.1],\n",
       "                             ['', '', '', '', '', 0.01],\n",
       "                             ['', '', '', '', '', '']], dtype=object),\n",
       "              'textfont': {'size': 12},\n",
       "              'texttemplate': '%{text}',\n",
       "              'type': 'heatmap',\n",
       "              'x': array(['Discount', 'Unit_Price', 'Unit_Cost', 'Quantity_Sold', 'Sales_Amount',\n",
       "                          'Product_ID'], dtype=object),\n",
       "              'xgap': 1,\n",
       "              'y': array(['Discount', 'Unit_Price', 'Unit_Cost', 'Quantity_Sold', 'Sales_Amount',\n",
       "                          'Product_ID'], dtype=object),\n",
       "              'ygap': 1,\n",
       "              'z': {'bdata': ('AAAAAAAA+H9zfsNxSQyTv2sSB+QsRJ' ... 'AAAAAA+H8AAAAAAAD4fwAAAAAAAPh/'),\n",
       "                    'dtype': 'f8',\n",
       "                    'shape': '6, 6'},\n",
       "              'zmax': np.float64(0.95),\n",
       "              'zmin': np.float64(0.01)}],\n",
       "    'layout': {'autosize': True,\n",
       "               'height': 1591.4965034965032,\n",
       "               'template': '...',\n",
       "               'title': {'font': {'size': 24}, 'text': 'Feature-correlation (pearson)', 'x': 0.5},\n",
       "               'width': 2273.5664335664333,\n",
       "               'xaxis': {'autorange': 'reversed'}}\n",
       "})"
      ]
     },
     "execution_count": 10,
     "metadata": {},
     "output_type": "execute_result"
    }
   ],
   "source": [
    "klib.corr_interactive_plot(df, figsize=(10,6))  "
   ]
  },
  {
   "cell_type": "code",
   "execution_count": 11,
   "metadata": {},
   "outputs": [
    {
     "name": "stdout",
     "output_type": "stream",
     "text": [
      "<class 'pandas.core.frame.DataFrame'>\n",
      "RangeIndex: 1000 entries, 0 to 999\n",
      "Data columns (total 14 columns):\n",
      " #   Column                Non-Null Count  Dtype  \n",
      "---  ------                --------------  -----  \n",
      " 0   Product_ID            999 non-null    float64\n",
      " 1   Sale_Date             998 non-null    object \n",
      " 2   Sales_Rep             999 non-null    object \n",
      " 3   Region                997 non-null    object \n",
      " 4   Sales_Amount          999 non-null    float64\n",
      " 5   Quantity_Sold         1000 non-null   int64  \n",
      " 6   Product_Category      999 non-null    object \n",
      " 7   Unit_Cost             998 non-null    float64\n",
      " 8   Unit_Price            998 non-null    float64\n",
      " 9   Customer_Type         998 non-null    object \n",
      " 10  Discount              1000 non-null   float64\n",
      " 11  Payment_Method        999 non-null    object \n",
      " 12  Sales_Channel         998 non-null    object \n",
      " 13  Region_and_Sales_Rep  999 non-null    object \n",
      "dtypes: float64(5), int64(1), object(8)\n",
      "memory usage: 109.5+ KB\n"
     ]
    }
   ],
   "source": [
    "df.info()\n"
   ]
  },
  {
   "cell_type": "code",
   "execution_count": 12,
   "metadata": {},
   "outputs": [
    {
     "name": "stdout",
     "output_type": "stream",
     "text": [
      "Shape of cleaned data: (1000, 14) - Remaining NAs: 19\n",
      "\n",
      "\n",
      "Dropped rows: 0\n",
      "     of which 0 duplicates. (Rows (first 150 shown): [])\n",
      "\n",
      "Dropped columns: 0\n",
      "     of which 0 single valued.     Columns: []\n",
      "Dropped missing values: 0\n",
      "Reduced memory by at least: 0.07 MB (-63.64%)\n",
      "\n"
     ]
    }
   ],
   "source": [
    "df=klib.data_cleaning(df, drop_duplicates=True)"
   ]
  },
  {
   "cell_type": "code",
   "execution_count": 13,
   "metadata": {},
   "outputs": [
    {
     "name": "stdout",
     "output_type": "stream",
     "text": [
      "<class 'pandas.core.frame.DataFrame'>\n",
      "RangeIndex: 1000 entries, 0 to 999\n",
      "Data columns (total 14 columns):\n",
      " #   Column                Non-Null Count  Dtype   \n",
      "---  ------                --------------  -----   \n",
      " 0   product_id            999 non-null    float32 \n",
      " 1   sale_date             998 non-null    string  \n",
      " 2   sales_rep             999 non-null    category\n",
      " 3   region                997 non-null    category\n",
      " 4   sales_amount          999 non-null    float32 \n",
      " 5   quantity_sold         1000 non-null   int8    \n",
      " 6   product_category      999 non-null    category\n",
      " 7   unit_cost             998 non-null    float32 \n",
      " 8   unit_price            998 non-null    float32 \n",
      " 9   customer_type         998 non-null    category\n",
      " 10  discount              1000 non-null   float32 \n",
      " 11  payment_method        999 non-null    category\n",
      " 12  sales_channel         998 non-null    category\n",
      " 13  region_and_sales_rep  999 non-null    category\n",
      "dtypes: category(7), float32(5), int8(1), string(1)\n",
      "memory usage: 37.0 KB\n"
     ]
    }
   ],
   "source": [
    "df.info()  # korib turganimizdek bu yerda memory usage ancha kamaydi"
   ]
  },
  {
   "cell_type": "markdown",
   "metadata": {},
   "source": [
    "# Datacleaner"
   ]
  },
  {
   "cell_type": "code",
   "execution_count": 22,
   "metadata": {},
   "outputs": [
    {
     "name": "stdout",
     "output_type": "stream",
     "text": [
      "Collecting data_cleaner\n",
      "  Downloading data_cleaner-0.2.0-py3-none-any.whl.metadata (957 bytes)\n",
      "Collecting cchardet==2.1.4 (from data_cleaner)\n",
      "  Downloading cchardet-2.1.4.tar.gz (648 kB)\n",
      "     ---------------------------------------- 0.0/648.4 kB ? eta -:--:--\n",
      "      --------------------------------------- 10.2/648.4 kB ? eta -:--:--\n",
      "     -- ---------------------------------- 41.0/648.4 kB 495.5 kB/s eta 0:00:02\n",
      "     --------------------- ---------------- 358.4/648.4 kB 2.8 MB/s eta 0:00:01\n",
      "     -------------------------------------  645.1/648.4 kB 3.7 MB/s eta 0:00:01\n",
      "     -------------------------------------  645.1/648.4 kB 3.7 MB/s eta 0:00:01\n",
      "     -------------------------------------  645.1/648.4 kB 3.7 MB/s eta 0:00:01\n",
      "     -------------------------------------  645.1/648.4 kB 3.7 MB/s eta 0:00:01\n",
      "     -------------------------------------  645.1/648.4 kB 3.7 MB/s eta 0:00:01\n",
      "     -------------------------------------- 648.4/648.4 kB 1.7 MB/s eta 0:00:00\n",
      "  Installing build dependencies: started\n",
      "  Installing build dependencies: finished with status 'done'\n",
      "  Getting requirements to build wheel: started\n",
      "  Getting requirements to build wheel: finished with status 'done'\n",
      "  Preparing metadata (pyproject.toml): started\n",
      "  Preparing metadata (pyproject.toml): finished with status 'done'\n",
      "Collecting geopandas==0.5.1 (from data_cleaner)\n",
      "  Downloading geopandas-0.5.1-py2.py3-none-any.whl.metadata (848 bytes)\n",
      "Collecting parsley==1.3 (from data_cleaner)\n",
      "  Downloading Parsley-1.3-py2.py3-none-any.whl.metadata (4.1 kB)\n",
      "Collecting arrow==0.14.4 (from data_cleaner)\n",
      "  Downloading arrow-0.14.4-py2.py3-none-any.whl.metadata (5.7 kB)\n",
      "Collecting Unidecode==1.1.1 (from data_cleaner)\n",
      "  Downloading Unidecode-1.1.1-py2.py3-none-any.whl.metadata (10 kB)\n",
      "Collecting unicodecsv==0.14.1 (from data_cleaner)\n",
      "  Downloading unicodecsv-0.14.1.tar.gz (10 kB)\n",
      "  Installing build dependencies: started\n",
      "  Installing build dependencies: finished with status 'done'\n",
      "  Getting requirements to build wheel: started\n",
      "  Getting requirements to build wheel: finished with status 'done'\n",
      "  Preparing metadata (pyproject.toml): started\n",
      "  Preparing metadata (pyproject.toml): finished with status 'done'\n",
      "Collecting xlrd==1.2.0 (from data_cleaner)\n",
      "  Downloading xlrd-1.2.0-py2.py3-none-any.whl.metadata (1.3 kB)\n",
      "Collecting PyCRS==1.0.1 (from data_cleaner)\n",
      "  Downloading PyCRS-1.0.1.tar.gz (32 kB)\n",
      "  Installing build dependencies: started\n",
      "  Installing build dependencies: finished with status 'done'\n",
      "  Getting requirements to build wheel: started\n",
      "  Getting requirements to build wheel: finished with status 'done'\n",
      "  Preparing metadata (pyproject.toml): started\n",
      "  Preparing metadata (pyproject.toml): finished with status 'done'\n",
      "Collecting requests==2.22.0 (from data_cleaner)\n",
      "  Downloading requests-2.22.0-py2.py3-none-any.whl.metadata (5.5 kB)\n",
      "Requirement already satisfied: python-dateutil in c:\\users\\user\\appdata\\local\\packages\\pythonsoftwarefoundation.python.3.11_qbz5n2kfra8p0\\localcache\\local-packages\\python311\\site-packages (from arrow==0.14.4->data_cleaner) (2.9.0.post0)\n",
      "Requirement already satisfied: pandas in c:\\users\\user\\appdata\\local\\packages\\pythonsoftwarefoundation.python.3.11_qbz5n2kfra8p0\\localcache\\local-packages\\python311\\site-packages (from geopandas==0.5.1->data_cleaner) (2.3.0)\n",
      "Collecting shapely (from geopandas==0.5.1->data_cleaner)\n",
      "  Downloading shapely-2.1.1-cp311-cp311-win_amd64.whl.metadata (7.0 kB)\n",
      "Collecting fiona (from geopandas==0.5.1->data_cleaner)\n",
      "  Downloading fiona-1.10.1-cp311-cp311-win_amd64.whl.metadata (58 kB)\n",
      "     ---------------------------------------- 0.0/58.1 kB ? eta -:--:--\n",
      "     ----------------------------------- ---- 51.2/58.1 kB ? eta -:--:--\n",
      "     -------------------------------------- 58.1/58.1 kB 772.0 kB/s eta 0:00:00\n",
      "Collecting pyproj (from geopandas==0.5.1->data_cleaner)\n",
      "  Downloading pyproj-3.7.2-cp311-cp311-win_amd64.whl.metadata (31 kB)\n",
      "Collecting chardet<3.1.0,>=3.0.2 (from requests==2.22.0->data_cleaner)\n",
      "  Downloading chardet-3.0.4-py2.py3-none-any.whl.metadata (3.2 kB)\n",
      "Collecting idna<2.9,>=2.5 (from requests==2.22.0->data_cleaner)\n",
      "  Downloading idna-2.8-py2.py3-none-any.whl.metadata (8.9 kB)\n",
      "Collecting urllib3!=1.25.0,!=1.25.1,<1.26,>=1.21.1 (from requests==2.22.0->data_cleaner)\n",
      "  Downloading urllib3-1.25.11-py2.py3-none-any.whl.metadata (41 kB)\n",
      "     ---------------------------------------- 0.0/41.1 kB ? eta -:--:--\n",
      "     ---------------------------------------  41.0/41.1 kB ? eta -:--:--\n",
      "     -------------------------------------- 41.1/41.1 kB 655.7 kB/s eta 0:00:00\n",
      "Collecting certifi>=2017.4.17 (from requests==2.22.0->data_cleaner)\n",
      "  Downloading certifi-2025.8.3-py3-none-any.whl.metadata (2.4 kB)\n",
      "Requirement already satisfied: attrs>=19.2.0 in c:\\users\\user\\appdata\\local\\packages\\pythonsoftwarefoundation.python.3.11_qbz5n2kfra8p0\\localcache\\local-packages\\python311\\site-packages (from fiona->geopandas==0.5.1->data_cleaner) (25.3.0)\n",
      "Collecting click~=8.0 (from fiona->geopandas==0.5.1->data_cleaner)\n",
      "  Downloading click-8.2.1-py3-none-any.whl.metadata (2.5 kB)\n",
      "Collecting click-plugins>=1.0 (from fiona->geopandas==0.5.1->data_cleaner)\n",
      "  Downloading click_plugins-1.1.1.2-py2.py3-none-any.whl.metadata (6.5 kB)\n",
      "Collecting cligj>=0.5 (from fiona->geopandas==0.5.1->data_cleaner)\n",
      "  Downloading cligj-0.7.2-py3-none-any.whl.metadata (5.0 kB)\n",
      "Requirement already satisfied: numpy>=1.23.2 in c:\\users\\user\\appdata\\local\\packages\\pythonsoftwarefoundation.python.3.11_qbz5n2kfra8p0\\localcache\\local-packages\\python311\\site-packages (from pandas->geopandas==0.5.1->data_cleaner) (2.3.1)\n",
      "Requirement already satisfied: pytz>=2020.1 in c:\\users\\user\\appdata\\local\\packages\\pythonsoftwarefoundation.python.3.11_qbz5n2kfra8p0\\localcache\\local-packages\\python311\\site-packages (from pandas->geopandas==0.5.1->data_cleaner) (2025.2)\n",
      "Requirement already satisfied: tzdata>=2022.7 in c:\\users\\user\\appdata\\local\\packages\\pythonsoftwarefoundation.python.3.11_qbz5n2kfra8p0\\localcache\\local-packages\\python311\\site-packages (from pandas->geopandas==0.5.1->data_cleaner) (2025.2)\n",
      "Requirement already satisfied: six>=1.5 in c:\\users\\user\\appdata\\local\\packages\\pythonsoftwarefoundation.python.3.11_qbz5n2kfra8p0\\localcache\\local-packages\\python311\\site-packages (from python-dateutil->arrow==0.14.4->data_cleaner) (1.17.0)\n",
      "Requirement already satisfied: colorama in c:\\users\\user\\appdata\\local\\packages\\pythonsoftwarefoundation.python.3.11_qbz5n2kfra8p0\\localcache\\local-packages\\python311\\site-packages (from click~=8.0->fiona->geopandas==0.5.1->data_cleaner) (0.4.6)\n",
      "Downloading data_cleaner-0.2.0-py3-none-any.whl (14 kB)\n",
      "Downloading arrow-0.14.4-py2.py3-none-any.whl (39 kB)\n",
      "Downloading geopandas-0.5.1-py2.py3-none-any.whl (893 kB)\n",
      "   ---------------------------------------- 0.0/893.7 kB ? eta -:--:--\n",
      "   ----------------- --------------------- 399.4/893.7 kB 12.6 MB/s eta 0:00:01\n",
      "   --------------------------------------  890.9/893.7 kB 11.3 MB/s eta 0:00:01\n",
      "   --------------------------------------  890.9/893.7 kB 11.3 MB/s eta 0:00:01\n",
      "   ---------------------------------------- 893.7/893.7 kB 6.3 MB/s eta 0:00:00\n",
      "Downloading Parsley-1.3-py2.py3-none-any.whl (88 kB)\n",
      "   ---------------------------------------- 0.0/88.9 kB ? eta -:--:--\n",
      "   ------------------------------------ --- 81.9/88.9 kB ? eta -:--:--\n",
      "   ------------------------------------ --- 81.9/88.9 kB ? eta -:--:--\n",
      "   ---------------------------------------- 88.9/88.9 kB 837.1 kB/s eta 0:00:00\n",
      "Downloading requests-2.22.0-py2.py3-none-any.whl (57 kB)\n",
      "   ---------------------------------------- 0.0/58.0 kB ? eta -:--:--\n",
      "   ----------------------------------- ---- 51.2/58.0 kB ? eta -:--:--\n",
      "   ---------------------------------------- 58.0/58.0 kB 757.3 kB/s eta 0:00:00\n",
      "Downloading Unidecode-1.1.1-py2.py3-none-any.whl (238 kB)\n",
      "   ---------------------------------------- 0.0/238.3 kB ? eta -:--:--\n",
      "   ---------------------------------------  235.5/238.3 kB 7.3 MB/s eta 0:00:01\n",
      "   ---------------------------------------- 238.3/238.3 kB 2.9 MB/s eta 0:00:00\n",
      "Downloading xlrd-1.2.0-py2.py3-none-any.whl (103 kB)\n",
      "   ---------------------------------------- 0.0/103.3 kB ? eta -:--:--\n",
      "   ---------------------------------------  102.4/103.3 kB ? eta -:--:--\n",
      "   ---------------------------------------- 103.3/103.3 kB 1.5 MB/s eta 0:00:00\n",
      "Downloading certifi-2025.8.3-py3-none-any.whl (161 kB)\n",
      "   ---------------------------------------- 0.0/161.2 kB ? eta -:--:--\n",
      "   -------------------------------------- - 153.6/161.2 kB ? eta -:--:--\n",
      "   ---------------------------------------- 161.2/161.2 kB 2.4 MB/s eta 0:00:00\n",
      "Downloading chardet-3.0.4-py2.py3-none-any.whl (133 kB)\n",
      "   ---------------------------------------- 0.0/133.4 kB ? eta -:--:--\n",
      "   ---------------------------------------  133.1/133.4 kB ? eta -:--:--\n",
      "   ---------------------------------------- 133.4/133.4 kB 2.0 MB/s eta 0:00:00\n",
      "Downloading idna-2.8-py2.py3-none-any.whl (58 kB)\n",
      "   ---------------------------------------- 0.0/58.6 kB ? eta -:--:--\n",
      "   ---------------------------------- ----- 51.2/58.6 kB ? eta -:--:--\n",
      "   ---------------------------------------- 58.6/58.6 kB 767.5 kB/s eta 0:00:00\n",
      "Downloading urllib3-1.25.11-py2.py3-none-any.whl (127 kB)\n",
      "   ---------------------------------------- 0.0/128.0 kB ? eta -:--:--\n",
      "   -------------------------------------- - 122.9/128.0 kB ? eta -:--:--\n",
      "   ---------------------------------------- 128.0/128.0 kB 1.9 MB/s eta 0:00:00\n",
      "Downloading fiona-1.10.1-cp311-cp311-win_amd64.whl (24.5 MB)\n",
      "   ---------------------------------------- 0.0/24.5 MB ? eta -:--:--\n",
      "    --------------------------------------- 0.6/24.5 MB 12.2 MB/s eta 0:00:02\n",
      "   - -------------------------------------- 1.0/24.5 MB 11.0 MB/s eta 0:00:03\n",
      "   -- ------------------------------------- 1.4/24.5 MB 10.2 MB/s eta 0:00:03\n",
      "   --- ------------------------------------ 1.9/24.5 MB 11.1 MB/s eta 0:00:03\n",
      "   --- ------------------------------------ 2.4/24.5 MB 10.3 MB/s eta 0:00:03\n",
      "   ---- ----------------------------------- 3.0/24.5 MB 10.5 MB/s eta 0:00:03\n",
      "   ----- ---------------------------------- 3.5/24.5 MB 10.3 MB/s eta 0:00:03\n",
      "   ------ --------------------------------- 4.1/24.5 MB 10.9 MB/s eta 0:00:02\n",
      "   ------- -------------------------------- 4.6/24.5 MB 10.6 MB/s eta 0:00:02\n",
      "   -------- ------------------------------- 5.1/24.5 MB 10.5 MB/s eta 0:00:02\n",
      "   --------- ------------------------------ 5.7/24.5 MB 10.7 MB/s eta 0:00:02\n",
      "   ---------- ----------------------------- 6.2/24.5 MB 10.7 MB/s eta 0:00:02\n",
      "   ---------- ----------------------------- 6.7/24.5 MB 10.4 MB/s eta 0:00:02\n",
      "   ----------- ---------------------------- 7.2/24.5 MB 10.5 MB/s eta 0:00:02\n",
      "   ------------ --------------------------- 7.7/24.5 MB 10.7 MB/s eta 0:00:02\n",
      "   ------------- -------------------------- 8.3/24.5 MB 10.6 MB/s eta 0:00:02\n",
      "   -------------- ------------------------- 8.7/24.5 MB 10.3 MB/s eta 0:00:02\n",
      "   --------------- ------------------------ 9.2/24.5 MB 10.5 MB/s eta 0:00:02\n",
      "   --------------- ------------------------ 9.7/24.5 MB 10.5 MB/s eta 0:00:02\n",
      "   ---------------- ----------------------- 10.3/24.5 MB 10.4 MB/s eta 0:00:02\n",
      "   ----------------- ---------------------- 10.8/24.5 MB 10.4 MB/s eta 0:00:02\n",
      "   ------------------ --------------------- 11.4/24.5 MB 10.6 MB/s eta 0:00:02\n",
      "   ------------------- -------------------- 11.9/24.5 MB 10.6 MB/s eta 0:00:02\n",
      "   -------------------- ------------------- 12.5/24.5 MB 10.7 MB/s eta 0:00:02\n",
      "   --------------------- ------------------ 13.0/24.5 MB 10.7 MB/s eta 0:00:02\n",
      "   ---------------------- ----------------- 13.5/24.5 MB 10.6 MB/s eta 0:00:02\n",
      "   ---------------------- ----------------- 14.1/24.5 MB 10.4 MB/s eta 0:00:02\n",
      "   ----------------------- ---------------- 14.5/24.5 MB 10.6 MB/s eta 0:00:01\n",
      "   ------------------------ --------------- 15.1/24.5 MB 10.4 MB/s eta 0:00:01\n",
      "   ------------------------- -------------- 15.6/24.5 MB 10.4 MB/s eta 0:00:01\n",
      "   -------------------------- ------------- 16.1/24.5 MB 10.6 MB/s eta 0:00:01\n",
      "   --------------------------- ------------ 16.6/24.5 MB 10.6 MB/s eta 0:00:01\n",
      "   ---------------------------- ----------- 17.2/24.5 MB 10.6 MB/s eta 0:00:01\n",
      "   ---------------------------- ----------- 17.7/24.5 MB 10.6 MB/s eta 0:00:01\n",
      "   ----------------------------- ---------- 18.3/24.5 MB 10.6 MB/s eta 0:00:01\n",
      "   ------------------------------ --------- 18.8/24.5 MB 10.6 MB/s eta 0:00:01\n",
      "   ------------------------------- -------- 19.4/24.5 MB 10.6 MB/s eta 0:00:01\n",
      "   -------------------------------- ------- 19.9/24.5 MB 10.6 MB/s eta 0:00:01\n",
      "   --------------------------------- ------ 20.4/24.5 MB 10.6 MB/s eta 0:00:01\n",
      "   ---------------------------------- ----- 20.9/24.5 MB 10.7 MB/s eta 0:00:01\n",
      "   ----------------------------------- ---- 21.5/24.5 MB 10.7 MB/s eta 0:00:01\n",
      "   ----------------------------------- ---- 21.9/24.5 MB 10.6 MB/s eta 0:00:01\n",
      "   ------------------------------------ --- 22.5/24.5 MB 10.6 MB/s eta 0:00:01\n",
      "   ------------------------------------- -- 23.0/24.5 MB 10.4 MB/s eta 0:00:01\n",
      "   -------------------------------------- - 23.6/24.5 MB 10.6 MB/s eta 0:00:01\n",
      "   ---------------------------------------  24.2/24.5 MB 10.7 MB/s eta 0:00:01\n",
      "   ---------------------------------------  24.5/24.5 MB 10.6 MB/s eta 0:00:01\n",
      "   ---------------------------------------  24.5/24.5 MB 10.6 MB/s eta 0:00:01\n",
      "   ---------------------------------------  24.5/24.5 MB 10.6 MB/s eta 0:00:01\n",
      "   ---------------------------------------- 24.5/24.5 MB 9.5 MB/s eta 0:00:00\n",
      "Downloading pyproj-3.7.2-cp311-cp311-win_amd64.whl (6.3 MB)\n",
      "   ---------------------------------------- 0.0/6.3 MB ? eta -:--:--\n",
      "   --- ------------------------------------ 0.6/6.3 MB 18.2 MB/s eta 0:00:01\n",
      "   ------- -------------------------------- 1.1/6.3 MB 14.3 MB/s eta 0:00:01\n",
      "   ---------- ----------------------------- 1.7/6.3 MB 11.8 MB/s eta 0:00:01\n",
      "   -------------- ------------------------- 2.3/6.3 MB 11.9 MB/s eta 0:00:01\n",
      "   ---------------- ----------------------- 2.7/6.3 MB 11.4 MB/s eta 0:00:01\n",
      "   -------------------- ------------------- 3.3/6.3 MB 11.6 MB/s eta 0:00:01\n",
      "   ------------------------ --------------- 3.8/6.3 MB 11.7 MB/s eta 0:00:01\n",
      "   --------------------------- ------------ 4.4/6.3 MB 11.2 MB/s eta 0:00:01\n",
      "   ------------------------------ --------- 4.9/6.3 MB 11.6 MB/s eta 0:00:01\n",
      "   --------------------------------- ------ 5.4/6.3 MB 11.4 MB/s eta 0:00:01\n",
      "   ------------------------------------- -- 5.9/6.3 MB 11.4 MB/s eta 0:00:01\n",
      "   ---------------------------------------  6.3/6.3 MB 11.2 MB/s eta 0:00:01\n",
      "   ---------------------------------------  6.3/6.3 MB 11.2 MB/s eta 0:00:01\n",
      "   ---------------------------------------- 6.3/6.3 MB 10.4 MB/s eta 0:00:00\n",
      "Downloading shapely-2.1.1-cp311-cp311-win_amd64.whl (1.7 MB)\n",
      "   ---------------------------------------- 0.0/1.7 MB ? eta -:--:--\n",
      "   -------------- ------------------------- 0.6/1.7 MB 13.1 MB/s eta 0:00:01\n",
      "   ------------------------- -------------- 1.1/1.7 MB 11.6 MB/s eta 0:00:01\n",
      "   ------------------------------------- -- 1.6/1.7 MB 11.4 MB/s eta 0:00:01\n",
      "   ---------------------------------------  1.7/1.7 MB 10.8 MB/s eta 0:00:01\n",
      "   ---------------------------------------- 1.7/1.7 MB 7.8 MB/s eta 0:00:00\n",
      "Downloading click-8.2.1-py3-none-any.whl (102 kB)\n",
      "   ---------------------------------------- 0.0/102.2 kB ? eta -:--:--\n",
      "   ------------------------------------ --- 92.2/102.2 kB ? eta -:--:--\n",
      "   ---------------------------------------- 102.2/102.2 kB 1.5 MB/s eta 0:00:00\n",
      "Downloading click_plugins-1.1.1.2-py2.py3-none-any.whl (11 kB)\n",
      "Downloading cligj-0.7.2-py3-none-any.whl (7.1 kB)\n",
      "Building wheels for collected packages: cchardet, PyCRS, unicodecsv\n",
      "  Building wheel for cchardet (pyproject.toml): started\n",
      "  Building wheel for cchardet (pyproject.toml): finished with status 'error'\n",
      "  Building wheel for PyCRS (pyproject.toml): started\n",
      "  Building wheel for PyCRS (pyproject.toml): finished with status 'done'\n",
      "  Created wheel for PyCRS: filename=pycrs-1.0.1-py3-none-any.whl size=29961 sha256=253e83ceee5874750a9375e89004dac51dd042026abaf25d5476e6e07006cf89\n",
      "  Stored in directory: c:\\users\\user\\appdata\\local\\pip\\cache\\wheels\\f0\\23\\67\\5bbff5a951732ca8a6a104c9421943cf60c85744ace772e645\n",
      "  Building wheel for unicodecsv (pyproject.toml): started\n",
      "  Building wheel for unicodecsv (pyproject.toml): finished with status 'done'\n",
      "  Created wheel for unicodecsv: filename=unicodecsv-0.14.1-py3-none-any.whl size=10806 sha256=114357b2fb9bc48188e3ab1838ca0cee02987716d247833871a75abf4c1b1e8d\n",
      "  Stored in directory: c:\\users\\user\\appdata\\local\\pip\\cache\\wheels\\ec\\03\\6f\\d2e0162d94c0d451556fa43dd4d5531457245c34a36b41ef4a\n",
      "Successfully built PyCRS unicodecsv\n",
      "Failed to build cchardet\n",
      "Note: you may need to restart the kernel to use updated packages.\n"
     ]
    },
    {
     "name": "stderr",
     "output_type": "stream",
     "text": [
      "  error: subprocess-exited-with-error\n",
      "  \n",
      "  × Building wheel for cchardet (pyproject.toml) did not run successfully.\n",
      "  │ exit code: 1\n",
      "  ╰─> [24 lines of output]\n",
      "      C:\\Users\\User\\AppData\\Local\\Temp\\pip-build-env-fgpqw8zs\\overlay\\Lib\\site-packages\\setuptools\\dist.py:759: SetuptoolsDeprecationWarning: License classifiers are deprecated.\n",
      "      !!\n",
      "      \n",
      "              ********************************************************************************\n",
      "              Please consider removing the following classifiers in favor of a SPDX license expression:\n",
      "      \n",
      "              License :: OSI Approved :: Mozilla Public License 1.1 (MPL 1.1)\n",
      "              License :: OSI Approved :: GNU General Public License (GPL)\n",
      "              License :: OSI Approved :: GNU Library or Lesser General Public License (LGPL)\n",
      "      \n",
      "              See https://packaging.python.org/en/latest/guides/writing-pyproject-toml/#license for details.\n",
      "              ********************************************************************************\n",
      "      \n",
      "      !!\n",
      "        self._finalize_license_expression()\n",
      "      running bdist_wheel\n",
      "      running build\n",
      "      running build_py\n",
      "      creating build\\lib.win-amd64-cpython-311\\cchardet\n",
      "      copying src\\cchardet\\version.py -> build\\lib.win-amd64-cpython-311\\cchardet\n",
      "      copying src\\cchardet\\__init__.py -> build\\lib.win-amd64-cpython-311\\cchardet\n",
      "      running build_ext\n",
      "      building 'cchardet._cchardet' extension\n",
      "      error: Microsoft Visual C++ 14.0 or greater is required. Get it with \"Microsoft C++ Build Tools\": https://visualstudio.microsoft.com/visual-cpp-build-tools/\n",
      "      [end of output]\n",
      "  \n",
      "  note: This error originates from a subprocess, and is likely not a problem with pip.\n",
      "  ERROR: Failed building wheel for cchardet\n",
      "ERROR: Could not build wheels for cchardet, which is required to install pyproject.toml-based projects\n",
      "\n",
      "[notice] A new release of pip is available: 24.0 -> 25.2\n",
      "[notice] To update, run: C:\\Users\\User\\AppData\\Local\\Microsoft\\WindowsApps\\PythonSoftwareFoundation.Python.3.11_qbz5n2kfra8p0\\python.exe -m pip install --upgrade pip\n"
     ]
    }
   ],
   "source": [
    "pip install data_cleaner"
   ]
  },
  {
   "cell_type": "code",
   "execution_count": 24,
   "metadata": {},
   "outputs": [
    {
     "ename": "ModuleNotFoundError",
     "evalue": "No module named 'data_cleaner'",
     "output_type": "error",
     "traceback": [
      "\u001b[31m---------------------------------------------------------------------------\u001b[39m",
      "\u001b[31mModuleNotFoundError\u001b[39m                       Traceback (most recent call last)",
      "\u001b[36mCell\u001b[39m\u001b[36m \u001b[39m\u001b[32mIn[24]\u001b[39m\u001b[32m, line 1\u001b[39m\n\u001b[32m----> \u001b[39m\u001b[32m1\u001b[39m \u001b[38;5;28;01mfrom\u001b[39;00m\u001b[38;5;250m \u001b[39m\u001b[34;01mdata_cleaner\u001b[39;00m\u001b[38;5;250m \u001b[39m\u001b[38;5;28;01mimport\u001b[39;00m autoclean\n",
      "\u001b[31mModuleNotFoundError\u001b[39m: No module named 'data_cleaner'"
     ]
    }
   ],
   "source": [
    "from data_cleaner import autoclean"
   ]
  },
  {
   "cell_type": "code",
   "execution_count": 14,
   "metadata": {},
   "outputs": [
    {
     "name": "stdout",
     "output_type": "stream",
     "text": [
      "Collecting tabulate\n",
      "  Downloading tabulate-0.9.0-py3-none-any.whl.metadata (34 kB)\n",
      "Downloading tabulate-0.9.0-py3-none-any.whl (35 kB)\n",
      "Installing collected packages: tabulate\n",
      "Successfully installed tabulate-0.9.0\n",
      "Note: you may need to restart the kernel to use updated packages.\n"
     ]
    },
    {
     "name": "stderr",
     "output_type": "stream",
     "text": [
      "  WARNING: The script tabulate.exe is installed in 'c:\\Users\\User\\AppData\\Local\\Programs\\Python\\Python313\\Scripts' which is not on PATH.\n",
      "  Consider adding this directory to PATH or, if you prefer to suppress this warning, use --no-warn-script-location.\n",
      "\n",
      "[notice] A new release of pip is available: 24.3.1 -> 25.0.1\n",
      "[notice] To update, run: python.exe -m pip install --upgrade pip\n"
     ]
    }
   ],
   "source": [
    "pip install tabulate"
   ]
  },
  {
   "cell_type": "code",
   "execution_count": 15,
   "metadata": {},
   "outputs": [],
   "source": [
    "from tabulate import tabulate"
   ]
  },
  {
   "cell_type": "code",
   "execution_count": 20,
   "metadata": {},
   "outputs": [],
   "source": [
    "data=[\n",
    "    ['taxi',15,5000 ],\n",
    "    ['scooter',20,2000],\n",
    "    ['bycicle',30,'free']\n",
    "]\n",
    "headers=['transport type','time','price']"
   ]
  },
  {
   "cell_type": "code",
   "execution_count": null,
   "metadata": {},
   "outputs": [],
   "source": [
    "table=tabulate(data,headers,tablefmt='grid')    # table format grid qilamiz"
   ]
  },
  {
   "cell_type": "code",
   "execution_count": 22,
   "metadata": {},
   "outputs": [
    {
     "name": "stdout",
     "output_type": "stream",
     "text": [
      "+------------------+--------+---------+\n",
      "| transport type   |   time | price   |\n",
      "+==================+========+=========+\n",
      "| taxi             |     15 | 5000    |\n",
      "+------------------+--------+---------+\n",
      "| scooter          |     20 | 2000    |\n",
      "+------------------+--------+---------+\n",
      "| bycicle          |     30 | free    |\n",
      "+------------------+--------+---------+\n"
     ]
    }
   ],
   "source": [
    "print(table)"
   ]
  }
 ],
 "metadata": {
  "kernelspec": {
   "display_name": "Python 3",
   "language": "python",
   "name": "python3"
  },
  "language_info": {
   "codemirror_mode": {
    "name": "ipython",
    "version": 3
   },
   "file_extension": ".py",
   "mimetype": "text/x-python",
   "name": "python",
   "nbconvert_exporter": "python",
   "pygments_lexer": "ipython3",
   "version": "3.11.9"
  }
 },
 "nbformat": 4,
 "nbformat_minor": 2
}
